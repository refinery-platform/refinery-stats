{
 "cells": [
  {
   "cell_type": "code",
   "execution_count": 1,
   "metadata": {},
   "outputs": [],
   "source": [
    "import altair as alt\n",
    "import pandas as pd\n",
    "import numpy as np"
   ]
  },
  {
   "cell_type": "code",
   "execution_count": 13,
   "metadata": {},
   "outputs": [
    {
     "data": {
      "text/html": [
       "<div>\n",
       "<style scoped>\n",
       "    .dataframe tbody tr th:only-of-type {\n",
       "        vertical-align: middle;\n",
       "    }\n",
       "\n",
       "    .dataframe tbody tr th {\n",
       "        vertical-align: top;\n",
       "    }\n",
       "\n",
       "    .dataframe thead th {\n",
       "        text-align: right;\n",
       "    }\n",
       "</style>\n",
       "<table border=\"1\" class=\"dataframe\">\n",
       "  <thead>\n",
       "    <tr style=\"text-align: right;\">\n",
       "      <th></th>\n",
       "      <th>datasets_shared</th>\n",
       "      <th>datasets_uploaded</th>\n",
       "      <th>groups_created</th>\n",
       "      <th>run_date</th>\n",
       "      <th>total_user_logins</th>\n",
       "      <th>total_visualization_launches</th>\n",
       "      <th>total_workflow_launches</th>\n",
       "      <th>users_created</th>\n",
       "      <th>unique_user_logins</th>\n",
       "    </tr>\n",
       "  </thead>\n",
       "  <tbody>\n",
       "    <tr>\n",
       "      <th>1</th>\n",
       "      <td>0</td>\n",
       "      <td>2</td>\n",
       "      <td>1</td>\n",
       "      <td>2018-05-30T22:35:13.946629+00:00</td>\n",
       "      <td>11</td>\n",
       "      <td>2</td>\n",
       "      <td>0</td>\n",
       "      <td>24</td>\n",
       "      <td>6</td>\n",
       "    </tr>\n",
       "    <tr>\n",
       "      <th>2</th>\n",
       "      <td>0</td>\n",
       "      <td>0</td>\n",
       "      <td>1</td>\n",
       "      <td>2018-05-31T22:35:14.001731+00:00</td>\n",
       "      <td>6</td>\n",
       "      <td>1</td>\n",
       "      <td>2</td>\n",
       "      <td>13</td>\n",
       "      <td>5</td>\n",
       "    </tr>\n",
       "    <tr>\n",
       "      <th>3</th>\n",
       "      <td>0</td>\n",
       "      <td>0</td>\n",
       "      <td>0</td>\n",
       "      <td>2018-06-01T22:35:13.946843+00:00</td>\n",
       "      <td>1</td>\n",
       "      <td>3</td>\n",
       "      <td>0</td>\n",
       "      <td>18</td>\n",
       "      <td>1</td>\n",
       "    </tr>\n",
       "    <tr>\n",
       "      <th>4</th>\n",
       "      <td>0</td>\n",
       "      <td>0</td>\n",
       "      <td>0</td>\n",
       "      <td>2018-06-02T22:35:13.943548+00:00</td>\n",
       "      <td>0</td>\n",
       "      <td>0</td>\n",
       "      <td>0</td>\n",
       "      <td>17</td>\n",
       "      <td>0</td>\n",
       "    </tr>\n",
       "    <tr>\n",
       "      <th>5</th>\n",
       "      <td>0</td>\n",
       "      <td>0</td>\n",
       "      <td>0</td>\n",
       "      <td>2018-06-03T22:35:13.945929+00:00</td>\n",
       "      <td>0</td>\n",
       "      <td>0</td>\n",
       "      <td>0</td>\n",
       "      <td>7</td>\n",
       "      <td>0</td>\n",
       "    </tr>\n",
       "  </tbody>\n",
       "</table>\n",
       "</div>"
      ],
      "text/plain": [
       "   datasets_shared  datasets_uploaded  groups_created  \\\n",
       "1                0                  2               1   \n",
       "2                0                  0               1   \n",
       "3                0                  0               0   \n",
       "4                0                  0               0   \n",
       "5                0                  0               0   \n",
       "\n",
       "                           run_date  total_user_logins  \\\n",
       "1  2018-05-30T22:35:13.946629+00:00                 11   \n",
       "2  2018-05-31T22:35:14.001731+00:00                  6   \n",
       "3  2018-06-01T22:35:13.946843+00:00                  1   \n",
       "4  2018-06-02T22:35:13.943548+00:00                  0   \n",
       "5  2018-06-03T22:35:13.945929+00:00                  0   \n",
       "\n",
       "   total_visualization_launches  total_workflow_launches  users_created  \\\n",
       "1                             2                        0             24   \n",
       "2                             1                        2             13   \n",
       "3                             3                        0             18   \n",
       "4                             0                        0             17   \n",
       "5                             0                        0              7   \n",
       "\n",
       "   unique_user_logins  \n",
       "1                   6  \n",
       "2                   5  \n",
       "3                   1  \n",
       "4                   0  \n",
       "5                   0  "
      ]
     },
     "execution_count": 13,
     "metadata": {},
     "output_type": "execute_result"
    }
   ],
   "source": [
    "data = pd.read_csv('Refinery_Site_Stats.csv').drop('ID', axis=1).drop([0])\n",
    "data.columns = data.columns.str.replace(' ', '_')\n",
    "data.head()"
   ]
  },
  {
   "cell_type": "code",
   "execution_count": 14,
   "metadata": {},
   "outputs": [],
   "source": [
    "brush = alt.selection_interval(encodings=['x'])\n",
    "nearest = alt.selection_single(nearest=True, on='mouseover', encodings=['x'], empty='none')\n",
    "\n",
    "base = alt.Chart(data).encode(\n",
    "    alt.X('run_date:T', title=None)\n",
    ")\n",
    "\n",
    "selectors = base.mark_point().encode(\n",
    "    opacity=alt.value(0),\n",
    ").properties(\n",
    "    selection=nearest\n",
    ").transform_filter(\n",
    "    brush\n",
    ")\n",
    "\n",
    "rules = base.mark_rule(color='gray').transform_filter(\n",
    "    nearest\n",
    ").transform_filter(\n",
    "    brush\n",
    ")"
   ]
  },
  {
   "cell_type": "code",
   "execution_count": 18,
   "metadata": {},
   "outputs": [],
   "source": [
    "def create_panel(view, w, h):\n",
    "    \n",
    "    line = base.mark_line(interpolate='step-before').encode(\n",
    "        alt.Y(view + ':Q', title=None),\n",
    "    ).transform_filter(\n",
    "        brush\n",
    "    )\n",
    "\n",
    "    points = line.mark_point().encode(\n",
    "        opacity=alt.condition(nearest, alt.value(1), alt.value(0))\n",
    "    )\n",
    "\n",
    "    text = line.mark_text(align='left', dx=5, dy=-5).encode(\n",
    "        text=alt.condition(nearest, view + ':Q', alt.value(' '))\n",
    "    ) \n",
    "\n",
    "    panel = alt.layer(line, selectors, points, rules, text, width=w, height=h, title=view.replace('_', ' '))\n",
    "    \n",
    "    return panel"
   ]
  },
  {
   "cell_type": "code",
   "execution_count": 22,
   "metadata": {},
   "outputs": [
    {
     "data": {
      "application/vnd.vegalite.v2+json": {
       "$schema": "https://vega.github.io/schema/vega-lite/v2.6.0.json",
       "config": {
        "view": {
         "height": 300,
         "width": 400
        }
       },
       "datasets": {
        "data-46457ed981f4e11990df50eaef0d8dce": [
         {
          "datasets_shared": 0,
          "datasets_uploaded": 2,
          "groups_created": 1,
          "run_date": "2018-05-30T22:35:13.946629+00:00",
          "total_user_logins": 11,
          "total_visualization_launches": 2,
          "total_workflow_launches": 0,
          "unique_user_logins": 6,
          "users_created": 24
         },
         {
          "datasets_shared": 0,
          "datasets_uploaded": 0,
          "groups_created": 1,
          "run_date": "2018-05-31T22:35:14.001731+00:00",
          "total_user_logins": 6,
          "total_visualization_launches": 1,
          "total_workflow_launches": 2,
          "unique_user_logins": 5,
          "users_created": 13
         },
         {
          "datasets_shared": 0,
          "datasets_uploaded": 0,
          "groups_created": 0,
          "run_date": "2018-06-01T22:35:13.946843+00:00",
          "total_user_logins": 1,
          "total_visualization_launches": 3,
          "total_workflow_launches": 0,
          "unique_user_logins": 1,
          "users_created": 18
         },
         {
          "datasets_shared": 0,
          "datasets_uploaded": 0,
          "groups_created": 0,
          "run_date": "2018-06-02T22:35:13.943548+00:00",
          "total_user_logins": 0,
          "total_visualization_launches": 0,
          "total_workflow_launches": 0,
          "unique_user_logins": 0,
          "users_created": 17
         },
         {
          "datasets_shared": 0,
          "datasets_uploaded": 0,
          "groups_created": 0,
          "run_date": "2018-06-03T22:35:13.945929+00:00",
          "total_user_logins": 0,
          "total_visualization_launches": 0,
          "total_workflow_launches": 0,
          "unique_user_logins": 0,
          "users_created": 7
         },
         {
          "datasets_shared": 0,
          "datasets_uploaded": 0,
          "groups_created": 0,
          "run_date": "2018-06-04T22:35:13.944559+00:00",
          "total_user_logins": 2,
          "total_visualization_launches": 0,
          "total_workflow_launches": 0,
          "unique_user_logins": 1,
          "users_created": 4
         },
         {
          "datasets_shared": 0,
          "datasets_uploaded": 0,
          "groups_created": 0,
          "run_date": "2018-06-05T22:35:13.974626+00:00",
          "total_user_logins": 1,
          "total_visualization_launches": 0,
          "total_workflow_launches": 0,
          "unique_user_logins": 1,
          "users_created": 7
         },
         {
          "datasets_shared": 0,
          "datasets_uploaded": 0,
          "groups_created": 0,
          "run_date": "2018-06-06T22:35:13.945356+00:00",
          "total_user_logins": 0,
          "total_visualization_launches": 0,
          "total_workflow_launches": 0,
          "unique_user_logins": 0,
          "users_created": 7
         },
         {
          "datasets_shared": 0,
          "datasets_uploaded": 0,
          "groups_created": 0,
          "run_date": "2018-06-07T22:35:13.979953+00:00",
          "total_user_logins": 1,
          "total_visualization_launches": 0,
          "total_workflow_launches": 0,
          "unique_user_logins": 1,
          "users_created": 13
         },
         {
          "datasets_shared": 0,
          "datasets_uploaded": 0,
          "groups_created": 0,
          "run_date": "2018-06-08T22:35:13.995964+00:00",
          "total_user_logins": 3,
          "total_visualization_launches": 0,
          "total_workflow_launches": 0,
          "unique_user_logins": 2,
          "users_created": 7
         },
         {
          "datasets_shared": 0,
          "datasets_uploaded": 0,
          "groups_created": 0,
          "run_date": "2018-06-09T22:35:13.974909+00:00",
          "total_user_logins": 0,
          "total_visualization_launches": 0,
          "total_workflow_launches": 0,
          "unique_user_logins": 0,
          "users_created": 17
         },
         {
          "datasets_shared": 0,
          "datasets_uploaded": 0,
          "groups_created": 0,
          "run_date": "2018-06-10T22:35:13.979218+00:00",
          "total_user_logins": 1,
          "total_visualization_launches": 0,
          "total_workflow_launches": 0,
          "unique_user_logins": 1,
          "users_created": 15
         },
         {
          "datasets_shared": 0,
          "datasets_uploaded": 0,
          "groups_created": 0,
          "run_date": "2018-06-11T22:35:14.031114+00:00",
          "total_user_logins": 5,
          "total_visualization_launches": 0,
          "total_workflow_launches": 0,
          "unique_user_logins": 3,
          "users_created": 5
         },
         {
          "datasets_shared": 0,
          "datasets_uploaded": 0,
          "groups_created": 0,
          "run_date": "2018-06-12T22:35:13.989674+00:00",
          "total_user_logins": 3,
          "total_visualization_launches": 4,
          "total_workflow_launches": 0,
          "unique_user_logins": 3,
          "users_created": 6
         },
         {
          "datasets_shared": 1,
          "datasets_uploaded": 2,
          "groups_created": 0,
          "run_date": "2018-06-13T22:35:14.016005+00:00",
          "total_user_logins": 5,
          "total_visualization_launches": 1,
          "total_workflow_launches": 0,
          "unique_user_logins": 5,
          "users_created": 6
         },
         {
          "datasets_shared": 0,
          "datasets_uploaded": 0,
          "groups_created": 0,
          "run_date": "2018-06-14T22:35:14.001427+00:00",
          "total_user_logins": 3,
          "total_visualization_launches": 0,
          "total_workflow_launches": 0,
          "unique_user_logins": 3,
          "users_created": 8
         },
         {
          "datasets_shared": 0,
          "datasets_uploaded": 1,
          "groups_created": 0,
          "run_date": "2018-06-15T22:35:14.053448+00:00",
          "total_user_logins": 2,
          "total_visualization_launches": 0,
          "total_workflow_launches": 0,
          "unique_user_logins": 2,
          "users_created": 16
         },
         {
          "datasets_shared": 0,
          "datasets_uploaded": 0,
          "groups_created": 0,
          "run_date": "2018-06-16T22:35:14.031713+00:00",
          "total_user_logins": 2,
          "total_visualization_launches": 0,
          "total_workflow_launches": 0,
          "unique_user_logins": 1,
          "users_created": 7
         },
         {
          "datasets_shared": 0,
          "datasets_uploaded": 0,
          "groups_created": 0,
          "run_date": "2018-06-17T22:35:14.021052+00:00",
          "total_user_logins": 1,
          "total_visualization_launches": 0,
          "total_workflow_launches": 0,
          "unique_user_logins": 1,
          "users_created": 6
         },
         {
          "datasets_shared": 1,
          "datasets_uploaded": 2,
          "groups_created": 1,
          "run_date": "2018-06-18T22:35:14.098188+00:00",
          "total_user_logins": 2,
          "total_visualization_launches": 0,
          "total_workflow_launches": 0,
          "unique_user_logins": 2,
          "users_created": 6
         },
         {
          "datasets_shared": 0,
          "datasets_uploaded": 0,
          "groups_created": 0,
          "run_date": "2018-06-19T22:35:14.022721+00:00",
          "total_user_logins": 2,
          "total_visualization_launches": 0,
          "total_workflow_launches": 0,
          "unique_user_logins": 1,
          "users_created": 7
         },
         {
          "datasets_shared": 0,
          "datasets_uploaded": 0,
          "groups_created": 0,
          "run_date": "2018-06-20T22:35:14.036922+00:00",
          "total_user_logins": 3,
          "total_visualization_launches": 0,
          "total_workflow_launches": 0,
          "unique_user_logins": 3,
          "users_created": 8
         },
         {
          "datasets_shared": 0,
          "datasets_uploaded": 0,
          "groups_created": 0,
          "run_date": "2018-06-21T22:35:14.031121+00:00",
          "total_user_logins": 1,
          "total_visualization_launches": 0,
          "total_workflow_launches": 0,
          "unique_user_logins": 1,
          "users_created": 9
         },
         {
          "datasets_shared": 0,
          "datasets_uploaded": 0,
          "groups_created": 0,
          "run_date": "2018-06-22T22:35:14.039178+00:00",
          "total_user_logins": 1,
          "total_visualization_launches": 0,
          "total_workflow_launches": 0,
          "unique_user_logins": 1,
          "users_created": 10
         },
         {
          "datasets_shared": 0,
          "datasets_uploaded": 0,
          "groups_created": 0,
          "run_date": "2018-06-23T22:35:14.068832+00:00",
          "total_user_logins": 1,
          "total_visualization_launches": 0,
          "total_workflow_launches": 0,
          "unique_user_logins": 1,
          "users_created": 7
         },
         {
          "datasets_shared": 0,
          "datasets_uploaded": 0,
          "groups_created": 0,
          "run_date": "2018-06-24T22:35:14.055277+00:00",
          "total_user_logins": 0,
          "total_visualization_launches": 0,
          "total_workflow_launches": 0,
          "unique_user_logins": 0,
          "users_created": 11
         },
         {
          "datasets_shared": 0,
          "datasets_uploaded": 0,
          "groups_created": 0,
          "run_date": "2018-06-25T22:35:14.049490+00:00",
          "total_user_logins": 2,
          "total_visualization_launches": 0,
          "total_workflow_launches": 0,
          "unique_user_logins": 2,
          "users_created": 10
         },
         {
          "datasets_shared": 0,
          "datasets_uploaded": 0,
          "groups_created": 0,
          "run_date": "2018-06-26T22:35:14.068846+00:00",
          "total_user_logins": 2,
          "total_visualization_launches": 1,
          "total_workflow_launches": 0,
          "unique_user_logins": 2,
          "users_created": 9
         },
         {
          "datasets_shared": 0,
          "datasets_uploaded": 0,
          "groups_created": 0,
          "run_date": "2018-06-27T22:35:14.123890+00:00",
          "total_user_logins": 4,
          "total_visualization_launches": 0,
          "total_workflow_launches": 0,
          "unique_user_logins": 3,
          "users_created": 11
         },
         {
          "datasets_shared": 0,
          "datasets_uploaded": 0,
          "groups_created": 0,
          "run_date": "2018-06-28T22:35:14.117049+00:00",
          "total_user_logins": 4,
          "total_visualization_launches": 0,
          "total_workflow_launches": 0,
          "unique_user_logins": 3,
          "users_created": 10
         },
         {
          "datasets_shared": 0,
          "datasets_uploaded": 0,
          "groups_created": 0,
          "run_date": "2018-06-29T22:35:14.084264+00:00",
          "total_user_logins": 7,
          "total_visualization_launches": 0,
          "total_workflow_launches": 0,
          "unique_user_logins": 2,
          "users_created": 9
         },
         {
          "datasets_shared": 0,
          "datasets_uploaded": 0,
          "groups_created": 0,
          "run_date": "2018-06-30T22:35:14.075795+00:00",
          "total_user_logins": 0,
          "total_visualization_launches": 0,
          "total_workflow_launches": 0,
          "unique_user_logins": 0,
          "users_created": 28
         },
         {
          "datasets_shared": 0,
          "datasets_uploaded": 0,
          "groups_created": 0,
          "run_date": "2018-07-01T22:35:14.075132+00:00",
          "total_user_logins": 2,
          "total_visualization_launches": 1,
          "total_workflow_launches": 0,
          "unique_user_logins": 2,
          "users_created": 8
         },
         {
          "datasets_shared": 0,
          "datasets_uploaded": 0,
          "groups_created": 0,
          "run_date": "2018-07-02T22:35:14.114229+00:00",
          "total_user_logins": 2,
          "total_visualization_launches": 0,
          "total_workflow_launches": 0,
          "unique_user_logins": 2,
          "users_created": 6
         },
         {
          "datasets_shared": 1,
          "datasets_uploaded": 1,
          "groups_created": 0,
          "run_date": "2018-07-03T22:35:14.153178+00:00",
          "total_user_logins": 2,
          "total_visualization_launches": 3,
          "total_workflow_launches": 0,
          "unique_user_logins": 2,
          "users_created": 15
         },
         {
          "datasets_shared": 0,
          "datasets_uploaded": 0,
          "groups_created": 0,
          "run_date": "2018-07-04T22:35:14.079133+00:00",
          "total_user_logins": 0,
          "total_visualization_launches": 0,
          "total_workflow_launches": 0,
          "unique_user_logins": 0,
          "users_created": 17
         },
         {
          "datasets_shared": 0,
          "datasets_uploaded": 0,
          "groups_created": 0,
          "run_date": "2018-07-05T22:35:14.085075+00:00",
          "total_user_logins": 4,
          "total_visualization_launches": 0,
          "total_workflow_launches": 0,
          "unique_user_logins": 3,
          "users_created": 8
         },
         {
          "datasets_shared": 0,
          "datasets_uploaded": 1,
          "groups_created": 0,
          "run_date": "2018-07-06T22:35:14.094948+00:00",
          "total_user_logins": 3,
          "total_visualization_launches": 3,
          "total_workflow_launches": 0,
          "unique_user_logins": 2,
          "users_created": 8
         },
         {
          "datasets_shared": 0,
          "datasets_uploaded": 0,
          "groups_created": 0,
          "run_date": "2018-07-07T22:35:14.120425+00:00",
          "total_user_logins": 1,
          "total_visualization_launches": 0,
          "total_workflow_launches": 0,
          "unique_user_logins": 1,
          "users_created": 9
         },
         {
          "datasets_shared": 0,
          "datasets_uploaded": 0,
          "groups_created": 0,
          "run_date": "2018-07-08T22:35:14.218283+00:00",
          "total_user_logins": 0,
          "total_visualization_launches": 0,
          "total_workflow_launches": 0,
          "unique_user_logins": 0,
          "users_created": 14
         },
         {
          "datasets_shared": 0,
          "datasets_uploaded": 0,
          "groups_created": 0,
          "run_date": "2018-07-09T22:35:14.108641+00:00",
          "total_user_logins": 0,
          "total_visualization_launches": 0,
          "total_workflow_launches": 0,
          "unique_user_logins": 0,
          "users_created": 10
         },
         {
          "datasets_shared": 0,
          "datasets_uploaded": 0,
          "groups_created": 0,
          "run_date": "2018-07-10T22:35:14.139354+00:00",
          "total_user_logins": 2,
          "total_visualization_launches": 0,
          "total_workflow_launches": 0,
          "unique_user_logins": 1,
          "users_created": 10
         },
         {
          "datasets_shared": 0,
          "datasets_uploaded": 0,
          "groups_created": 0,
          "run_date": "2018-07-11T22:35:14.148843+00:00",
          "total_user_logins": 0,
          "total_visualization_launches": 0,
          "total_workflow_launches": 0,
          "unique_user_logins": 0,
          "users_created": 16
         },
         {
          "datasets_shared": 0,
          "datasets_uploaded": 0,
          "groups_created": 0,
          "run_date": "2018-07-12T22:35:14.145347+00:00",
          "total_user_logins": 4,
          "total_visualization_launches": 0,
          "total_workflow_launches": 0,
          "unique_user_logins": 3,
          "users_created": 17
         },
         {
          "datasets_shared": 0,
          "datasets_uploaded": 1,
          "groups_created": 0,
          "run_date": "2018-07-13T22:35:14.195488+00:00",
          "total_user_logins": 3,
          "total_visualization_launches": 0,
          "total_workflow_launches": 0,
          "unique_user_logins": 3,
          "users_created": 17
         },
         {
          "datasets_shared": 0,
          "datasets_uploaded": 0,
          "groups_created": 0,
          "run_date": "2018-07-14T22:35:14.223107+00:00",
          "total_user_logins": 0,
          "total_visualization_launches": 0,
          "total_workflow_launches": 0,
          "unique_user_logins": 1,
          "users_created": 5
         },
         {
          "datasets_shared": 0,
          "datasets_uploaded": 0,
          "groups_created": 0,
          "run_date": "2018-07-15T22:35:14.214865+00:00",
          "total_user_logins": 0,
          "total_visualization_launches": 0,
          "total_workflow_launches": 0,
          "unique_user_logins": 0,
          "users_created": 26
         },
         {
          "datasets_shared": 0,
          "datasets_uploaded": 0,
          "groups_created": 0,
          "run_date": "2018-07-16T22:35:14.200266+00:00",
          "total_user_logins": 1,
          "total_visualization_launches": 0,
          "total_workflow_launches": 0,
          "unique_user_logins": 1,
          "users_created": 13
         },
         {
          "datasets_shared": 0,
          "datasets_uploaded": 0,
          "groups_created": 0,
          "run_date": "2018-07-17T22:35:14.194515+00:00",
          "total_user_logins": 13,
          "total_visualization_launches": 0,
          "total_workflow_launches": 0,
          "unique_user_logins": 5,
          "users_created": 11
         },
         {
          "datasets_shared": 0,
          "datasets_uploaded": 0,
          "groups_created": 0,
          "run_date": "2018-07-18T22:35:14.258073+00:00",
          "total_user_logins": 0,
          "total_visualization_launches": 0,
          "total_workflow_launches": 0,
          "unique_user_logins": 0,
          "users_created": 23
         },
         {
          "datasets_shared": 0,
          "datasets_uploaded": 0,
          "groups_created": 0,
          "run_date": "2018-07-19T22:35:14.224850+00:00",
          "total_user_logins": 16,
          "total_visualization_launches": 0,
          "total_workflow_launches": 0,
          "unique_user_logins": 9,
          "users_created": 18
         },
         {
          "datasets_shared": 2,
          "datasets_uploaded": 3,
          "groups_created": 0,
          "run_date": "2018-07-20T22:35:14.347804+00:00",
          "total_user_logins": 6,
          "total_visualization_launches": 0,
          "total_workflow_launches": 0,
          "unique_user_logins": 6,
          "users_created": 6
         },
         {
          "datasets_shared": 1,
          "datasets_uploaded": 2,
          "groups_created": 0,
          "run_date": "2018-07-22T03:55:09.597014+00:00",
          "total_user_logins": 8,
          "total_visualization_launches": 5,
          "total_workflow_launches": 1,
          "unique_user_logins": 4,
          "users_created": 25
         },
         {
          "datasets_shared": 0,
          "datasets_uploaded": 0,
          "groups_created": 0,
          "run_date": "2018-07-23T03:55:09.583798+00:00",
          "total_user_logins": -2,
          "total_visualization_launches": 0,
          "total_workflow_launches": 0,
          "unique_user_logins": 1,
          "users_created": 3
         },
         {
          "datasets_shared": 6,
          "datasets_uploaded": 7,
          "groups_created": 1,
          "run_date": "2018-07-24T03:55:09.713238+00:00",
          "total_user_logins": 11,
          "total_visualization_launches": 4,
          "total_workflow_launches": 1,
          "unique_user_logins": 7,
          "users_created": 11
         },
         {
          "datasets_shared": 2,
          "datasets_uploaded": 0,
          "groups_created": 0,
          "run_date": "2018-07-25T03:55:09.607549+00:00",
          "total_user_logins": 5,
          "total_visualization_launches": 5,
          "total_workflow_launches": 1,
          "unique_user_logins": 4,
          "users_created": 16
         },
         {
          "datasets_shared": 3,
          "datasets_uploaded": 2,
          "groups_created": 0,
          "run_date": "2018-07-26T03:55:09.618187+00:00",
          "total_user_logins": 5,
          "total_visualization_launches": 6,
          "total_workflow_launches": 3,
          "unique_user_logins": 3,
          "users_created": 6
         },
         {
          "datasets_shared": 1,
          "datasets_uploaded": 0,
          "groups_created": 0,
          "run_date": "2018-07-27T03:55:09.603079+00:00",
          "total_user_logins": 8,
          "total_visualization_launches": 0,
          "total_workflow_launches": 1,
          "unique_user_logins": 4,
          "users_created": 23
         },
         {
          "datasets_shared": 1,
          "datasets_uploaded": 0,
          "groups_created": 0,
          "run_date": "2018-07-28T03:55:09.623633+00:00",
          "total_user_logins": 9,
          "total_visualization_launches": 5,
          "total_workflow_launches": 1,
          "unique_user_logins": 3,
          "users_created": 19
         },
         {
          "datasets_shared": 0,
          "datasets_uploaded": 0,
          "groups_created": 0,
          "run_date": "2018-07-29T03:55:09.606254+00:00",
          "total_user_logins": 0,
          "total_visualization_launches": 0,
          "total_workflow_launches": 0,
          "unique_user_logins": 0,
          "users_created": 17
         },
         {
          "datasets_shared": 0,
          "datasets_uploaded": 0,
          "groups_created": 0,
          "run_date": "2018-07-30T03:55:09.595494+00:00",
          "total_user_logins": 2,
          "total_visualization_launches": 0,
          "total_workflow_launches": 0,
          "unique_user_logins": 2,
          "users_created": 25
         },
         {
          "datasets_shared": 0,
          "datasets_uploaded": 0,
          "groups_created": 0,
          "run_date": "2018-07-31T03:55:09.596426+00:00",
          "total_user_logins": 6,
          "total_visualization_launches": 1,
          "total_workflow_launches": 0,
          "unique_user_logins": 4,
          "users_created": 24
         },
         {
          "datasets_shared": 0,
          "datasets_uploaded": 0,
          "groups_created": 0,
          "run_date": "2018-08-01T03:55:09.633448+00:00",
          "total_user_logins": 9,
          "total_visualization_launches": 0,
          "total_workflow_launches": 0,
          "unique_user_logins": 6,
          "users_created": 31
         },
         {
          "datasets_shared": 0,
          "datasets_uploaded": 0,
          "groups_created": 0,
          "run_date": "2018-08-02T03:55:09.619514+00:00",
          "total_user_logins": 1,
          "total_visualization_launches": 0,
          "total_workflow_launches": 0,
          "unique_user_logins": 1,
          "users_created": 14
         },
         {
          "datasets_shared": 0,
          "datasets_uploaded": 0,
          "groups_created": 1,
          "run_date": "2018-08-03T03:55:09.631581+00:00",
          "total_user_logins": 4,
          "total_visualization_launches": 5,
          "total_workflow_launches": 0,
          "unique_user_logins": 3,
          "users_created": 18
         },
         {
          "datasets_shared": 1,
          "datasets_uploaded": 1,
          "groups_created": 0,
          "run_date": "2018-08-04T03:55:09.633702+00:00",
          "total_user_logins": 5,
          "total_visualization_launches": 1,
          "total_workflow_launches": 0,
          "unique_user_logins": 4,
          "users_created": 21
         },
         {
          "datasets_shared": 0,
          "datasets_uploaded": 0,
          "groups_created": 0,
          "run_date": "2018-08-05T03:55:09.652670+00:00",
          "total_user_logins": 0,
          "total_visualization_launches": 0,
          "total_workflow_launches": 0,
          "unique_user_logins": 0,
          "users_created": 25
         },
         {
          "datasets_shared": 0,
          "datasets_uploaded": 0,
          "groups_created": 0,
          "run_date": "2018-08-06T03:55:09.677822+00:00",
          "total_user_logins": 0,
          "total_visualization_launches": 0,
          "total_workflow_launches": 0,
          "unique_user_logins": 0,
          "users_created": 17
         },
         {
          "datasets_shared": 0,
          "datasets_uploaded": 0,
          "groups_created": 0,
          "run_date": "2018-08-07T03:55:09.959042+00:00",
          "total_user_logins": 2,
          "total_visualization_launches": 0,
          "total_workflow_launches": 0,
          "unique_user_logins": 2,
          "users_created": 16
         },
         {
          "datasets_shared": 0,
          "datasets_uploaded": 0,
          "groups_created": 0,
          "run_date": "2018-08-08T03:55:09.756369+00:00",
          "total_user_logins": 4,
          "total_visualization_launches": 0,
          "total_workflow_launches": 0,
          "unique_user_logins": 2,
          "users_created": 40
         },
         {
          "datasets_shared": 0,
          "datasets_uploaded": 0,
          "groups_created": 0,
          "run_date": "2018-08-09T03:55:09.655616+00:00",
          "total_user_logins": 0,
          "total_visualization_launches": 0,
          "total_workflow_launches": 0,
          "unique_user_logins": 0,
          "users_created": 28
         },
         {
          "datasets_shared": 0,
          "datasets_uploaded": 0,
          "groups_created": 0,
          "run_date": "2018-08-10T03:55:09.801685+00:00",
          "total_user_logins": 1,
          "total_visualization_launches": 0,
          "total_workflow_launches": 0,
          "unique_user_logins": 1,
          "users_created": 21
         },
         {
          "datasets_shared": 0,
          "datasets_uploaded": 0,
          "groups_created": 0,
          "run_date": "2018-08-11T03:55:09.710949+00:00",
          "total_user_logins": 0,
          "total_visualization_launches": 0,
          "total_workflow_launches": 0,
          "unique_user_logins": 0,
          "users_created": 18
         },
         {
          "datasets_shared": 0,
          "datasets_uploaded": 0,
          "groups_created": 0,
          "run_date": "2018-08-12T03:55:09.988262+00:00",
          "total_user_logins": 0,
          "total_visualization_launches": 0,
          "total_workflow_launches": 0,
          "unique_user_logins": 0,
          "users_created": 24
         },
         {
          "datasets_shared": 0,
          "datasets_uploaded": 0,
          "groups_created": 0,
          "run_date": "2018-08-13T03:55:09.698076+00:00",
          "total_user_logins": 0,
          "total_visualization_launches": 0,
          "total_workflow_launches": 0,
          "unique_user_logins": 0,
          "users_created": 15
         },
         {
          "datasets_shared": 0,
          "datasets_uploaded": 0,
          "groups_created": 0,
          "run_date": "2018-08-14T03:55:09.725535+00:00",
          "total_user_logins": 1,
          "total_visualization_launches": 0,
          "total_workflow_launches": 0,
          "unique_user_logins": 1,
          "users_created": 18
         },
         {
          "datasets_shared": 0,
          "datasets_uploaded": 0,
          "groups_created": 0,
          "run_date": "2018-08-15T03:55:09.696229+00:00",
          "total_user_logins": 3,
          "total_visualization_launches": 1,
          "total_workflow_launches": 0,
          "unique_user_logins": 3,
          "users_created": 34
         },
         {
          "datasets_shared": 1,
          "datasets_uploaded": 1,
          "groups_created": 0,
          "run_date": "2018-08-16T03:55:09.756102+00:00",
          "total_user_logins": 5,
          "total_visualization_launches": 2,
          "total_workflow_launches": 0,
          "unique_user_logins": 4,
          "users_created": 18
         },
         {
          "datasets_shared": 2,
          "datasets_uploaded": 3,
          "groups_created": 0,
          "run_date": "2018-08-17T03:55:09.828101+00:00",
          "total_user_logins": 7,
          "total_visualization_launches": 9,
          "total_workflow_launches": 0,
          "unique_user_logins": 6,
          "users_created": 21
         }
        ]
       },
       "vconcat": [
        {
         "data": {
          "name": "data-46457ed981f4e11990df50eaef0d8dce"
         },
         "encoding": {
          "x": {
           "field": "run_date",
           "title": null,
           "type": "temporal"
          },
          "y": {
           "field": "users_created",
           "title": null,
           "type": "quantitative"
          }
         },
         "height": 30,
         "mark": {
          "interpolate": "step-after",
          "type": "area"
         },
         "selection": {
          "selector005": {
           "encodings": [
            "x"
           ],
           "mark": {
            "fill": "#333",
            "fillOpacity": 0.125,
            "stroke": "white"
           },
           "on": "[mousedown, window:mouseup] > window:mousemove!",
           "resolve": "global",
           "translate": "[mousedown, window:mouseup] > window:mousemove!",
           "type": "interval",
           "zoom": "wheel!"
          }
         },
         "width": 900
        },
        {
         "hconcat": [
          {
           "vconcat": [
            {
             "height": 85,
             "layer": [
              {
               "data": {
                "name": "data-46457ed981f4e11990df50eaef0d8dce"
               },
               "encoding": {
                "x": {
                 "field": "run_date",
                 "title": null,
                 "type": "temporal"
                },
                "y": {
                 "field": "datasets_shared",
                 "title": null,
                 "type": "quantitative"
                }
               },
               "mark": {
                "interpolate": "step-before",
                "type": "line"
               },
               "transform": [
                {
                 "filter": {
                  "selection": "selector005"
                 }
                }
               ]
              },
              {
               "data": {
                "name": "data-46457ed981f4e11990df50eaef0d8dce"
               },
               "encoding": {
                "opacity": {
                 "value": 0
                },
                "x": {
                 "field": "run_date",
                 "title": null,
                 "type": "temporal"
                }
               },
               "mark": "point",
               "selection": {
                "selector006": {
                 "empty": "none",
                 "encodings": [
                  "x"
                 ],
                 "nearest": true,
                 "on": "mouseover",
                 "resolve": "global",
                 "type": "single"
                }
               },
               "transform": [
                {
                 "filter": {
                  "selection": "selector005"
                 }
                }
               ]
              },
              {
               "data": {
                "name": "data-46457ed981f4e11990df50eaef0d8dce"
               },
               "encoding": {
                "opacity": {
                 "condition": {
                  "selection": "selector006",
                  "value": 1
                 },
                 "value": 0
                },
                "x": {
                 "field": "run_date",
                 "title": null,
                 "type": "temporal"
                },
                "y": {
                 "field": "datasets_shared",
                 "title": null,
                 "type": "quantitative"
                }
               },
               "mark": "point",
               "transform": [
                {
                 "filter": {
                  "selection": "selector005"
                 }
                }
               ]
              },
              {
               "data": {
                "name": "data-46457ed981f4e11990df50eaef0d8dce"
               },
               "encoding": {
                "x": {
                 "field": "run_date",
                 "title": null,
                 "type": "temporal"
                }
               },
               "mark": {
                "color": "gray",
                "type": "rule"
               },
               "transform": [
                {
                 "filter": {
                  "selection": "selector006"
                 }
                },
                {
                 "filter": {
                  "selection": "selector005"
                 }
                }
               ]
              },
              {
               "data": {
                "name": "data-46457ed981f4e11990df50eaef0d8dce"
               },
               "encoding": {
                "text": {
                 "condition": {
                  "field": "datasets_shared",
                  "selection": "selector006",
                  "type": "quantitative"
                 },
                 "value": " "
                },
                "x": {
                 "field": "run_date",
                 "title": null,
                 "type": "temporal"
                },
                "y": {
                 "field": "datasets_shared",
                 "title": null,
                 "type": "quantitative"
                }
               },
               "mark": {
                "align": "left",
                "dx": 5,
                "dy": -5,
                "type": "text"
               },
               "transform": [
                {
                 "filter": {
                  "selection": "selector005"
                 }
                }
               ]
              }
             ],
             "title": "datasets shared",
             "width": 420
            },
            {
             "height": 85,
             "layer": [
              {
               "data": {
                "name": "data-46457ed981f4e11990df50eaef0d8dce"
               },
               "encoding": {
                "x": {
                 "field": "run_date",
                 "title": null,
                 "type": "temporal"
                },
                "y": {
                 "field": "datasets_uploaded",
                 "title": null,
                 "type": "quantitative"
                }
               },
               "mark": {
                "interpolate": "step-before",
                "type": "line"
               },
               "transform": [
                {
                 "filter": {
                  "selection": "selector005"
                 }
                }
               ]
              },
              {
               "data": {
                "name": "data-46457ed981f4e11990df50eaef0d8dce"
               },
               "encoding": {
                "opacity": {
                 "value": 0
                },
                "x": {
                 "field": "run_date",
                 "title": null,
                 "type": "temporal"
                }
               },
               "mark": "point",
               "selection": {
                "selector006": {
                 "empty": "none",
                 "encodings": [
                  "x"
                 ],
                 "nearest": true,
                 "on": "mouseover",
                 "resolve": "global",
                 "type": "single"
                }
               },
               "transform": [
                {
                 "filter": {
                  "selection": "selector005"
                 }
                }
               ]
              },
              {
               "data": {
                "name": "data-46457ed981f4e11990df50eaef0d8dce"
               },
               "encoding": {
                "opacity": {
                 "condition": {
                  "selection": "selector006",
                  "value": 1
                 },
                 "value": 0
                },
                "x": {
                 "field": "run_date",
                 "title": null,
                 "type": "temporal"
                },
                "y": {
                 "field": "datasets_uploaded",
                 "title": null,
                 "type": "quantitative"
                }
               },
               "mark": "point",
               "transform": [
                {
                 "filter": {
                  "selection": "selector005"
                 }
                }
               ]
              },
              {
               "data": {
                "name": "data-46457ed981f4e11990df50eaef0d8dce"
               },
               "encoding": {
                "x": {
                 "field": "run_date",
                 "title": null,
                 "type": "temporal"
                }
               },
               "mark": {
                "color": "gray",
                "type": "rule"
               },
               "transform": [
                {
                 "filter": {
                  "selection": "selector006"
                 }
                },
                {
                 "filter": {
                  "selection": "selector005"
                 }
                }
               ]
              },
              {
               "data": {
                "name": "data-46457ed981f4e11990df50eaef0d8dce"
               },
               "encoding": {
                "text": {
                 "condition": {
                  "field": "datasets_uploaded",
                  "selection": "selector006",
                  "type": "quantitative"
                 },
                 "value": " "
                },
                "x": {
                 "field": "run_date",
                 "title": null,
                 "type": "temporal"
                },
                "y": {
                 "field": "datasets_uploaded",
                 "title": null,
                 "type": "quantitative"
                }
               },
               "mark": {
                "align": "left",
                "dx": 5,
                "dy": -5,
                "type": "text"
               },
               "transform": [
                {
                 "filter": {
                  "selection": "selector005"
                 }
                }
               ]
              }
             ],
             "title": "datasets uploaded",
             "width": 420
            },
            {
             "height": 85,
             "layer": [
              {
               "data": {
                "name": "data-46457ed981f4e11990df50eaef0d8dce"
               },
               "encoding": {
                "x": {
                 "field": "run_date",
                 "title": null,
                 "type": "temporal"
                },
                "y": {
                 "field": "groups_created",
                 "title": null,
                 "type": "quantitative"
                }
               },
               "mark": {
                "interpolate": "step-before",
                "type": "line"
               },
               "transform": [
                {
                 "filter": {
                  "selection": "selector005"
                 }
                }
               ]
              },
              {
               "data": {
                "name": "data-46457ed981f4e11990df50eaef0d8dce"
               },
               "encoding": {
                "opacity": {
                 "value": 0
                },
                "x": {
                 "field": "run_date",
                 "title": null,
                 "type": "temporal"
                }
               },
               "mark": "point",
               "selection": {
                "selector006": {
                 "empty": "none",
                 "encodings": [
                  "x"
                 ],
                 "nearest": true,
                 "on": "mouseover",
                 "resolve": "global",
                 "type": "single"
                }
               },
               "transform": [
                {
                 "filter": {
                  "selection": "selector005"
                 }
                }
               ]
              },
              {
               "data": {
                "name": "data-46457ed981f4e11990df50eaef0d8dce"
               },
               "encoding": {
                "opacity": {
                 "condition": {
                  "selection": "selector006",
                  "value": 1
                 },
                 "value": 0
                },
                "x": {
                 "field": "run_date",
                 "title": null,
                 "type": "temporal"
                },
                "y": {
                 "field": "groups_created",
                 "title": null,
                 "type": "quantitative"
                }
               },
               "mark": "point",
               "transform": [
                {
                 "filter": {
                  "selection": "selector005"
                 }
                }
               ]
              },
              {
               "data": {
                "name": "data-46457ed981f4e11990df50eaef0d8dce"
               },
               "encoding": {
                "x": {
                 "field": "run_date",
                 "title": null,
                 "type": "temporal"
                }
               },
               "mark": {
                "color": "gray",
                "type": "rule"
               },
               "transform": [
                {
                 "filter": {
                  "selection": "selector006"
                 }
                },
                {
                 "filter": {
                  "selection": "selector005"
                 }
                }
               ]
              },
              {
               "data": {
                "name": "data-46457ed981f4e11990df50eaef0d8dce"
               },
               "encoding": {
                "text": {
                 "condition": {
                  "field": "groups_created",
                  "selection": "selector006",
                  "type": "quantitative"
                 },
                 "value": " "
                },
                "x": {
                 "field": "run_date",
                 "title": null,
                 "type": "temporal"
                },
                "y": {
                 "field": "groups_created",
                 "title": null,
                 "type": "quantitative"
                }
               },
               "mark": {
                "align": "left",
                "dx": 5,
                "dy": -5,
                "type": "text"
               },
               "transform": [
                {
                 "filter": {
                  "selection": "selector005"
                 }
                }
               ]
              }
             ],
             "title": "groups created",
             "width": 420
            },
            {
             "height": 85,
             "layer": [
              {
               "data": {
                "name": "data-46457ed981f4e11990df50eaef0d8dce"
               },
               "encoding": {
                "x": {
                 "field": "run_date",
                 "title": null,
                 "type": "temporal"
                },
                "y": {
                 "field": "total_user_logins",
                 "title": null,
                 "type": "quantitative"
                }
               },
               "mark": {
                "interpolate": "step-before",
                "type": "line"
               },
               "transform": [
                {
                 "filter": {
                  "selection": "selector005"
                 }
                }
               ]
              },
              {
               "data": {
                "name": "data-46457ed981f4e11990df50eaef0d8dce"
               },
               "encoding": {
                "opacity": {
                 "value": 0
                },
                "x": {
                 "field": "run_date",
                 "title": null,
                 "type": "temporal"
                }
               },
               "mark": "point",
               "selection": {
                "selector006": {
                 "empty": "none",
                 "encodings": [
                  "x"
                 ],
                 "nearest": true,
                 "on": "mouseover",
                 "resolve": "global",
                 "type": "single"
                }
               },
               "transform": [
                {
                 "filter": {
                  "selection": "selector005"
                 }
                }
               ]
              },
              {
               "data": {
                "name": "data-46457ed981f4e11990df50eaef0d8dce"
               },
               "encoding": {
                "opacity": {
                 "condition": {
                  "selection": "selector006",
                  "value": 1
                 },
                 "value": 0
                },
                "x": {
                 "field": "run_date",
                 "title": null,
                 "type": "temporal"
                },
                "y": {
                 "field": "total_user_logins",
                 "title": null,
                 "type": "quantitative"
                }
               },
               "mark": "point",
               "transform": [
                {
                 "filter": {
                  "selection": "selector005"
                 }
                }
               ]
              },
              {
               "data": {
                "name": "data-46457ed981f4e11990df50eaef0d8dce"
               },
               "encoding": {
                "x": {
                 "field": "run_date",
                 "title": null,
                 "type": "temporal"
                }
               },
               "mark": {
                "color": "gray",
                "type": "rule"
               },
               "transform": [
                {
                 "filter": {
                  "selection": "selector006"
                 }
                },
                {
                 "filter": {
                  "selection": "selector005"
                 }
                }
               ]
              },
              {
               "data": {
                "name": "data-46457ed981f4e11990df50eaef0d8dce"
               },
               "encoding": {
                "text": {
                 "condition": {
                  "field": "total_user_logins",
                  "selection": "selector006",
                  "type": "quantitative"
                 },
                 "value": " "
                },
                "x": {
                 "field": "run_date",
                 "title": null,
                 "type": "temporal"
                },
                "y": {
                 "field": "total_user_logins",
                 "title": null,
                 "type": "quantitative"
                }
               },
               "mark": {
                "align": "left",
                "dx": 5,
                "dy": -5,
                "type": "text"
               },
               "transform": [
                {
                 "filter": {
                  "selection": "selector005"
                 }
                }
               ]
              }
             ],
             "title": "total user logins",
             "width": 420
            }
           ]
          },
          {
           "vconcat": [
            {
             "height": 85,
             "layer": [
              {
               "data": {
                "name": "data-46457ed981f4e11990df50eaef0d8dce"
               },
               "encoding": {
                "x": {
                 "field": "run_date",
                 "title": null,
                 "type": "temporal"
                },
                "y": {
                 "field": "total_visualization_launches",
                 "title": null,
                 "type": "quantitative"
                }
               },
               "mark": {
                "interpolate": "step-before",
                "type": "line"
               },
               "transform": [
                {
                 "filter": {
                  "selection": "selector005"
                 }
                }
               ]
              },
              {
               "data": {
                "name": "data-46457ed981f4e11990df50eaef0d8dce"
               },
               "encoding": {
                "opacity": {
                 "value": 0
                },
                "x": {
                 "field": "run_date",
                 "title": null,
                 "type": "temporal"
                }
               },
               "mark": "point",
               "selection": {
                "selector006": {
                 "empty": "none",
                 "encodings": [
                  "x"
                 ],
                 "nearest": true,
                 "on": "mouseover",
                 "resolve": "global",
                 "type": "single"
                }
               },
               "transform": [
                {
                 "filter": {
                  "selection": "selector005"
                 }
                }
               ]
              },
              {
               "data": {
                "name": "data-46457ed981f4e11990df50eaef0d8dce"
               },
               "encoding": {
                "opacity": {
                 "condition": {
                  "selection": "selector006",
                  "value": 1
                 },
                 "value": 0
                },
                "x": {
                 "field": "run_date",
                 "title": null,
                 "type": "temporal"
                },
                "y": {
                 "field": "total_visualization_launches",
                 "title": null,
                 "type": "quantitative"
                }
               },
               "mark": "point",
               "transform": [
                {
                 "filter": {
                  "selection": "selector005"
                 }
                }
               ]
              },
              {
               "data": {
                "name": "data-46457ed981f4e11990df50eaef0d8dce"
               },
               "encoding": {
                "x": {
                 "field": "run_date",
                 "title": null,
                 "type": "temporal"
                }
               },
               "mark": {
                "color": "gray",
                "type": "rule"
               },
               "transform": [
                {
                 "filter": {
                  "selection": "selector006"
                 }
                },
                {
                 "filter": {
                  "selection": "selector005"
                 }
                }
               ]
              },
              {
               "data": {
                "name": "data-46457ed981f4e11990df50eaef0d8dce"
               },
               "encoding": {
                "text": {
                 "condition": {
                  "field": "total_visualization_launches",
                  "selection": "selector006",
                  "type": "quantitative"
                 },
                 "value": " "
                },
                "x": {
                 "field": "run_date",
                 "title": null,
                 "type": "temporal"
                },
                "y": {
                 "field": "total_visualization_launches",
                 "title": null,
                 "type": "quantitative"
                }
               },
               "mark": {
                "align": "left",
                "dx": 5,
                "dy": -5,
                "type": "text"
               },
               "transform": [
                {
                 "filter": {
                  "selection": "selector005"
                 }
                }
               ]
              }
             ],
             "title": "total visualization launches",
             "width": 420
            },
            {
             "height": 85,
             "layer": [
              {
               "data": {
                "name": "data-46457ed981f4e11990df50eaef0d8dce"
               },
               "encoding": {
                "x": {
                 "field": "run_date",
                 "title": null,
                 "type": "temporal"
                },
                "y": {
                 "field": "total_workflow_launches",
                 "title": null,
                 "type": "quantitative"
                }
               },
               "mark": {
                "interpolate": "step-before",
                "type": "line"
               },
               "transform": [
                {
                 "filter": {
                  "selection": "selector005"
                 }
                }
               ]
              },
              {
               "data": {
                "name": "data-46457ed981f4e11990df50eaef0d8dce"
               },
               "encoding": {
                "opacity": {
                 "value": 0
                },
                "x": {
                 "field": "run_date",
                 "title": null,
                 "type": "temporal"
                }
               },
               "mark": "point",
               "selection": {
                "selector006": {
                 "empty": "none",
                 "encodings": [
                  "x"
                 ],
                 "nearest": true,
                 "on": "mouseover",
                 "resolve": "global",
                 "type": "single"
                }
               },
               "transform": [
                {
                 "filter": {
                  "selection": "selector005"
                 }
                }
               ]
              },
              {
               "data": {
                "name": "data-46457ed981f4e11990df50eaef0d8dce"
               },
               "encoding": {
                "opacity": {
                 "condition": {
                  "selection": "selector006",
                  "value": 1
                 },
                 "value": 0
                },
                "x": {
                 "field": "run_date",
                 "title": null,
                 "type": "temporal"
                },
                "y": {
                 "field": "total_workflow_launches",
                 "title": null,
                 "type": "quantitative"
                }
               },
               "mark": "point",
               "transform": [
                {
                 "filter": {
                  "selection": "selector005"
                 }
                }
               ]
              },
              {
               "data": {
                "name": "data-46457ed981f4e11990df50eaef0d8dce"
               },
               "encoding": {
                "x": {
                 "field": "run_date",
                 "title": null,
                 "type": "temporal"
                }
               },
               "mark": {
                "color": "gray",
                "type": "rule"
               },
               "transform": [
                {
                 "filter": {
                  "selection": "selector006"
                 }
                },
                {
                 "filter": {
                  "selection": "selector005"
                 }
                }
               ]
              },
              {
               "data": {
                "name": "data-46457ed981f4e11990df50eaef0d8dce"
               },
               "encoding": {
                "text": {
                 "condition": {
                  "field": "total_workflow_launches",
                  "selection": "selector006",
                  "type": "quantitative"
                 },
                 "value": " "
                },
                "x": {
                 "field": "run_date",
                 "title": null,
                 "type": "temporal"
                },
                "y": {
                 "field": "total_workflow_launches",
                 "title": null,
                 "type": "quantitative"
                }
               },
               "mark": {
                "align": "left",
                "dx": 5,
                "dy": -5,
                "type": "text"
               },
               "transform": [
                {
                 "filter": {
                  "selection": "selector005"
                 }
                }
               ]
              }
             ],
             "title": "total workflow launches",
             "width": 420
            },
            {
             "height": 85,
             "layer": [
              {
               "data": {
                "name": "data-46457ed981f4e11990df50eaef0d8dce"
               },
               "encoding": {
                "x": {
                 "field": "run_date",
                 "title": null,
                 "type": "temporal"
                },
                "y": {
                 "field": "users_created",
                 "title": null,
                 "type": "quantitative"
                }
               },
               "mark": {
                "interpolate": "step-before",
                "type": "line"
               },
               "transform": [
                {
                 "filter": {
                  "selection": "selector005"
                 }
                }
               ]
              },
              {
               "data": {
                "name": "data-46457ed981f4e11990df50eaef0d8dce"
               },
               "encoding": {
                "opacity": {
                 "value": 0
                },
                "x": {
                 "field": "run_date",
                 "title": null,
                 "type": "temporal"
                }
               },
               "mark": "point",
               "selection": {
                "selector006": {
                 "empty": "none",
                 "encodings": [
                  "x"
                 ],
                 "nearest": true,
                 "on": "mouseover",
                 "resolve": "global",
                 "type": "single"
                }
               },
               "transform": [
                {
                 "filter": {
                  "selection": "selector005"
                 }
                }
               ]
              },
              {
               "data": {
                "name": "data-46457ed981f4e11990df50eaef0d8dce"
               },
               "encoding": {
                "opacity": {
                 "condition": {
                  "selection": "selector006",
                  "value": 1
                 },
                 "value": 0
                },
                "x": {
                 "field": "run_date",
                 "title": null,
                 "type": "temporal"
                },
                "y": {
                 "field": "users_created",
                 "title": null,
                 "type": "quantitative"
                }
               },
               "mark": "point",
               "transform": [
                {
                 "filter": {
                  "selection": "selector005"
                 }
                }
               ]
              },
              {
               "data": {
                "name": "data-46457ed981f4e11990df50eaef0d8dce"
               },
               "encoding": {
                "x": {
                 "field": "run_date",
                 "title": null,
                 "type": "temporal"
                }
               },
               "mark": {
                "color": "gray",
                "type": "rule"
               },
               "transform": [
                {
                 "filter": {
                  "selection": "selector006"
                 }
                },
                {
                 "filter": {
                  "selection": "selector005"
                 }
                }
               ]
              },
              {
               "data": {
                "name": "data-46457ed981f4e11990df50eaef0d8dce"
               },
               "encoding": {
                "text": {
                 "condition": {
                  "field": "users_created",
                  "selection": "selector006",
                  "type": "quantitative"
                 },
                 "value": " "
                },
                "x": {
                 "field": "run_date",
                 "title": null,
                 "type": "temporal"
                },
                "y": {
                 "field": "users_created",
                 "title": null,
                 "type": "quantitative"
                }
               },
               "mark": {
                "align": "left",
                "dx": 5,
                "dy": -5,
                "type": "text"
               },
               "transform": [
                {
                 "filter": {
                  "selection": "selector005"
                 }
                }
               ]
              }
             ],
             "title": "users created",
             "width": 420
            },
            {
             "height": 85,
             "layer": [
              {
               "data": {
                "name": "data-46457ed981f4e11990df50eaef0d8dce"
               },
               "encoding": {
                "x": {
                 "field": "run_date",
                 "title": null,
                 "type": "temporal"
                },
                "y": {
                 "field": "unique_user_logins",
                 "title": null,
                 "type": "quantitative"
                }
               },
               "mark": {
                "interpolate": "step-before",
                "type": "line"
               },
               "transform": [
                {
                 "filter": {
                  "selection": "selector005"
                 }
                }
               ]
              },
              {
               "data": {
                "name": "data-46457ed981f4e11990df50eaef0d8dce"
               },
               "encoding": {
                "opacity": {
                 "value": 0
                },
                "x": {
                 "field": "run_date",
                 "title": null,
                 "type": "temporal"
                }
               },
               "mark": "point",
               "selection": {
                "selector006": {
                 "empty": "none",
                 "encodings": [
                  "x"
                 ],
                 "nearest": true,
                 "on": "mouseover",
                 "resolve": "global",
                 "type": "single"
                }
               },
               "transform": [
                {
                 "filter": {
                  "selection": "selector005"
                 }
                }
               ]
              },
              {
               "data": {
                "name": "data-46457ed981f4e11990df50eaef0d8dce"
               },
               "encoding": {
                "opacity": {
                 "condition": {
                  "selection": "selector006",
                  "value": 1
                 },
                 "value": 0
                },
                "x": {
                 "field": "run_date",
                 "title": null,
                 "type": "temporal"
                },
                "y": {
                 "field": "unique_user_logins",
                 "title": null,
                 "type": "quantitative"
                }
               },
               "mark": "point",
               "transform": [
                {
                 "filter": {
                  "selection": "selector005"
                 }
                }
               ]
              },
              {
               "data": {
                "name": "data-46457ed981f4e11990df50eaef0d8dce"
               },
               "encoding": {
                "x": {
                 "field": "run_date",
                 "title": null,
                 "type": "temporal"
                }
               },
               "mark": {
                "color": "gray",
                "type": "rule"
               },
               "transform": [
                {
                 "filter": {
                  "selection": "selector006"
                 }
                },
                {
                 "filter": {
                  "selection": "selector005"
                 }
                }
               ]
              },
              {
               "data": {
                "name": "data-46457ed981f4e11990df50eaef0d8dce"
               },
               "encoding": {
                "text": {
                 "condition": {
                  "field": "unique_user_logins",
                  "selection": "selector006",
                  "type": "quantitative"
                 },
                 "value": " "
                },
                "x": {
                 "field": "run_date",
                 "title": null,
                 "type": "temporal"
                },
                "y": {
                 "field": "unique_user_logins",
                 "title": null,
                 "type": "quantitative"
                }
               },
               "mark": {
                "align": "left",
                "dx": 5,
                "dy": -5,
                "type": "text"
               },
               "transform": [
                {
                 "filter": {
                  "selection": "selector005"
                 }
                }
               ]
              }
             ],
             "title": "unique user logins",
             "width": 420
            }
           ]
          }
         ]
        }
       ]
      },
      "image/png": "[encoded data removed]",
      "text/plain": [
       "<VegaLite 2 object>\n",
       "\n",
       "If you see this message, it means the renderer has not been properly enabled\n",
       "for the frontend that you are using. For more information, see\n",
       "https://altair-viz.github.io/user_guide/troubleshooting.html\n"
      ]
     },
     "execution_count": 22,
     "metadata": {},
     "output_type": "execute_result"
    }
   ],
   "source": [
    "view = [col for col in data.columns.tolist() if col != 'run_date']\n",
    "\n",
    "panels = [create_panel(view, 420, 85) for view in views]\n",
    "\n",
    "timeline = base.mark_area(interpolate='step-after').encode(\n",
    "    alt.Y('users_created:Q', title=None)\n",
    ").properties(\n",
    "    width=900,\n",
    "    height=30,\n",
    "    selection=brush\n",
    ")\n",
    "\n",
    "timeline & (alt.vconcat(*panels[:4]) | alt.vconcat(*panels[4:]))"
   ]
  },
  {
   "cell_type": "code",
   "execution_count": null,
   "metadata": {},
   "outputs": [],
   "source": []
  },
  {
   "cell_type": "code",
   "execution_count": null,
   "metadata": {},
   "outputs": [],
   "source": []
  }
 ],
 "metadata": {
  "kernelspec": {
   "display_name": "Python 3",
   "language": "python",
   "name": "python3"
  },
  "language_info": {
   "codemirror_mode": {
    "name": "ipython",
    "version": 3
   },
   "file_extension": ".py",
   "mimetype": "text/x-python",
   "name": "python",
   "nbconvert_exporter": "python",
   "pygments_lexer": "ipython3",
   "version": "3.6.4"
  }
 },
 "nbformat": 4,
 "nbformat_minor": 2
}
