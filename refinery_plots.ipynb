{
 "cells": [
  {
   "cell_type": "code",
   "execution_count": 2,
   "metadata": {},
   "outputs": [],
   "source": [
    "import altair as alt\n",
    "import pandas as pd\n",
    "import numpy as np"
   ]
  },
  {
   "cell_type": "code",
   "execution_count": 32,
   "metadata": {},
   "outputs": [
    {
     "data": {
      "text/html": [
       "<div>\n",
       "<style scoped>\n",
       "    .dataframe tbody tr th:only-of-type {\n",
       "        vertical-align: middle;\n",
       "    }\n",
       "\n",
       "    .dataframe tbody tr th {\n",
       "        vertical-align: top;\n",
       "    }\n",
       "\n",
       "    .dataframe thead th {\n",
       "        text-align: right;\n",
       "    }\n",
       "</style>\n",
       "<table border=\"1\" class=\"dataframe\">\n",
       "  <thead>\n",
       "    <tr style=\"text-align: right;\">\n",
       "      <th></th>\n",
       "      <th>datasets_shared</th>\n",
       "      <th>datasets_uploaded</th>\n",
       "      <th>groups_created</th>\n",
       "      <th>run_date</th>\n",
       "      <th>total_user_logins</th>\n",
       "      <th>total_visualization_launches</th>\n",
       "      <th>total_workflow_launches</th>\n",
       "      <th>users_created</th>\n",
       "      <th>unique_user_logins</th>\n",
       "    </tr>\n",
       "  </thead>\n",
       "  <tbody>\n",
       "    <tr>\n",
       "      <th>1</th>\n",
       "      <td>0</td>\n",
       "      <td>2</td>\n",
       "      <td>1</td>\n",
       "      <td>2018-05-30</td>\n",
       "      <td>11</td>\n",
       "      <td>2</td>\n",
       "      <td>0</td>\n",
       "      <td>24</td>\n",
       "      <td>6</td>\n",
       "    </tr>\n",
       "    <tr>\n",
       "      <th>2</th>\n",
       "      <td>0</td>\n",
       "      <td>0</td>\n",
       "      <td>1</td>\n",
       "      <td>2018-05-31</td>\n",
       "      <td>6</td>\n",
       "      <td>1</td>\n",
       "      <td>2</td>\n",
       "      <td>13</td>\n",
       "      <td>5</td>\n",
       "    </tr>\n",
       "    <tr>\n",
       "      <th>3</th>\n",
       "      <td>0</td>\n",
       "      <td>0</td>\n",
       "      <td>0</td>\n",
       "      <td>2018-06-01</td>\n",
       "      <td>1</td>\n",
       "      <td>3</td>\n",
       "      <td>0</td>\n",
       "      <td>18</td>\n",
       "      <td>1</td>\n",
       "    </tr>\n",
       "    <tr>\n",
       "      <th>4</th>\n",
       "      <td>0</td>\n",
       "      <td>0</td>\n",
       "      <td>0</td>\n",
       "      <td>2018-06-02</td>\n",
       "      <td>0</td>\n",
       "      <td>0</td>\n",
       "      <td>0</td>\n",
       "      <td>17</td>\n",
       "      <td>0</td>\n",
       "    </tr>\n",
       "    <tr>\n",
       "      <th>5</th>\n",
       "      <td>0</td>\n",
       "      <td>0</td>\n",
       "      <td>0</td>\n",
       "      <td>2018-06-03</td>\n",
       "      <td>0</td>\n",
       "      <td>0</td>\n",
       "      <td>0</td>\n",
       "      <td>7</td>\n",
       "      <td>0</td>\n",
       "    </tr>\n",
       "  </tbody>\n",
       "</table>\n",
       "</div>"
      ],
      "text/plain": [
       "   datasets_shared  datasets_uploaded  groups_created   run_date  \\\n",
       "1                0                  2               1 2018-05-30   \n",
       "2                0                  0               1 2018-05-31   \n",
       "3                0                  0               0 2018-06-01   \n",
       "4                0                  0               0 2018-06-02   \n",
       "5                0                  0               0 2018-06-03   \n",
       "\n",
       "   total_user_logins  total_visualization_launches  total_workflow_launches  \\\n",
       "1                 11                             2                        0   \n",
       "2                  6                             1                        2   \n",
       "3                  1                             3                        0   \n",
       "4                  0                             0                        0   \n",
       "5                  0                             0                        0   \n",
       "\n",
       "   users_created  unique_user_logins  \n",
       "1             24                   6  \n",
       "2             13                   5  \n",
       "3             18                   1  \n",
       "4             17                   0  \n",
       "5              7                   0  "
      ]
     },
     "execution_count": 32,
     "metadata": {},
     "output_type": "execute_result"
    }
   ],
   "source": [
    "data = pd.read_csv('Refinery_Site_Stats.csv').drop('ID', axis=1).drop([0])\n",
    "data.columns = data.columns.str.replace(' ', '_')\n",
    "data['run_date'] = pd.to_datetime(data['run_date']).dt.normalize()\n",
    "data.head()"
   ]
  },
  {
   "cell_type": "code",
   "execution_count": 27,
   "metadata": {},
   "outputs": [],
   "source": [
    "brush = alt.selection_interval(encodings=['x'])\n",
    "nearest = alt.selection_single(nearest=True, on='mouseover', encodings=['x'], empty='none')\n",
    "\n",
    "base = alt.Chart(data).encode(\n",
    "    alt.X('run_date:T', title=None)\n",
    ")\n",
    "\n",
    "selectors = base.mark_point().encode(\n",
    "    opacity=alt.value(0),\n",
    ").properties(\n",
    "    selection=nearest\n",
    ").transform_filter(\n",
    "    brush\n",
    ")\n",
    "\n",
    "rules = base.mark_rule(color='gray').transform_filter(\n",
    "    nearest\n",
    ").transform_filter(\n",
    "    brush\n",
    ")"
   ]
  },
  {
   "cell_type": "code",
   "execution_count": 28,
   "metadata": {},
   "outputs": [],
   "source": [
    "def create_panel(view, w, h):\n",
    "    \n",
    "    line = base.mark_line(interpolate='step-before').encode(\n",
    "        alt.Y(view + ':Q', title=None),\n",
    "    ).transform_filter(\n",
    "        brush\n",
    "    )\n",
    "\n",
    "    points = line.mark_point().encode(\n",
    "        opacity=alt.condition(nearest, alt.value(1), alt.value(0))\n",
    "    )\n",
    "\n",
    "    text = line.mark_text(align='left', dx=5, dy=-5).encode(\n",
    "        text=alt.condition(nearest, view + ':Q', alt.value(' '))\n",
    "    ) \n",
    "\n",
    "    panel = alt.layer(line, selectors, points, rules, text, width=w, height=h, title=view.replace('_', ' '))\n",
    "    \n",
    "    return panel"
   ]
  },
  {
   "cell_type": "code",
   "execution_count": 29,
   "metadata": {},
   "outputs": [
    {
     "data": {
      "application/vnd.vegalite.v2+json": {
       "$schema": "https://vega.github.io/schema/vega-lite/v2.6.0.json",
       "config": {
        "view": {
         "height": 300,
         "width": 400
        }
       },
       "datasets": {
        "data-a85ba82af39c1fa11dd908a952905777": [
         {
          "datasets_shared": 0,
          "datasets_uploaded": 2,
          "groups_created": 1,
          "run_date": "2018-05-30T00:00:00",
          "total_user_logins": 11,
          "total_visualization_launches": 2,
          "total_workflow_launches": 0,
          "unique_user_logins": 6,
          "users_created": 24
         },
         {
          "datasets_shared": 0,
          "datasets_uploaded": 0,
          "groups_created": 1,
          "run_date": "2018-05-31T00:00:00",
          "total_user_logins": 6,
          "total_visualization_launches": 1,
          "total_workflow_launches": 2,
          "unique_user_logins": 5,
          "users_created": 13
         },
         {
          "datasets_shared": 0,
          "datasets_uploaded": 0,
          "groups_created": 0,
          "run_date": "2018-06-01T00:00:00",
          "total_user_logins": 1,
          "total_visualization_launches": 3,
          "total_workflow_launches": 0,
          "unique_user_logins": 1,
          "users_created": 18
         },
         {
          "datasets_shared": 0,
          "datasets_uploaded": 0,
          "groups_created": 0,
          "run_date": "2018-06-02T00:00:00",
          "total_user_logins": 0,
          "total_visualization_launches": 0,
          "total_workflow_launches": 0,
          "unique_user_logins": 0,
          "users_created": 17
         },
         {
          "datasets_shared": 0,
          "datasets_uploaded": 0,
          "groups_created": 0,
          "run_date": "2018-06-03T00:00:00",
          "total_user_logins": 0,
          "total_visualization_launches": 0,
          "total_workflow_launches": 0,
          "unique_user_logins": 0,
          "users_created": 7
         },
         {
          "datasets_shared": 0,
          "datasets_uploaded": 0,
          "groups_created": 0,
          "run_date": "2018-06-04T00:00:00",
          "total_user_logins": 2,
          "total_visualization_launches": 0,
          "total_workflow_launches": 0,
          "unique_user_logins": 1,
          "users_created": 4
         },
         {
          "datasets_shared": 0,
          "datasets_uploaded": 0,
          "groups_created": 0,
          "run_date": "2018-06-05T00:00:00",
          "total_user_logins": 1,
          "total_visualization_launches": 0,
          "total_workflow_launches": 0,
          "unique_user_logins": 1,
          "users_created": 7
         },
         {
          "datasets_shared": 0,
          "datasets_uploaded": 0,
          "groups_created": 0,
          "run_date": "2018-06-06T00:00:00",
          "total_user_logins": 0,
          "total_visualization_launches": 0,
          "total_workflow_launches": 0,
          "unique_user_logins": 0,
          "users_created": 7
         },
         {
          "datasets_shared": 0,
          "datasets_uploaded": 0,
          "groups_created": 0,
          "run_date": "2018-06-07T00:00:00",
          "total_user_logins": 1,
          "total_visualization_launches": 0,
          "total_workflow_launches": 0,
          "unique_user_logins": 1,
          "users_created": 13
         },
         {
          "datasets_shared": 0,
          "datasets_uploaded": 0,
          "groups_created": 0,
          "run_date": "2018-06-08T00:00:00",
          "total_user_logins": 3,
          "total_visualization_launches": 0,
          "total_workflow_launches": 0,
          "unique_user_logins": 2,
          "users_created": 7
         },
         {
          "datasets_shared": 0,
          "datasets_uploaded": 0,
          "groups_created": 0,
          "run_date": "2018-06-09T00:00:00",
          "total_user_logins": 0,
          "total_visualization_launches": 0,
          "total_workflow_launches": 0,
          "unique_user_logins": 0,
          "users_created": 17
         },
         {
          "datasets_shared": 0,
          "datasets_uploaded": 0,
          "groups_created": 0,
          "run_date": "2018-06-10T00:00:00",
          "total_user_logins": 1,
          "total_visualization_launches": 0,
          "total_workflow_launches": 0,
          "unique_user_logins": 1,
          "users_created": 15
         },
         {
          "datasets_shared": 0,
          "datasets_uploaded": 0,
          "groups_created": 0,
          "run_date": "2018-06-11T00:00:00",
          "total_user_logins": 5,
          "total_visualization_launches": 0,
          "total_workflow_launches": 0,
          "unique_user_logins": 3,
          "users_created": 5
         },
         {
          "datasets_shared": 0,
          "datasets_uploaded": 0,
          "groups_created": 0,
          "run_date": "2018-06-12T00:00:00",
          "total_user_logins": 3,
          "total_visualization_launches": 4,
          "total_workflow_launches": 0,
          "unique_user_logins": 3,
          "users_created": 6
         },
         {
          "datasets_shared": 1,
          "datasets_uploaded": 2,
          "groups_created": 0,
          "run_date": "2018-06-13T00:00:00",
          "total_user_logins": 5,
          "total_visualization_launches": 1,
          "total_workflow_launches": 0,
          "unique_user_logins": 5,
          "users_created": 6
         },
         {
          "datasets_shared": 0,
          "datasets_uploaded": 0,
          "groups_created": 0,
          "run_date": "2018-06-14T00:00:00",
          "total_user_logins": 3,
          "total_visualization_launches": 0,
          "total_workflow_launches": 0,
          "unique_user_logins": 3,
          "users_created": 8
         },
         {
          "datasets_shared": 0,
          "datasets_uploaded": 1,
          "groups_created": 0,
          "run_date": "2018-06-15T00:00:00",
          "total_user_logins": 2,
          "total_visualization_launches": 0,
          "total_workflow_launches": 0,
          "unique_user_logins": 2,
          "users_created": 16
         },
         {
          "datasets_shared": 0,
          "datasets_uploaded": 0,
          "groups_created": 0,
          "run_date": "2018-06-16T00:00:00",
          "total_user_logins": 2,
          "total_visualization_launches": 0,
          "total_workflow_launches": 0,
          "unique_user_logins": 1,
          "users_created": 7
         },
         {
          "datasets_shared": 0,
          "datasets_uploaded": 0,
          "groups_created": 0,
          "run_date": "2018-06-17T00:00:00",
          "total_user_logins": 1,
          "total_visualization_launches": 0,
          "total_workflow_launches": 0,
          "unique_user_logins": 1,
          "users_created": 6
         },
         {
          "datasets_shared": 1,
          "datasets_uploaded": 2,
          "groups_created": 1,
          "run_date": "2018-06-18T00:00:00",
          "total_user_logins": 2,
          "total_visualization_launches": 0,
          "total_workflow_launches": 0,
          "unique_user_logins": 2,
          "users_created": 6
         },
         {
          "datasets_shared": 0,
          "datasets_uploaded": 0,
          "groups_created": 0,
          "run_date": "2018-06-19T00:00:00",
          "total_user_logins": 2,
          "total_visualization_launches": 0,
          "total_workflow_launches": 0,
          "unique_user_logins": 1,
          "users_created": 7
         },
         {
          "datasets_shared": 0,
          "datasets_uploaded": 0,
          "groups_created": 0,
          "run_date": "2018-06-20T00:00:00",
          "total_user_logins": 3,
          "total_visualization_launches": 0,
          "total_workflow_launches": 0,
          "unique_user_logins": 3,
          "users_created": 8
         },
         {
          "datasets_shared": 0,
          "datasets_uploaded": 0,
          "groups_created": 0,
          "run_date": "2018-06-21T00:00:00",
          "total_user_logins": 1,
          "total_visualization_launches": 0,
          "total_workflow_launches": 0,
          "unique_user_logins": 1,
          "users_created": 9
         },
         {
          "datasets_shared": 0,
          "datasets_uploaded": 0,
          "groups_created": 0,
          "run_date": "2018-06-22T00:00:00",
          "total_user_logins": 1,
          "total_visualization_launches": 0,
          "total_workflow_launches": 0,
          "unique_user_logins": 1,
          "users_created": 10
         },
         {
          "datasets_shared": 0,
          "datasets_uploaded": 0,
          "groups_created": 0,
          "run_date": "2018-06-23T00:00:00",
          "total_user_logins": 1,
          "total_visualization_launches": 0,
          "total_workflow_launches": 0,
          "unique_user_logins": 1,
          "users_created": 7
         },
         {
          "datasets_shared": 0,
          "datasets_uploaded": 0,
          "groups_created": 0,
          "run_date": "2018-06-24T00:00:00",
          "total_user_logins": 0,
          "total_visualization_launches": 0,
          "total_workflow_launches": 0,
          "unique_user_logins": 0,
          "users_created": 11
         },
         {
          "datasets_shared": 0,
          "datasets_uploaded": 0,
          "groups_created": 0,
          "run_date": "2018-06-25T00:00:00",
          "total_user_logins": 2,
          "total_visualization_launches": 0,
          "total_workflow_launches": 0,
          "unique_user_logins": 2,
          "users_created": 10
         },
         {
          "datasets_shared": 0,
          "datasets_uploaded": 0,
          "groups_created": 0,
          "run_date": "2018-06-26T00:00:00",
          "total_user_logins": 2,
          "total_visualization_launches": 1,
          "total_workflow_launches": 0,
          "unique_user_logins": 2,
          "users_created": 9
         },
         {
          "datasets_shared": 0,
          "datasets_uploaded": 0,
          "groups_created": 0,
          "run_date": "2018-06-27T00:00:00",
          "total_user_logins": 4,
          "total_visualization_launches": 0,
          "total_workflow_launches": 0,
          "unique_user_logins": 3,
          "users_created": 11
         },
         {
          "datasets_shared": 0,
          "datasets_uploaded": 0,
          "groups_created": 0,
          "run_date": "2018-06-28T00:00:00",
          "total_user_logins": 4,
          "total_visualization_launches": 0,
          "total_workflow_launches": 0,
          "unique_user_logins": 3,
          "users_created": 10
         },
         {
          "datasets_shared": 0,
          "datasets_uploaded": 0,
          "groups_created": 0,
          "run_date": "2018-06-29T00:00:00",
          "total_user_logins": 7,
          "total_visualization_launches": 0,
          "total_workflow_launches": 0,
          "unique_user_logins": 2,
          "users_created": 9
         },
         {
          "datasets_shared": 0,
          "datasets_uploaded": 0,
          "groups_created": 0,
          "run_date": "2018-06-30T00:00:00",
          "total_user_logins": 0,
          "total_visualization_launches": 0,
          "total_workflow_launches": 0,
          "unique_user_logins": 0,
          "users_created": 28
         },
         {
          "datasets_shared": 0,
          "datasets_uploaded": 0,
          "groups_created": 0,
          "run_date": "2018-07-01T00:00:00",
          "total_user_logins": 2,
          "total_visualization_launches": 1,
          "total_workflow_launches": 0,
          "unique_user_logins": 2,
          "users_created": 8
         },
         {
          "datasets_shared": 0,
          "datasets_uploaded": 0,
          "groups_created": 0,
          "run_date": "2018-07-02T00:00:00",
          "total_user_logins": 2,
          "total_visualization_launches": 0,
          "total_workflow_launches": 0,
          "unique_user_logins": 2,
          "users_created": 6
         },
         {
          "datasets_shared": 1,
          "datasets_uploaded": 1,
          "groups_created": 0,
          "run_date": "2018-07-03T00:00:00",
          "total_user_logins": 2,
          "total_visualization_launches": 3,
          "total_workflow_launches": 0,
          "unique_user_logins": 2,
          "users_created": 15
         },
         {
          "datasets_shared": 0,
          "datasets_uploaded": 0,
          "groups_created": 0,
          "run_date": "2018-07-04T00:00:00",
          "total_user_logins": 0,
          "total_visualization_launches": 0,
          "total_workflow_launches": 0,
          "unique_user_logins": 0,
          "users_created": 17
         },
         {
          "datasets_shared": 0,
          "datasets_uploaded": 0,
          "groups_created": 0,
          "run_date": "2018-07-05T00:00:00",
          "total_user_logins": 4,
          "total_visualization_launches": 0,
          "total_workflow_launches": 0,
          "unique_user_logins": 3,
          "users_created": 8
         },
         {
          "datasets_shared": 0,
          "datasets_uploaded": 1,
          "groups_created": 0,
          "run_date": "2018-07-06T00:00:00",
          "total_user_logins": 3,
          "total_visualization_launches": 3,
          "total_workflow_launches": 0,
          "unique_user_logins": 2,
          "users_created": 8
         },
         {
          "datasets_shared": 0,
          "datasets_uploaded": 0,
          "groups_created": 0,
          "run_date": "2018-07-07T00:00:00",
          "total_user_logins": 1,
          "total_visualization_launches": 0,
          "total_workflow_launches": 0,
          "unique_user_logins": 1,
          "users_created": 9
         },
         {
          "datasets_shared": 0,
          "datasets_uploaded": 0,
          "groups_created": 0,
          "run_date": "2018-07-08T00:00:00",
          "total_user_logins": 0,
          "total_visualization_launches": 0,
          "total_workflow_launches": 0,
          "unique_user_logins": 0,
          "users_created": 14
         },
         {
          "datasets_shared": 0,
          "datasets_uploaded": 0,
          "groups_created": 0,
          "run_date": "2018-07-09T00:00:00",
          "total_user_logins": 0,
          "total_visualization_launches": 0,
          "total_workflow_launches": 0,
          "unique_user_logins": 0,
          "users_created": 10
         },
         {
          "datasets_shared": 0,
          "datasets_uploaded": 0,
          "groups_created": 0,
          "run_date": "2018-07-10T00:00:00",
          "total_user_logins": 2,
          "total_visualization_launches": 0,
          "total_workflow_launches": 0,
          "unique_user_logins": 1,
          "users_created": 10
         },
         {
          "datasets_shared": 0,
          "datasets_uploaded": 0,
          "groups_created": 0,
          "run_date": "2018-07-11T00:00:00",
          "total_user_logins": 0,
          "total_visualization_launches": 0,
          "total_workflow_launches": 0,
          "unique_user_logins": 0,
          "users_created": 16
         },
         {
          "datasets_shared": 0,
          "datasets_uploaded": 0,
          "groups_created": 0,
          "run_date": "2018-07-12T00:00:00",
          "total_user_logins": 4,
          "total_visualization_launches": 0,
          "total_workflow_launches": 0,
          "unique_user_logins": 3,
          "users_created": 17
         },
         {
          "datasets_shared": 0,
          "datasets_uploaded": 1,
          "groups_created": 0,
          "run_date": "2018-07-13T00:00:00",
          "total_user_logins": 3,
          "total_visualization_launches": 0,
          "total_workflow_launches": 0,
          "unique_user_logins": 3,
          "users_created": 17
         },
         {
          "datasets_shared": 0,
          "datasets_uploaded": 0,
          "groups_created": 0,
          "run_date": "2018-07-14T00:00:00",
          "total_user_logins": 0,
          "total_visualization_launches": 0,
          "total_workflow_launches": 0,
          "unique_user_logins": 1,
          "users_created": 5
         },
         {
          "datasets_shared": 0,
          "datasets_uploaded": 0,
          "groups_created": 0,
          "run_date": "2018-07-15T00:00:00",
          "total_user_logins": 0,
          "total_visualization_launches": 0,
          "total_workflow_launches": 0,
          "unique_user_logins": 0,
          "users_created": 26
         },
         {
          "datasets_shared": 0,
          "datasets_uploaded": 0,
          "groups_created": 0,
          "run_date": "2018-07-16T00:00:00",
          "total_user_logins": 1,
          "total_visualization_launches": 0,
          "total_workflow_launches": 0,
          "unique_user_logins": 1,
          "users_created": 13
         },
         {
          "datasets_shared": 0,
          "datasets_uploaded": 0,
          "groups_created": 0,
          "run_date": "2018-07-17T00:00:00",
          "total_user_logins": 13,
          "total_visualization_launches": 0,
          "total_workflow_launches": 0,
          "unique_user_logins": 5,
          "users_created": 11
         },
         {
          "datasets_shared": 0,
          "datasets_uploaded": 0,
          "groups_created": 0,
          "run_date": "2018-07-18T00:00:00",
          "total_user_logins": 0,
          "total_visualization_launches": 0,
          "total_workflow_launches": 0,
          "unique_user_logins": 0,
          "users_created": 23
         },
         {
          "datasets_shared": 0,
          "datasets_uploaded": 0,
          "groups_created": 0,
          "run_date": "2018-07-19T00:00:00",
          "total_user_logins": 16,
          "total_visualization_launches": 0,
          "total_workflow_launches": 0,
          "unique_user_logins": 9,
          "users_created": 18
         },
         {
          "datasets_shared": 2,
          "datasets_uploaded": 3,
          "groups_created": 0,
          "run_date": "2018-07-20T00:00:00",
          "total_user_logins": 6,
          "total_visualization_launches": 0,
          "total_workflow_launches": 0,
          "unique_user_logins": 6,
          "users_created": 6
         },
         {
          "datasets_shared": 1,
          "datasets_uploaded": 2,
          "groups_created": 0,
          "run_date": "2018-07-22T00:00:00",
          "total_user_logins": 8,
          "total_visualization_launches": 5,
          "total_workflow_launches": 1,
          "unique_user_logins": 4,
          "users_created": 25
         },
         {
          "datasets_shared": 0,
          "datasets_uploaded": 0,
          "groups_created": 0,
          "run_date": "2018-07-23T00:00:00",
          "total_user_logins": -2,
          "total_visualization_launches": 0,
          "total_workflow_launches": 0,
          "unique_user_logins": 1,
          "users_created": 3
         },
         {
          "datasets_shared": 6,
          "datasets_uploaded": 7,
          "groups_created": 1,
          "run_date": "2018-07-24T00:00:00",
          "total_user_logins": 11,
          "total_visualization_launches": 4,
          "total_workflow_launches": 1,
          "unique_user_logins": 7,
          "users_created": 11
         },
         {
          "datasets_shared": 2,
          "datasets_uploaded": 0,
          "groups_created": 0,
          "run_date": "2018-07-25T00:00:00",
          "total_user_logins": 5,
          "total_visualization_launches": 5,
          "total_workflow_launches": 1,
          "unique_user_logins": 4,
          "users_created": 16
         },
         {
          "datasets_shared": 3,
          "datasets_uploaded": 2,
          "groups_created": 0,
          "run_date": "2018-07-26T00:00:00",
          "total_user_logins": 5,
          "total_visualization_launches": 6,
          "total_workflow_launches": 3,
          "unique_user_logins": 3,
          "users_created": 6
         },
         {
          "datasets_shared": 1,
          "datasets_uploaded": 0,
          "groups_created": 0,
          "run_date": "2018-07-27T00:00:00",
          "total_user_logins": 8,
          "total_visualization_launches": 0,
          "total_workflow_launches": 1,
          "unique_user_logins": 4,
          "users_created": 23
         },
         {
          "datasets_shared": 1,
          "datasets_uploaded": 0,
          "groups_created": 0,
          "run_date": "2018-07-28T00:00:00",
          "total_user_logins": 9,
          "total_visualization_launches": 5,
          "total_workflow_launches": 1,
          "unique_user_logins": 3,
          "users_created": 19
         },
         {
          "datasets_shared": 0,
          "datasets_uploaded": 0,
          "groups_created": 0,
          "run_date": "2018-07-29T00:00:00",
          "total_user_logins": 0,
          "total_visualization_launches": 0,
          "total_workflow_launches": 0,
          "unique_user_logins": 0,
          "users_created": 17
         },
         {
          "datasets_shared": 0,
          "datasets_uploaded": 0,
          "groups_created": 0,
          "run_date": "2018-07-30T00:00:00",
          "total_user_logins": 2,
          "total_visualization_launches": 0,
          "total_workflow_launches": 0,
          "unique_user_logins": 2,
          "users_created": 25
         },
         {
          "datasets_shared": 0,
          "datasets_uploaded": 0,
          "groups_created": 0,
          "run_date": "2018-07-31T00:00:00",
          "total_user_logins": 6,
          "total_visualization_launches": 1,
          "total_workflow_launches": 0,
          "unique_user_logins": 4,
          "users_created": 24
         },
         {
          "datasets_shared": 0,
          "datasets_uploaded": 0,
          "groups_created": 0,
          "run_date": "2018-08-01T00:00:00",
          "total_user_logins": 9,
          "total_visualization_launches": 0,
          "total_workflow_launches": 0,
          "unique_user_logins": 6,
          "users_created": 31
         },
         {
          "datasets_shared": 0,
          "datasets_uploaded": 0,
          "groups_created": 0,
          "run_date": "2018-08-02T00:00:00",
          "total_user_logins": 1,
          "total_visualization_launches": 0,
          "total_workflow_launches": 0,
          "unique_user_logins": 1,
          "users_created": 14
         },
         {
          "datasets_shared": 0,
          "datasets_uploaded": 0,
          "groups_created": 1,
          "run_date": "2018-08-03T00:00:00",
          "total_user_logins": 4,
          "total_visualization_launches": 5,
          "total_workflow_launches": 0,
          "unique_user_logins": 3,
          "users_created": 18
         },
         {
          "datasets_shared": 1,
          "datasets_uploaded": 1,
          "groups_created": 0,
          "run_date": "2018-08-04T00:00:00",
          "total_user_logins": 5,
          "total_visualization_launches": 1,
          "total_workflow_launches": 0,
          "unique_user_logins": 4,
          "users_created": 21
         },
         {
          "datasets_shared": 0,
          "datasets_uploaded": 0,
          "groups_created": 0,
          "run_date": "2018-08-05T00:00:00",
          "total_user_logins": 0,
          "total_visualization_launches": 0,
          "total_workflow_launches": 0,
          "unique_user_logins": 0,
          "users_created": 25
         },
         {
          "datasets_shared": 0,
          "datasets_uploaded": 0,
          "groups_created": 0,
          "run_date": "2018-08-06T00:00:00",
          "total_user_logins": 0,
          "total_visualization_launches": 0,
          "total_workflow_launches": 0,
          "unique_user_logins": 0,
          "users_created": 17
         },
         {
          "datasets_shared": 0,
          "datasets_uploaded": 0,
          "groups_created": 0,
          "run_date": "2018-08-07T00:00:00",
          "total_user_logins": 2,
          "total_visualization_launches": 0,
          "total_workflow_launches": 0,
          "unique_user_logins": 2,
          "users_created": 16
         },
         {
          "datasets_shared": 0,
          "datasets_uploaded": 0,
          "groups_created": 0,
          "run_date": "2018-08-08T00:00:00",
          "total_user_logins": 4,
          "total_visualization_launches": 0,
          "total_workflow_launches": 0,
          "unique_user_logins": 2,
          "users_created": 40
         },
         {
          "datasets_shared": 0,
          "datasets_uploaded": 0,
          "groups_created": 0,
          "run_date": "2018-08-09T00:00:00",
          "total_user_logins": 0,
          "total_visualization_launches": 0,
          "total_workflow_launches": 0,
          "unique_user_logins": 0,
          "users_created": 28
         },
         {
          "datasets_shared": 0,
          "datasets_uploaded": 0,
          "groups_created": 0,
          "run_date": "2018-08-10T00:00:00",
          "total_user_logins": 1,
          "total_visualization_launches": 0,
          "total_workflow_launches": 0,
          "unique_user_logins": 1,
          "users_created": 21
         },
         {
          "datasets_shared": 0,
          "datasets_uploaded": 0,
          "groups_created": 0,
          "run_date": "2018-08-11T00:00:00",
          "total_user_logins": 0,
          "total_visualization_launches": 0,
          "total_workflow_launches": 0,
          "unique_user_logins": 0,
          "users_created": 18
         },
         {
          "datasets_shared": 0,
          "datasets_uploaded": 0,
          "groups_created": 0,
          "run_date": "2018-08-12T00:00:00",
          "total_user_logins": 0,
          "total_visualization_launches": 0,
          "total_workflow_launches": 0,
          "unique_user_logins": 0,
          "users_created": 24
         },
         {
          "datasets_shared": 0,
          "datasets_uploaded": 0,
          "groups_created": 0,
          "run_date": "2018-08-13T00:00:00",
          "total_user_logins": 0,
          "total_visualization_launches": 0,
          "total_workflow_launches": 0,
          "unique_user_logins": 0,
          "users_created": 15
         },
         {
          "datasets_shared": 0,
          "datasets_uploaded": 0,
          "groups_created": 0,
          "run_date": "2018-08-14T00:00:00",
          "total_user_logins": 1,
          "total_visualization_launches": 0,
          "total_workflow_launches": 0,
          "unique_user_logins": 1,
          "users_created": 18
         },
         {
          "datasets_shared": 0,
          "datasets_uploaded": 0,
          "groups_created": 0,
          "run_date": "2018-08-15T00:00:00",
          "total_user_logins": 3,
          "total_visualization_launches": 1,
          "total_workflow_launches": 0,
          "unique_user_logins": 3,
          "users_created": 34
         },
         {
          "datasets_shared": 1,
          "datasets_uploaded": 1,
          "groups_created": 0,
          "run_date": "2018-08-16T00:00:00",
          "total_user_logins": 5,
          "total_visualization_launches": 2,
          "total_workflow_launches": 0,
          "unique_user_logins": 4,
          "users_created": 18
         },
         {
          "datasets_shared": 2,
          "datasets_uploaded": 3,
          "groups_created": 0,
          "run_date": "2018-08-17T00:00:00",
          "total_user_logins": 7,
          "total_visualization_launches": 9,
          "total_workflow_launches": 0,
          "unique_user_logins": 6,
          "users_created": 21
         }
        ]
       },
       "vconcat": [
        {
         "data": {
          "name": "data-a85ba82af39c1fa11dd908a952905777"
         },
         "encoding": {
          "x": {
           "field": "run_date",
           "title": null,
           "type": "temporal"
          },
          "y": {
           "field": "users_created",
           "title": null,
           "type": "quantitative"
          }
         },
         "height": 30,
         "mark": {
          "interpolate": "step-after",
          "type": "area"
         },
         "selection": {
          "selector003": {
           "encodings": [
            "x"
           ],
           "mark": {
            "fill": "#333",
            "fillOpacity": 0.125,
            "stroke": "white"
           },
           "on": "[mousedown, window:mouseup] > window:mousemove!",
           "resolve": "global",
           "translate": "[mousedown, window:mouseup] > window:mousemove!",
           "type": "interval",
           "zoom": "wheel!"
          }
         },
         "width": 900
        },
        {
         "hconcat": [
          {
           "vconcat": [
            {
             "height": 85,
             "layer": [
              {
               "data": {
                "name": "data-a85ba82af39c1fa11dd908a952905777"
               },
               "encoding": {
                "x": {
                 "field": "run_date",
                 "title": null,
                 "type": "temporal"
                },
                "y": {
                 "field": "datasets_shared",
                 "title": null,
                 "type": "quantitative"
                }
               },
               "mark": {
                "interpolate": "step-before",
                "type": "line"
               },
               "transform": [
                {
                 "filter": {
                  "selection": "selector003"
                 }
                }
               ]
              },
              {
               "data": {
                "name": "data-a85ba82af39c1fa11dd908a952905777"
               },
               "encoding": {
                "opacity": {
                 "value": 0
                },
                "x": {
                 "field": "run_date",
                 "title": null,
                 "type": "temporal"
                }
               },
               "mark": "point",
               "selection": {
                "selector004": {
                 "empty": "none",
                 "encodings": [
                  "x"
                 ],
                 "nearest": true,
                 "on": "mouseover",
                 "resolve": "global",
                 "type": "single"
                }
               },
               "transform": [
                {
                 "filter": {
                  "selection": "selector003"
                 }
                }
               ]
              },
              {
               "data": {
                "name": "data-a85ba82af39c1fa11dd908a952905777"
               },
               "encoding": {
                "opacity": {
                 "condition": {
                  "selection": "selector004",
                  "value": 1
                 },
                 "value": 0
                },
                "x": {
                 "field": "run_date",
                 "title": null,
                 "type": "temporal"
                },
                "y": {
                 "field": "datasets_shared",
                 "title": null,
                 "type": "quantitative"
                }
               },
               "mark": "point",
               "transform": [
                {
                 "filter": {
                  "selection": "selector003"
                 }
                }
               ]
              },
              {
               "data": {
                "name": "data-a85ba82af39c1fa11dd908a952905777"
               },
               "encoding": {
                "x": {
                 "field": "run_date",
                 "title": null,
                 "type": "temporal"
                }
               },
               "mark": {
                "color": "gray",
                "type": "rule"
               },
               "transform": [
                {
                 "filter": {
                  "selection": "selector004"
                 }
                },
                {
                 "filter": {
                  "selection": "selector003"
                 }
                }
               ]
              },
              {
               "data": {
                "name": "data-a85ba82af39c1fa11dd908a952905777"
               },
               "encoding": {
                "text": {
                 "condition": {
                  "field": "datasets_shared",
                  "selection": "selector004",
                  "type": "quantitative"
                 },
                 "value": " "
                },
                "x": {
                 "field": "run_date",
                 "title": null,
                 "type": "temporal"
                },
                "y": {
                 "field": "datasets_shared",
                 "title": null,
                 "type": "quantitative"
                }
               },
               "mark": {
                "align": "left",
                "dx": 5,
                "dy": -5,
                "type": "text"
               },
               "transform": [
                {
                 "filter": {
                  "selection": "selector003"
                 }
                }
               ]
              }
             ],
             "title": "datasets shared",
             "width": 420
            },
            {
             "height": 85,
             "layer": [
              {
               "data": {
                "name": "data-a85ba82af39c1fa11dd908a952905777"
               },
               "encoding": {
                "x": {
                 "field": "run_date",
                 "title": null,
                 "type": "temporal"
                },
                "y": {
                 "field": "datasets_uploaded",
                 "title": null,
                 "type": "quantitative"
                }
               },
               "mark": {
                "interpolate": "step-before",
                "type": "line"
               },
               "transform": [
                {
                 "filter": {
                  "selection": "selector003"
                 }
                }
               ]
              },
              {
               "data": {
                "name": "data-a85ba82af39c1fa11dd908a952905777"
               },
               "encoding": {
                "opacity": {
                 "value": 0
                },
                "x": {
                 "field": "run_date",
                 "title": null,
                 "type": "temporal"
                }
               },
               "mark": "point",
               "selection": {
                "selector004": {
                 "empty": "none",
                 "encodings": [
                  "x"
                 ],
                 "nearest": true,
                 "on": "mouseover",
                 "resolve": "global",
                 "type": "single"
                }
               },
               "transform": [
                {
                 "filter": {
                  "selection": "selector003"
                 }
                }
               ]
              },
              {
               "data": {
                "name": "data-a85ba82af39c1fa11dd908a952905777"
               },
               "encoding": {
                "opacity": {
                 "condition": {
                  "selection": "selector004",
                  "value": 1
                 },
                 "value": 0
                },
                "x": {
                 "field": "run_date",
                 "title": null,
                 "type": "temporal"
                },
                "y": {
                 "field": "datasets_uploaded",
                 "title": null,
                 "type": "quantitative"
                }
               },
               "mark": "point",
               "transform": [
                {
                 "filter": {
                  "selection": "selector003"
                 }
                }
               ]
              },
              {
               "data": {
                "name": "data-a85ba82af39c1fa11dd908a952905777"
               },
               "encoding": {
                "x": {
                 "field": "run_date",
                 "title": null,
                 "type": "temporal"
                }
               },
               "mark": {
                "color": "gray",
                "type": "rule"
               },
               "transform": [
                {
                 "filter": {
                  "selection": "selector004"
                 }
                },
                {
                 "filter": {
                  "selection": "selector003"
                 }
                }
               ]
              },
              {
               "data": {
                "name": "data-a85ba82af39c1fa11dd908a952905777"
               },
               "encoding": {
                "text": {
                 "condition": {
                  "field": "datasets_uploaded",
                  "selection": "selector004",
                  "type": "quantitative"
                 },
                 "value": " "
                },
                "x": {
                 "field": "run_date",
                 "title": null,
                 "type": "temporal"
                },
                "y": {
                 "field": "datasets_uploaded",
                 "title": null,
                 "type": "quantitative"
                }
               },
               "mark": {
                "align": "left",
                "dx": 5,
                "dy": -5,
                "type": "text"
               },
               "transform": [
                {
                 "filter": {
                  "selection": "selector003"
                 }
                }
               ]
              }
             ],
             "title": "datasets uploaded",
             "width": 420
            },
            {
             "height": 85,
             "layer": [
              {
               "data": {
                "name": "data-a85ba82af39c1fa11dd908a952905777"
               },
               "encoding": {
                "x": {
                 "field": "run_date",
                 "title": null,
                 "type": "temporal"
                },
                "y": {
                 "field": "groups_created",
                 "title": null,
                 "type": "quantitative"
                }
               },
               "mark": {
                "interpolate": "step-before",
                "type": "line"
               },
               "transform": [
                {
                 "filter": {
                  "selection": "selector003"
                 }
                }
               ]
              },
              {
               "data": {
                "name": "data-a85ba82af39c1fa11dd908a952905777"
               },
               "encoding": {
                "opacity": {
                 "value": 0
                },
                "x": {
                 "field": "run_date",
                 "title": null,
                 "type": "temporal"
                }
               },
               "mark": "point",
               "selection": {
                "selector004": {
                 "empty": "none",
                 "encodings": [
                  "x"
                 ],
                 "nearest": true,
                 "on": "mouseover",
                 "resolve": "global",
                 "type": "single"
                }
               },
               "transform": [
                {
                 "filter": {
                  "selection": "selector003"
                 }
                }
               ]
              },
              {
               "data": {
                "name": "data-a85ba82af39c1fa11dd908a952905777"
               },
               "encoding": {
                "opacity": {
                 "condition": {
                  "selection": "selector004",
                  "value": 1
                 },
                 "value": 0
                },
                "x": {
                 "field": "run_date",
                 "title": null,
                 "type": "temporal"
                },
                "y": {
                 "field": "groups_created",
                 "title": null,
                 "type": "quantitative"
                }
               },
               "mark": "point",
               "transform": [
                {
                 "filter": {
                  "selection": "selector003"
                 }
                }
               ]
              },
              {
               "data": {
                "name": "data-a85ba82af39c1fa11dd908a952905777"
               },
               "encoding": {
                "x": {
                 "field": "run_date",
                 "title": null,
                 "type": "temporal"
                }
               },
               "mark": {
                "color": "gray",
                "type": "rule"
               },
               "transform": [
                {
                 "filter": {
                  "selection": "selector004"
                 }
                },
                {
                 "filter": {
                  "selection": "selector003"
                 }
                }
               ]
              },
              {
               "data": {
                "name": "data-a85ba82af39c1fa11dd908a952905777"
               },
               "encoding": {
                "text": {
                 "condition": {
                  "field": "groups_created",
                  "selection": "selector004",
                  "type": "quantitative"
                 },
                 "value": " "
                },
                "x": {
                 "field": "run_date",
                 "title": null,
                 "type": "temporal"
                },
                "y": {
                 "field": "groups_created",
                 "title": null,
                 "type": "quantitative"
                }
               },
               "mark": {
                "align": "left",
                "dx": 5,
                "dy": -5,
                "type": "text"
               },
               "transform": [
                {
                 "filter": {
                  "selection": "selector003"
                 }
                }
               ]
              }
             ],
             "title": "groups created",
             "width": 420
            },
            {
             "height": 85,
             "layer": [
              {
               "data": {
                "name": "data-a85ba82af39c1fa11dd908a952905777"
               },
               "encoding": {
                "x": {
                 "field": "run_date",
                 "title": null,
                 "type": "temporal"
                },
                "y": {
                 "field": "total_user_logins",
                 "title": null,
                 "type": "quantitative"
                }
               },
               "mark": {
                "interpolate": "step-before",
                "type": "line"
               },
               "transform": [
                {
                 "filter": {
                  "selection": "selector003"
                 }
                }
               ]
              },
              {
               "data": {
                "name": "data-a85ba82af39c1fa11dd908a952905777"
               },
               "encoding": {
                "opacity": {
                 "value": 0
                },
                "x": {
                 "field": "run_date",
                 "title": null,
                 "type": "temporal"
                }
               },
               "mark": "point",
               "selection": {
                "selector004": {
                 "empty": "none",
                 "encodings": [
                  "x"
                 ],
                 "nearest": true,
                 "on": "mouseover",
                 "resolve": "global",
                 "type": "single"
                }
               },
               "transform": [
                {
                 "filter": {
                  "selection": "selector003"
                 }
                }
               ]
              },
              {
               "data": {
                "name": "data-a85ba82af39c1fa11dd908a952905777"
               },
               "encoding": {
                "opacity": {
                 "condition": {
                  "selection": "selector004",
                  "value": 1
                 },
                 "value": 0
                },
                "x": {
                 "field": "run_date",
                 "title": null,
                 "type": "temporal"
                },
                "y": {
                 "field": "total_user_logins",
                 "title": null,
                 "type": "quantitative"
                }
               },
               "mark": "point",
               "transform": [
                {
                 "filter": {
                  "selection": "selector003"
                 }
                }
               ]
              },
              {
               "data": {
                "name": "data-a85ba82af39c1fa11dd908a952905777"
               },
               "encoding": {
                "x": {
                 "field": "run_date",
                 "title": null,
                 "type": "temporal"
                }
               },
               "mark": {
                "color": "gray",
                "type": "rule"
               },
               "transform": [
                {
                 "filter": {
                  "selection": "selector004"
                 }
                },
                {
                 "filter": {
                  "selection": "selector003"
                 }
                }
               ]
              },
              {
               "data": {
                "name": "data-a85ba82af39c1fa11dd908a952905777"
               },
               "encoding": {
                "text": {
                 "condition": {
                  "field": "total_user_logins",
                  "selection": "selector004",
                  "type": "quantitative"
                 },
                 "value": " "
                },
                "x": {
                 "field": "run_date",
                 "title": null,
                 "type": "temporal"
                },
                "y": {
                 "field": "total_user_logins",
                 "title": null,
                 "type": "quantitative"
                }
               },
               "mark": {
                "align": "left",
                "dx": 5,
                "dy": -5,
                "type": "text"
               },
               "transform": [
                {
                 "filter": {
                  "selection": "selector003"
                 }
                }
               ]
              }
             ],
             "title": "total user logins",
             "width": 420
            }
           ]
          },
          {
           "vconcat": [
            {
             "height": 85,
             "layer": [
              {
               "data": {
                "name": "data-a85ba82af39c1fa11dd908a952905777"
               },
               "encoding": {
                "x": {
                 "field": "run_date",
                 "title": null,
                 "type": "temporal"
                },
                "y": {
                 "field": "total_visualization_launches",
                 "title": null,
                 "type": "quantitative"
                }
               },
               "mark": {
                "interpolate": "step-before",
                "type": "line"
               },
               "transform": [
                {
                 "filter": {
                  "selection": "selector003"
                 }
                }
               ]
              },
              {
               "data": {
                "name": "data-a85ba82af39c1fa11dd908a952905777"
               },
               "encoding": {
                "opacity": {
                 "value": 0
                },
                "x": {
                 "field": "run_date",
                 "title": null,
                 "type": "temporal"
                }
               },
               "mark": "point",
               "selection": {
                "selector004": {
                 "empty": "none",
                 "encodings": [
                  "x"
                 ],
                 "nearest": true,
                 "on": "mouseover",
                 "resolve": "global",
                 "type": "single"
                }
               },
               "transform": [
                {
                 "filter": {
                  "selection": "selector003"
                 }
                }
               ]
              },
              {
               "data": {
                "name": "data-a85ba82af39c1fa11dd908a952905777"
               },
               "encoding": {
                "opacity": {
                 "condition": {
                  "selection": "selector004",
                  "value": 1
                 },
                 "value": 0
                },
                "x": {
                 "field": "run_date",
                 "title": null,
                 "type": "temporal"
                },
                "y": {
                 "field": "total_visualization_launches",
                 "title": null,
                 "type": "quantitative"
                }
               },
               "mark": "point",
               "transform": [
                {
                 "filter": {
                  "selection": "selector003"
                 }
                }
               ]
              },
              {
               "data": {
                "name": "data-a85ba82af39c1fa11dd908a952905777"
               },
               "encoding": {
                "x": {
                 "field": "run_date",
                 "title": null,
                 "type": "temporal"
                }
               },
               "mark": {
                "color": "gray",
                "type": "rule"
               },
               "transform": [
                {
                 "filter": {
                  "selection": "selector004"
                 }
                },
                {
                 "filter": {
                  "selection": "selector003"
                 }
                }
               ]
              },
              {
               "data": {
                "name": "data-a85ba82af39c1fa11dd908a952905777"
               },
               "encoding": {
                "text": {
                 "condition": {
                  "field": "total_visualization_launches",
                  "selection": "selector004",
                  "type": "quantitative"
                 },
                 "value": " "
                },
                "x": {
                 "field": "run_date",
                 "title": null,
                 "type": "temporal"
                },
                "y": {
                 "field": "total_visualization_launches",
                 "title": null,
                 "type": "quantitative"
                }
               },
               "mark": {
                "align": "left",
                "dx": 5,
                "dy": -5,
                "type": "text"
               },
               "transform": [
                {
                 "filter": {
                  "selection": "selector003"
                 }
                }
               ]
              }
             ],
             "title": "total visualization launches",
             "width": 420
            },
            {
             "height": 85,
             "layer": [
              {
               "data": {
                "name": "data-a85ba82af39c1fa11dd908a952905777"
               },
               "encoding": {
                "x": {
                 "field": "run_date",
                 "title": null,
                 "type": "temporal"
                },
                "y": {
                 "field": "total_workflow_launches",
                 "title": null,
                 "type": "quantitative"
                }
               },
               "mark": {
                "interpolate": "step-before",
                "type": "line"
               },
               "transform": [
                {
                 "filter": {
                  "selection": "selector003"
                 }
                }
               ]
              },
              {
               "data": {
                "name": "data-a85ba82af39c1fa11dd908a952905777"
               },
               "encoding": {
                "opacity": {
                 "value": 0
                },
                "x": {
                 "field": "run_date",
                 "title": null,
                 "type": "temporal"
                }
               },
               "mark": "point",
               "selection": {
                "selector004": {
                 "empty": "none",
                 "encodings": [
                  "x"
                 ],
                 "nearest": true,
                 "on": "mouseover",
                 "resolve": "global",
                 "type": "single"
                }
               },
               "transform": [
                {
                 "filter": {
                  "selection": "selector003"
                 }
                }
               ]
              },
              {
               "data": {
                "name": "data-a85ba82af39c1fa11dd908a952905777"
               },
               "encoding": {
                "opacity": {
                 "condition": {
                  "selection": "selector004",
                  "value": 1
                 },
                 "value": 0
                },
                "x": {
                 "field": "run_date",
                 "title": null,
                 "type": "temporal"
                },
                "y": {
                 "field": "total_workflow_launches",
                 "title": null,
                 "type": "quantitative"
                }
               },
               "mark": "point",
               "transform": [
                {
                 "filter": {
                  "selection": "selector003"
                 }
                }
               ]
              },
              {
               "data": {
                "name": "data-a85ba82af39c1fa11dd908a952905777"
               },
               "encoding": {
                "x": {
                 "field": "run_date",
                 "title": null,
                 "type": "temporal"
                }
               },
               "mark": {
                "color": "gray",
                "type": "rule"
               },
               "transform": [
                {
                 "filter": {
                  "selection": "selector004"
                 }
                },
                {
                 "filter": {
                  "selection": "selector003"
                 }
                }
               ]
              },
              {
               "data": {
                "name": "data-a85ba82af39c1fa11dd908a952905777"
               },
               "encoding": {
                "text": {
                 "condition": {
                  "field": "total_workflow_launches",
                  "selection": "selector004",
                  "type": "quantitative"
                 },
                 "value": " "
                },
                "x": {
                 "field": "run_date",
                 "title": null,
                 "type": "temporal"
                },
                "y": {
                 "field": "total_workflow_launches",
                 "title": null,
                 "type": "quantitative"
                }
               },
               "mark": {
                "align": "left",
                "dx": 5,
                "dy": -5,
                "type": "text"
               },
               "transform": [
                {
                 "filter": {
                  "selection": "selector003"
                 }
                }
               ]
              }
             ],
             "title": "total workflow launches",
             "width": 420
            },
            {
             "height": 85,
             "layer": [
              {
               "data": {
                "name": "data-a85ba82af39c1fa11dd908a952905777"
               },
               "encoding": {
                "x": {
                 "field": "run_date",
                 "title": null,
                 "type": "temporal"
                },
                "y": {
                 "field": "users_created",
                 "title": null,
                 "type": "quantitative"
                }
               },
               "mark": {
                "interpolate": "step-before",
                "type": "line"
               },
               "transform": [
                {
                 "filter": {
                  "selection": "selector003"
                 }
                }
               ]
              },
              {
               "data": {
                "name": "data-a85ba82af39c1fa11dd908a952905777"
               },
               "encoding": {
                "opacity": {
                 "value": 0
                },
                "x": {
                 "field": "run_date",
                 "title": null,
                 "type": "temporal"
                }
               },
               "mark": "point",
               "selection": {
                "selector004": {
                 "empty": "none",
                 "encodings": [
                  "x"
                 ],
                 "nearest": true,
                 "on": "mouseover",
                 "resolve": "global",
                 "type": "single"
                }
               },
               "transform": [
                {
                 "filter": {
                  "selection": "selector003"
                 }
                }
               ]
              },
              {
               "data": {
                "name": "data-a85ba82af39c1fa11dd908a952905777"
               },
               "encoding": {
                "opacity": {
                 "condition": {
                  "selection": "selector004",
                  "value": 1
                 },
                 "value": 0
                },
                "x": {
                 "field": "run_date",
                 "title": null,
                 "type": "temporal"
                },
                "y": {
                 "field": "users_created",
                 "title": null,
                 "type": "quantitative"
                }
               },
               "mark": "point",
               "transform": [
                {
                 "filter": {
                  "selection": "selector003"
                 }
                }
               ]
              },
              {
               "data": {
                "name": "data-a85ba82af39c1fa11dd908a952905777"
               },
               "encoding": {
                "x": {
                 "field": "run_date",
                 "title": null,
                 "type": "temporal"
                }
               },
               "mark": {
                "color": "gray",
                "type": "rule"
               },
               "transform": [
                {
                 "filter": {
                  "selection": "selector004"
                 }
                },
                {
                 "filter": {
                  "selection": "selector003"
                 }
                }
               ]
              },
              {
               "data": {
                "name": "data-a85ba82af39c1fa11dd908a952905777"
               },
               "encoding": {
                "text": {
                 "condition": {
                  "field": "users_created",
                  "selection": "selector004",
                  "type": "quantitative"
                 },
                 "value": " "
                },
                "x": {
                 "field": "run_date",
                 "title": null,
                 "type": "temporal"
                },
                "y": {
                 "field": "users_created",
                 "title": null,
                 "type": "quantitative"
                }
               },
               "mark": {
                "align": "left",
                "dx": 5,
                "dy": -5,
                "type": "text"
               },
               "transform": [
                {
                 "filter": {
                  "selection": "selector003"
                 }
                }
               ]
              }
             ],
             "title": "users created",
             "width": 420
            },
            {
             "height": 85,
             "layer": [
              {
               "data": {
                "name": "data-a85ba82af39c1fa11dd908a952905777"
               },
               "encoding": {
                "x": {
                 "field": "run_date",
                 "title": null,
                 "type": "temporal"
                },
                "y": {
                 "field": "unique_user_logins",
                 "title": null,
                 "type": "quantitative"
                }
               },
               "mark": {
                "interpolate": "step-before",
                "type": "line"
               },
               "transform": [
                {
                 "filter": {
                  "selection": "selector003"
                 }
                }
               ]
              },
              {
               "data": {
                "name": "data-a85ba82af39c1fa11dd908a952905777"
               },
               "encoding": {
                "opacity": {
                 "value": 0
                },
                "x": {
                 "field": "run_date",
                 "title": null,
                 "type": "temporal"
                }
               },
               "mark": "point",
               "selection": {
                "selector004": {
                 "empty": "none",
                 "encodings": [
                  "x"
                 ],
                 "nearest": true,
                 "on": "mouseover",
                 "resolve": "global",
                 "type": "single"
                }
               },
               "transform": [
                {
                 "filter": {
                  "selection": "selector003"
                 }
                }
               ]
              },
              {
               "data": {
                "name": "data-a85ba82af39c1fa11dd908a952905777"
               },
               "encoding": {
                "opacity": {
                 "condition": {
                  "selection": "selector004",
                  "value": 1
                 },
                 "value": 0
                },
                "x": {
                 "field": "run_date",
                 "title": null,
                 "type": "temporal"
                },
                "y": {
                 "field": "unique_user_logins",
                 "title": null,
                 "type": "quantitative"
                }
               },
               "mark": "point",
               "transform": [
                {
                 "filter": {
                  "selection": "selector003"
                 }
                }
               ]
              },
              {
               "data": {
                "name": "data-a85ba82af39c1fa11dd908a952905777"
               },
               "encoding": {
                "x": {
                 "field": "run_date",
                 "title": null,
                 "type": "temporal"
                }
               },
               "mark": {
                "color": "gray",
                "type": "rule"
               },
               "transform": [
                {
                 "filter": {
                  "selection": "selector004"
                 }
                },
                {
                 "filter": {
                  "selection": "selector003"
                 }
                }
               ]
              },
              {
               "data": {
                "name": "data-a85ba82af39c1fa11dd908a952905777"
               },
               "encoding": {
                "text": {
                 "condition": {
                  "field": "unique_user_logins",
                  "selection": "selector004",
                  "type": "quantitative"
                 },
                 "value": " "
                },
                "x": {
                 "field": "run_date",
                 "title": null,
                 "type": "temporal"
                },
                "y": {
                 "field": "unique_user_logins",
                 "title": null,
                 "type": "quantitative"
                }
               },
               "mark": {
                "align": "left",
                "dx": 5,
                "dy": -5,
                "type": "text"
               },
               "transform": [
                {
                 "filter": {
                  "selection": "selector003"
                 }
                }
               ]
              }
             ],
             "title": "unique user logins",
             "width": 420
            }
           ]
          }
         ]
        }
       ]
      },
      "image/png": "[encoded data removed]",
      "text/plain": [
       "<VegaLite 2 object>\n",
       "\n",
       "If you see this message, it means the renderer has not been properly enabled\n",
       "for the frontend that you are using. For more information, see\n",
       "https://altair-viz.github.io/user_guide/troubleshooting.html\n"
      ]
     },
     "execution_count": 29,
     "metadata": {},
     "output_type": "execute_result"
    }
   ],
   "source": [
    "views = [col for col in data.columns.tolist() if col != 'run_date']\n",
    "\n",
    "panels = [create_panel(view, 420, 85) for view in views]\n",
    "\n",
    "timeline = base.mark_area(interpolate='step-after').encode(\n",
    "    alt.Y('users_created:Q', title=None)\n",
    ").properties(\n",
    "    width=900,\n",
    "    height=30,\n",
    "    selection=brush\n",
    ")\n",
    "\n",
    "chart = timeline & (alt.vconcat(*panels[:4]) | alt.vconcat(*panels[4:]))\n",
    "\n",
    "chart"
   ]
  },
  {
   "cell_type": "code",
   "execution_count": 33,
   "metadata": {},
   "outputs": [],
   "source": [
    "# save Vega-Lite schema\n",
    "chart.save('chart.json')"
   ]
  },
  {
   "cell_type": "code",
   "execution_count": null,
   "metadata": {},
   "outputs": [],
   "source": []
  }
 ],
 "metadata": {
  "kernelspec": {
   "display_name": "Python 3",
   "language": "python",
   "name": "python3"
  },
  "language_info": {
   "codemirror_mode": {
    "name": "ipython",
    "version": 3
   },
   "file_extension": ".py",
   "mimetype": "text/x-python",
   "name": "python",
   "nbconvert_exporter": "python",
   "pygments_lexer": "ipython3",
   "version": "3.6.4"
  }
 },
 "nbformat": 4,
 "nbformat_minor": 2
}
