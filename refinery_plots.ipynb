{
 "cells": [
  {
   "cell_type": "code",
   "execution_count": 43,
   "metadata": {},
   "outputs": [],
   "source": [
    "import altair as alt\n",
    "import pandas as pd\n",
    "import numpy as np"
   ]
  },
  {
   "cell_type": "code",
   "execution_count": 60,
   "metadata": {},
   "outputs": [],
   "source": [
    "# Moved data to a gist so schema can be reused \n",
    "\n",
    "# data = pd.read_csv('Refinery_Site_Stats.csv').drop('ID', axis=1).drop([0])\n",
    "# data.columns = data.columns.str.replace(' ', '_')\n",
    "# data['run_date'] = pd.to_datetime(data['run_date']).dt.normalize()\n",
    "# data.head()"
   ]
  },
  {
   "cell_type": "code",
   "execution_count": 75,
   "metadata": {},
   "outputs": [],
   "source": [
    "# add API endpoint here\n",
    "url = \"https://gist.githubusercontent.com/manzt/abbf9a798982d7da7150cc412a8ffe69/raw/73a63f1179a5abeeb70446911d1ac033ab9af5c9/refinery-usage.csv\"\n",
    "\n",
    "data = alt.UrlData(url)\n",
    "\n",
    "# define columns at endpoint as below, and normalize the time of each entry\n",
    "columns = [\n",
    "    \"datasets_shared\",\n",
    "    \"datasets_uploaded\",\n",
    "    \"groups_created\",\n",
    "    \"total_user_logins\",\n",
    "    \"total_visualization_launches\",\n",
    "    \"total_workflow_launches\",\n",
    "    \"users_created\",\n",
    "    \"unique_user_logins\",\n",
    "]"
   ]
  },
  {
   "cell_type": "code",
   "execution_count": 76,
   "metadata": {},
   "outputs": [],
   "source": [
    "# Define altair selections, brushing for overview and single selection for coordinated views\n",
    "brush = alt.selection_interval(encodings=['x'])\n",
    "nearest = alt.selection_single(nearest=True, on='mouseover', encodings=['x'], empty='none')\n",
    "\n",
    "# Define x encoding for all charts as time \n",
    "base = alt.Chart(data).encode(\n",
    "    alt.X('run_date:T', title=None)\n",
    ")\n",
    "\n",
    "# Define hidden encoding (opacity == 0) to track selections\n",
    "selectors = base.mark_point().encode(\n",
    "    opacity=alt.value(0),\n",
    ").properties(\n",
    "    selection=nearest # add single selection\n",
    ").transform_filter(\n",
    "    brush # apply filtering selection\n",
    ")\n",
    "\n",
    "# filter rules on panels by both selection and timeline\n",
    "rules = base.mark_rule(color='gray').transform_filter(\n",
    "    nearest \n",
    ").transform_filter(\n",
    "    brush\n",
    ")"
   ]
  },
  {
   "cell_type": "code",
   "execution_count": 77,
   "metadata": {},
   "outputs": [],
   "source": [
    "def create_panel(colname, w, h):\n",
    "    \"\"\"Create layered panel for multi-coordinated view chart.\n",
    "\n",
    "    @param: colname - Name of field for Y encoding.\n",
    "    @param: w - width of panel in px.\n",
    "    @param: h - height of panel in px.\n",
    "\n",
    "    \"\"\"\n",
    "    \n",
    "    # Create main line encoding and apply brush filtering\n",
    "    line = base.mark_line(interpolate='step-before').encode(\n",
    "        alt.Y(colname + ':Q', title=None),\n",
    "    ).transform_filter(\n",
    "        brush\n",
    "    )\n",
    "    \n",
    "    # Add hidden points that will reveal on selection\n",
    "    points = line.mark_point().encode(\n",
    "        opacity=alt.condition(nearest, alt.value(1), alt.value(0))\n",
    "    )\n",
    "    \n",
    "    # Add hidden text that will reveal on selection\n",
    "    text = line.mark_text(align='left', dx=5, dy=-5).encode(\n",
    "        text=alt.condition(nearest, colname + ':Q', alt.value(' '))\n",
    "    ) \n",
    "    \n",
    "    # Layer the charts together for a single panel\n",
    "    panel = alt.layer(line, selectors, points, rules, text, width=w, height=h, title=colname.replace('_', ' '))\n",
    "    \n",
    "    return panel"
   ]
  },
  {
   "cell_type": "code",
   "execution_count": 78,
   "metadata": {},
   "outputs": [
    {
     "data": {
      "application/vnd.vegalite.v2+json": {
       "$schema": "https://vega.github.io/schema/vega-lite/v2.6.0.json",
       "config": {
        "view": {
         "height": 300,
         "width": 400
        }
       },
       "vconcat": [
        {
         "data": {
          "format": {
           "type": "csv"
          },
          "url": "https://gist.githubusercontent.com/manzt/abbf9a798982d7da7150cc412a8ffe69/raw/73a63f1179a5abeeb70446911d1ac033ab9af5c9/refinery-usage.csv"
         },
         "encoding": {
          "x": {
           "field": "run_date",
           "title": null,
           "type": "temporal"
          },
          "y": {
           "field": "users_created",
           "title": null,
           "type": "quantitative"
          }
         },
         "height": 30,
         "mark": {
          "interpolate": "step-after",
          "type": "area"
         },
         "selection": {
          "selector025": {
           "encodings": [
            "x"
           ],
           "mark": {
            "fill": "#333",
            "fillOpacity": 0.125,
            "stroke": "white"
           },
           "on": "[mousedown, window:mouseup] > window:mousemove!",
           "resolve": "global",
           "translate": "[mousedown, window:mouseup] > window:mousemove!",
           "type": "interval",
           "zoom": "wheel!"
          }
         },
         "width": 900
        },
        {
         "hconcat": [
          {
           "vconcat": [
            {
             "height": 85,
             "layer": [
              {
               "data": {
                "format": {
                 "type": "csv"
                },
                "url": "https://gist.githubusercontent.com/manzt/abbf9a798982d7da7150cc412a8ffe69/raw/73a63f1179a5abeeb70446911d1ac033ab9af5c9/refinery-usage.csv"
               },
               "encoding": {
                "x": {
                 "field": "run_date",
                 "title": null,
                 "type": "temporal"
                },
                "y": {
                 "field": "datasets_shared",
                 "title": null,
                 "type": "quantitative"
                }
               },
               "mark": {
                "interpolate": "step-before",
                "type": "line"
               },
               "transform": [
                {
                 "filter": {
                  "selection": "selector025"
                 }
                }
               ]
              },
              {
               "data": {
                "format": {
                 "type": "csv"
                },
                "url": "https://gist.githubusercontent.com/manzt/abbf9a798982d7da7150cc412a8ffe69/raw/73a63f1179a5abeeb70446911d1ac033ab9af5c9/refinery-usage.csv"
               },
               "encoding": {
                "opacity": {
                 "value": 0
                },
                "x": {
                 "field": "run_date",
                 "title": null,
                 "type": "temporal"
                }
               },
               "mark": "point",
               "selection": {
                "selector026": {
                 "empty": "none",
                 "encodings": [
                  "x"
                 ],
                 "nearest": true,
                 "on": "mouseover",
                 "resolve": "global",
                 "type": "single"
                }
               },
               "transform": [
                {
                 "filter": {
                  "selection": "selector025"
                 }
                }
               ]
              },
              {
               "data": {
                "format": {
                 "type": "csv"
                },
                "url": "https://gist.githubusercontent.com/manzt/abbf9a798982d7da7150cc412a8ffe69/raw/73a63f1179a5abeeb70446911d1ac033ab9af5c9/refinery-usage.csv"
               },
               "encoding": {
                "opacity": {
                 "condition": {
                  "selection": "selector026",
                  "value": 1
                 },
                 "value": 0
                },
                "x": {
                 "field": "run_date",
                 "title": null,
                 "type": "temporal"
                },
                "y": {
                 "field": "datasets_shared",
                 "title": null,
                 "type": "quantitative"
                }
               },
               "mark": "point",
               "transform": [
                {
                 "filter": {
                  "selection": "selector025"
                 }
                }
               ]
              },
              {
               "data": {
                "format": {
                 "type": "csv"
                },
                "url": "https://gist.githubusercontent.com/manzt/abbf9a798982d7da7150cc412a8ffe69/raw/73a63f1179a5abeeb70446911d1ac033ab9af5c9/refinery-usage.csv"
               },
               "encoding": {
                "x": {
                 "field": "run_date",
                 "title": null,
                 "type": "temporal"
                }
               },
               "mark": {
                "color": "gray",
                "type": "rule"
               },
               "transform": [
                {
                 "filter": {
                  "selection": "selector026"
                 }
                },
                {
                 "filter": {
                  "selection": "selector025"
                 }
                }
               ]
              },
              {
               "data": {
                "format": {
                 "type": "csv"
                },
                "url": "https://gist.githubusercontent.com/manzt/abbf9a798982d7da7150cc412a8ffe69/raw/73a63f1179a5abeeb70446911d1ac033ab9af5c9/refinery-usage.csv"
               },
               "encoding": {
                "text": {
                 "condition": {
                  "field": "datasets_shared",
                  "selection": "selector026",
                  "type": "quantitative"
                 },
                 "value": " "
                },
                "x": {
                 "field": "run_date",
                 "title": null,
                 "type": "temporal"
                },
                "y": {
                 "field": "datasets_shared",
                 "title": null,
                 "type": "quantitative"
                }
               },
               "mark": {
                "align": "left",
                "dx": 5,
                "dy": -5,
                "type": "text"
               },
               "transform": [
                {
                 "filter": {
                  "selection": "selector025"
                 }
                }
               ]
              }
             ],
             "title": "datasets shared",
             "width": 420
            },
            {
             "height": 85,
             "layer": [
              {
               "data": {
                "format": {
                 "type": "csv"
                },
                "url": "https://gist.githubusercontent.com/manzt/abbf9a798982d7da7150cc412a8ffe69/raw/73a63f1179a5abeeb70446911d1ac033ab9af5c9/refinery-usage.csv"
               },
               "encoding": {
                "x": {
                 "field": "run_date",
                 "title": null,
                 "type": "temporal"
                },
                "y": {
                 "field": "datasets_uploaded",
                 "title": null,
                 "type": "quantitative"
                }
               },
               "mark": {
                "interpolate": "step-before",
                "type": "line"
               },
               "transform": [
                {
                 "filter": {
                  "selection": "selector025"
                 }
                }
               ]
              },
              {
               "data": {
                "format": {
                 "type": "csv"
                },
                "url": "https://gist.githubusercontent.com/manzt/abbf9a798982d7da7150cc412a8ffe69/raw/73a63f1179a5abeeb70446911d1ac033ab9af5c9/refinery-usage.csv"
               },
               "encoding": {
                "opacity": {
                 "value": 0
                },
                "x": {
                 "field": "run_date",
                 "title": null,
                 "type": "temporal"
                }
               },
               "mark": "point",
               "selection": {
                "selector026": {
                 "empty": "none",
                 "encodings": [
                  "x"
                 ],
                 "nearest": true,
                 "on": "mouseover",
                 "resolve": "global",
                 "type": "single"
                }
               },
               "transform": [
                {
                 "filter": {
                  "selection": "selector025"
                 }
                }
               ]
              },
              {
               "data": {
                "format": {
                 "type": "csv"
                },
                "url": "https://gist.githubusercontent.com/manzt/abbf9a798982d7da7150cc412a8ffe69/raw/73a63f1179a5abeeb70446911d1ac033ab9af5c9/refinery-usage.csv"
               },
               "encoding": {
                "opacity": {
                 "condition": {
                  "selection": "selector026",
                  "value": 1
                 },
                 "value": 0
                },
                "x": {
                 "field": "run_date",
                 "title": null,
                 "type": "temporal"
                },
                "y": {
                 "field": "datasets_uploaded",
                 "title": null,
                 "type": "quantitative"
                }
               },
               "mark": "point",
               "transform": [
                {
                 "filter": {
                  "selection": "selector025"
                 }
                }
               ]
              },
              {
               "data": {
                "format": {
                 "type": "csv"
                },
                "url": "https://gist.githubusercontent.com/manzt/abbf9a798982d7da7150cc412a8ffe69/raw/73a63f1179a5abeeb70446911d1ac033ab9af5c9/refinery-usage.csv"
               },
               "encoding": {
                "x": {
                 "field": "run_date",
                 "title": null,
                 "type": "temporal"
                }
               },
               "mark": {
                "color": "gray",
                "type": "rule"
               },
               "transform": [
                {
                 "filter": {
                  "selection": "selector026"
                 }
                },
                {
                 "filter": {
                  "selection": "selector025"
                 }
                }
               ]
              },
              {
               "data": {
                "format": {
                 "type": "csv"
                },
                "url": "https://gist.githubusercontent.com/manzt/abbf9a798982d7da7150cc412a8ffe69/raw/73a63f1179a5abeeb70446911d1ac033ab9af5c9/refinery-usage.csv"
               },
               "encoding": {
                "text": {
                 "condition": {
                  "field": "datasets_uploaded",
                  "selection": "selector026",
                  "type": "quantitative"
                 },
                 "value": " "
                },
                "x": {
                 "field": "run_date",
                 "title": null,
                 "type": "temporal"
                },
                "y": {
                 "field": "datasets_uploaded",
                 "title": null,
                 "type": "quantitative"
                }
               },
               "mark": {
                "align": "left",
                "dx": 5,
                "dy": -5,
                "type": "text"
               },
               "transform": [
                {
                 "filter": {
                  "selection": "selector025"
                 }
                }
               ]
              }
             ],
             "title": "datasets uploaded",
             "width": 420
            },
            {
             "height": 85,
             "layer": [
              {
               "data": {
                "format": {
                 "type": "csv"
                },
                "url": "https://gist.githubusercontent.com/manzt/abbf9a798982d7da7150cc412a8ffe69/raw/73a63f1179a5abeeb70446911d1ac033ab9af5c9/refinery-usage.csv"
               },
               "encoding": {
                "x": {
                 "field": "run_date",
                 "title": null,
                 "type": "temporal"
                },
                "y": {
                 "field": "groups_created",
                 "title": null,
                 "type": "quantitative"
                }
               },
               "mark": {
                "interpolate": "step-before",
                "type": "line"
               },
               "transform": [
                {
                 "filter": {
                  "selection": "selector025"
                 }
                }
               ]
              },
              {
               "data": {
                "format": {
                 "type": "csv"
                },
                "url": "https://gist.githubusercontent.com/manzt/abbf9a798982d7da7150cc412a8ffe69/raw/73a63f1179a5abeeb70446911d1ac033ab9af5c9/refinery-usage.csv"
               },
               "encoding": {
                "opacity": {
                 "value": 0
                },
                "x": {
                 "field": "run_date",
                 "title": null,
                 "type": "temporal"
                }
               },
               "mark": "point",
               "selection": {
                "selector026": {
                 "empty": "none",
                 "encodings": [
                  "x"
                 ],
                 "nearest": true,
                 "on": "mouseover",
                 "resolve": "global",
                 "type": "single"
                }
               },
               "transform": [
                {
                 "filter": {
                  "selection": "selector025"
                 }
                }
               ]
              },
              {
               "data": {
                "format": {
                 "type": "csv"
                },
                "url": "https://gist.githubusercontent.com/manzt/abbf9a798982d7da7150cc412a8ffe69/raw/73a63f1179a5abeeb70446911d1ac033ab9af5c9/refinery-usage.csv"
               },
               "encoding": {
                "opacity": {
                 "condition": {
                  "selection": "selector026",
                  "value": 1
                 },
                 "value": 0
                },
                "x": {
                 "field": "run_date",
                 "title": null,
                 "type": "temporal"
                },
                "y": {
                 "field": "groups_created",
                 "title": null,
                 "type": "quantitative"
                }
               },
               "mark": "point",
               "transform": [
                {
                 "filter": {
                  "selection": "selector025"
                 }
                }
               ]
              },
              {
               "data": {
                "format": {
                 "type": "csv"
                },
                "url": "https://gist.githubusercontent.com/manzt/abbf9a798982d7da7150cc412a8ffe69/raw/73a63f1179a5abeeb70446911d1ac033ab9af5c9/refinery-usage.csv"
               },
               "encoding": {
                "x": {
                 "field": "run_date",
                 "title": null,
                 "type": "temporal"
                }
               },
               "mark": {
                "color": "gray",
                "type": "rule"
               },
               "transform": [
                {
                 "filter": {
                  "selection": "selector026"
                 }
                },
                {
                 "filter": {
                  "selection": "selector025"
                 }
                }
               ]
              },
              {
               "data": {
                "format": {
                 "type": "csv"
                },
                "url": "https://gist.githubusercontent.com/manzt/abbf9a798982d7da7150cc412a8ffe69/raw/73a63f1179a5abeeb70446911d1ac033ab9af5c9/refinery-usage.csv"
               },
               "encoding": {
                "text": {
                 "condition": {
                  "field": "groups_created",
                  "selection": "selector026",
                  "type": "quantitative"
                 },
                 "value": " "
                },
                "x": {
                 "field": "run_date",
                 "title": null,
                 "type": "temporal"
                },
                "y": {
                 "field": "groups_created",
                 "title": null,
                 "type": "quantitative"
                }
               },
               "mark": {
                "align": "left",
                "dx": 5,
                "dy": -5,
                "type": "text"
               },
               "transform": [
                {
                 "filter": {
                  "selection": "selector025"
                 }
                }
               ]
              }
             ],
             "title": "groups created",
             "width": 420
            },
            {
             "height": 85,
             "layer": [
              {
               "data": {
                "format": {
                 "type": "csv"
                },
                "url": "https://gist.githubusercontent.com/manzt/abbf9a798982d7da7150cc412a8ffe69/raw/73a63f1179a5abeeb70446911d1ac033ab9af5c9/refinery-usage.csv"
               },
               "encoding": {
                "x": {
                 "field": "run_date",
                 "title": null,
                 "type": "temporal"
                },
                "y": {
                 "field": "total_user_logins",
                 "title": null,
                 "type": "quantitative"
                }
               },
               "mark": {
                "interpolate": "step-before",
                "type": "line"
               },
               "transform": [
                {
                 "filter": {
                  "selection": "selector025"
                 }
                }
               ]
              },
              {
               "data": {
                "format": {
                 "type": "csv"
                },
                "url": "https://gist.githubusercontent.com/manzt/abbf9a798982d7da7150cc412a8ffe69/raw/73a63f1179a5abeeb70446911d1ac033ab9af5c9/refinery-usage.csv"
               },
               "encoding": {
                "opacity": {
                 "value": 0
                },
                "x": {
                 "field": "run_date",
                 "title": null,
                 "type": "temporal"
                }
               },
               "mark": "point",
               "selection": {
                "selector026": {
                 "empty": "none",
                 "encodings": [
                  "x"
                 ],
                 "nearest": true,
                 "on": "mouseover",
                 "resolve": "global",
                 "type": "single"
                }
               },
               "transform": [
                {
                 "filter": {
                  "selection": "selector025"
                 }
                }
               ]
              },
              {
               "data": {
                "format": {
                 "type": "csv"
                },
                "url": "https://gist.githubusercontent.com/manzt/abbf9a798982d7da7150cc412a8ffe69/raw/73a63f1179a5abeeb70446911d1ac033ab9af5c9/refinery-usage.csv"
               },
               "encoding": {
                "opacity": {
                 "condition": {
                  "selection": "selector026",
                  "value": 1
                 },
                 "value": 0
                },
                "x": {
                 "field": "run_date",
                 "title": null,
                 "type": "temporal"
                },
                "y": {
                 "field": "total_user_logins",
                 "title": null,
                 "type": "quantitative"
                }
               },
               "mark": "point",
               "transform": [
                {
                 "filter": {
                  "selection": "selector025"
                 }
                }
               ]
              },
              {
               "data": {
                "format": {
                 "type": "csv"
                },
                "url": "https://gist.githubusercontent.com/manzt/abbf9a798982d7da7150cc412a8ffe69/raw/73a63f1179a5abeeb70446911d1ac033ab9af5c9/refinery-usage.csv"
               },
               "encoding": {
                "x": {
                 "field": "run_date",
                 "title": null,
                 "type": "temporal"
                }
               },
               "mark": {
                "color": "gray",
                "type": "rule"
               },
               "transform": [
                {
                 "filter": {
                  "selection": "selector026"
                 }
                },
                {
                 "filter": {
                  "selection": "selector025"
                 }
                }
               ]
              },
              {
               "data": {
                "format": {
                 "type": "csv"
                },
                "url": "https://gist.githubusercontent.com/manzt/abbf9a798982d7da7150cc412a8ffe69/raw/73a63f1179a5abeeb70446911d1ac033ab9af5c9/refinery-usage.csv"
               },
               "encoding": {
                "text": {
                 "condition": {
                  "field": "total_user_logins",
                  "selection": "selector026",
                  "type": "quantitative"
                 },
                 "value": " "
                },
                "x": {
                 "field": "run_date",
                 "title": null,
                 "type": "temporal"
                },
                "y": {
                 "field": "total_user_logins",
                 "title": null,
                 "type": "quantitative"
                }
               },
               "mark": {
                "align": "left",
                "dx": 5,
                "dy": -5,
                "type": "text"
               },
               "transform": [
                {
                 "filter": {
                  "selection": "selector025"
                 }
                }
               ]
              }
             ],
             "title": "total user logins",
             "width": 420
            }
           ]
          },
          {
           "vconcat": [
            {
             "height": 85,
             "layer": [
              {
               "data": {
                "format": {
                 "type": "csv"
                },
                "url": "https://gist.githubusercontent.com/manzt/abbf9a798982d7da7150cc412a8ffe69/raw/73a63f1179a5abeeb70446911d1ac033ab9af5c9/refinery-usage.csv"
               },
               "encoding": {
                "x": {
                 "field": "run_date",
                 "title": null,
                 "type": "temporal"
                },
                "y": {
                 "field": "total_visualization_launches",
                 "title": null,
                 "type": "quantitative"
                }
               },
               "mark": {
                "interpolate": "step-before",
                "type": "line"
               },
               "transform": [
                {
                 "filter": {
                  "selection": "selector025"
                 }
                }
               ]
              },
              {
               "data": {
                "format": {
                 "type": "csv"
                },
                "url": "https://gist.githubusercontent.com/manzt/abbf9a798982d7da7150cc412a8ffe69/raw/73a63f1179a5abeeb70446911d1ac033ab9af5c9/refinery-usage.csv"
               },
               "encoding": {
                "opacity": {
                 "value": 0
                },
                "x": {
                 "field": "run_date",
                 "title": null,
                 "type": "temporal"
                }
               },
               "mark": "point",
               "selection": {
                "selector026": {
                 "empty": "none",
                 "encodings": [
                  "x"
                 ],
                 "nearest": true,
                 "on": "mouseover",
                 "resolve": "global",
                 "type": "single"
                }
               },
               "transform": [
                {
                 "filter": {
                  "selection": "selector025"
                 }
                }
               ]
              },
              {
               "data": {
                "format": {
                 "type": "csv"
                },
                "url": "https://gist.githubusercontent.com/manzt/abbf9a798982d7da7150cc412a8ffe69/raw/73a63f1179a5abeeb70446911d1ac033ab9af5c9/refinery-usage.csv"
               },
               "encoding": {
                "opacity": {
                 "condition": {
                  "selection": "selector026",
                  "value": 1
                 },
                 "value": 0
                },
                "x": {
                 "field": "run_date",
                 "title": null,
                 "type": "temporal"
                },
                "y": {
                 "field": "total_visualization_launches",
                 "title": null,
                 "type": "quantitative"
                }
               },
               "mark": "point",
               "transform": [
                {
                 "filter": {
                  "selection": "selector025"
                 }
                }
               ]
              },
              {
               "data": {
                "format": {
                 "type": "csv"
                },
                "url": "https://gist.githubusercontent.com/manzt/abbf9a798982d7da7150cc412a8ffe69/raw/73a63f1179a5abeeb70446911d1ac033ab9af5c9/refinery-usage.csv"
               },
               "encoding": {
                "x": {
                 "field": "run_date",
                 "title": null,
                 "type": "temporal"
                }
               },
               "mark": {
                "color": "gray",
                "type": "rule"
               },
               "transform": [
                {
                 "filter": {
                  "selection": "selector026"
                 }
                },
                {
                 "filter": {
                  "selection": "selector025"
                 }
                }
               ]
              },
              {
               "data": {
                "format": {
                 "type": "csv"
                },
                "url": "https://gist.githubusercontent.com/manzt/abbf9a798982d7da7150cc412a8ffe69/raw/73a63f1179a5abeeb70446911d1ac033ab9af5c9/refinery-usage.csv"
               },
               "encoding": {
                "text": {
                 "condition": {
                  "field": "total_visualization_launches",
                  "selection": "selector026",
                  "type": "quantitative"
                 },
                 "value": " "
                },
                "x": {
                 "field": "run_date",
                 "title": null,
                 "type": "temporal"
                },
                "y": {
                 "field": "total_visualization_launches",
                 "title": null,
                 "type": "quantitative"
                }
               },
               "mark": {
                "align": "left",
                "dx": 5,
                "dy": -5,
                "type": "text"
               },
               "transform": [
                {
                 "filter": {
                  "selection": "selector025"
                 }
                }
               ]
              }
             ],
             "title": "total visualization launches",
             "width": 420
            },
            {
             "height": 85,
             "layer": [
              {
               "data": {
                "format": {
                 "type": "csv"
                },
                "url": "https://gist.githubusercontent.com/manzt/abbf9a798982d7da7150cc412a8ffe69/raw/73a63f1179a5abeeb70446911d1ac033ab9af5c9/refinery-usage.csv"
               },
               "encoding": {
                "x": {
                 "field": "run_date",
                 "title": null,
                 "type": "temporal"
                },
                "y": {
                 "field": "total_workflow_launches",
                 "title": null,
                 "type": "quantitative"
                }
               },
               "mark": {
                "interpolate": "step-before",
                "type": "line"
               },
               "transform": [
                {
                 "filter": {
                  "selection": "selector025"
                 }
                }
               ]
              },
              {
               "data": {
                "format": {
                 "type": "csv"
                },
                "url": "https://gist.githubusercontent.com/manzt/abbf9a798982d7da7150cc412a8ffe69/raw/73a63f1179a5abeeb70446911d1ac033ab9af5c9/refinery-usage.csv"
               },
               "encoding": {
                "opacity": {
                 "value": 0
                },
                "x": {
                 "field": "run_date",
                 "title": null,
                 "type": "temporal"
                }
               },
               "mark": "point",
               "selection": {
                "selector026": {
                 "empty": "none",
                 "encodings": [
                  "x"
                 ],
                 "nearest": true,
                 "on": "mouseover",
                 "resolve": "global",
                 "type": "single"
                }
               },
               "transform": [
                {
                 "filter": {
                  "selection": "selector025"
                 }
                }
               ]
              },
              {
               "data": {
                "format": {
                 "type": "csv"
                },
                "url": "https://gist.githubusercontent.com/manzt/abbf9a798982d7da7150cc412a8ffe69/raw/73a63f1179a5abeeb70446911d1ac033ab9af5c9/refinery-usage.csv"
               },
               "encoding": {
                "opacity": {
                 "condition": {
                  "selection": "selector026",
                  "value": 1
                 },
                 "value": 0
                },
                "x": {
                 "field": "run_date",
                 "title": null,
                 "type": "temporal"
                },
                "y": {
                 "field": "total_workflow_launches",
                 "title": null,
                 "type": "quantitative"
                }
               },
               "mark": "point",
               "transform": [
                {
                 "filter": {
                  "selection": "selector025"
                 }
                }
               ]
              },
              {
               "data": {
                "format": {
                 "type": "csv"
                },
                "url": "https://gist.githubusercontent.com/manzt/abbf9a798982d7da7150cc412a8ffe69/raw/73a63f1179a5abeeb70446911d1ac033ab9af5c9/refinery-usage.csv"
               },
               "encoding": {
                "x": {
                 "field": "run_date",
                 "title": null,
                 "type": "temporal"
                }
               },
               "mark": {
                "color": "gray",
                "type": "rule"
               },
               "transform": [
                {
                 "filter": {
                  "selection": "selector026"
                 }
                },
                {
                 "filter": {
                  "selection": "selector025"
                 }
                }
               ]
              },
              {
               "data": {
                "format": {
                 "type": "csv"
                },
                "url": "https://gist.githubusercontent.com/manzt/abbf9a798982d7da7150cc412a8ffe69/raw/73a63f1179a5abeeb70446911d1ac033ab9af5c9/refinery-usage.csv"
               },
               "encoding": {
                "text": {
                 "condition": {
                  "field": "total_workflow_launches",
                  "selection": "selector026",
                  "type": "quantitative"
                 },
                 "value": " "
                },
                "x": {
                 "field": "run_date",
                 "title": null,
                 "type": "temporal"
                },
                "y": {
                 "field": "total_workflow_launches",
                 "title": null,
                 "type": "quantitative"
                }
               },
               "mark": {
                "align": "left",
                "dx": 5,
                "dy": -5,
                "type": "text"
               },
               "transform": [
                {
                 "filter": {
                  "selection": "selector025"
                 }
                }
               ]
              }
             ],
             "title": "total workflow launches",
             "width": 420
            },
            {
             "height": 85,
             "layer": [
              {
               "data": {
                "format": {
                 "type": "csv"
                },
                "url": "https://gist.githubusercontent.com/manzt/abbf9a798982d7da7150cc412a8ffe69/raw/73a63f1179a5abeeb70446911d1ac033ab9af5c9/refinery-usage.csv"
               },
               "encoding": {
                "x": {
                 "field": "run_date",
                 "title": null,
                 "type": "temporal"
                },
                "y": {
                 "field": "users_created",
                 "title": null,
                 "type": "quantitative"
                }
               },
               "mark": {
                "interpolate": "step-before",
                "type": "line"
               },
               "transform": [
                {
                 "filter": {
                  "selection": "selector025"
                 }
                }
               ]
              },
              {
               "data": {
                "format": {
                 "type": "csv"
                },
                "url": "https://gist.githubusercontent.com/manzt/abbf9a798982d7da7150cc412a8ffe69/raw/73a63f1179a5abeeb70446911d1ac033ab9af5c9/refinery-usage.csv"
               },
               "encoding": {
                "opacity": {
                 "value": 0
                },
                "x": {
                 "field": "run_date",
                 "title": null,
                 "type": "temporal"
                }
               },
               "mark": "point",
               "selection": {
                "selector026": {
                 "empty": "none",
                 "encodings": [
                  "x"
                 ],
                 "nearest": true,
                 "on": "mouseover",
                 "resolve": "global",
                 "type": "single"
                }
               },
               "transform": [
                {
                 "filter": {
                  "selection": "selector025"
                 }
                }
               ]
              },
              {
               "data": {
                "format": {
                 "type": "csv"
                },
                "url": "https://gist.githubusercontent.com/manzt/abbf9a798982d7da7150cc412a8ffe69/raw/73a63f1179a5abeeb70446911d1ac033ab9af5c9/refinery-usage.csv"
               },
               "encoding": {
                "opacity": {
                 "condition": {
                  "selection": "selector026",
                  "value": 1
                 },
                 "value": 0
                },
                "x": {
                 "field": "run_date",
                 "title": null,
                 "type": "temporal"
                },
                "y": {
                 "field": "users_created",
                 "title": null,
                 "type": "quantitative"
                }
               },
               "mark": "point",
               "transform": [
                {
                 "filter": {
                  "selection": "selector025"
                 }
                }
               ]
              },
              {
               "data": {
                "format": {
                 "type": "csv"
                },
                "url": "https://gist.githubusercontent.com/manzt/abbf9a798982d7da7150cc412a8ffe69/raw/73a63f1179a5abeeb70446911d1ac033ab9af5c9/refinery-usage.csv"
               },
               "encoding": {
                "x": {
                 "field": "run_date",
                 "title": null,
                 "type": "temporal"
                }
               },
               "mark": {
                "color": "gray",
                "type": "rule"
               },
               "transform": [
                {
                 "filter": {
                  "selection": "selector026"
                 }
                },
                {
                 "filter": {
                  "selection": "selector025"
                 }
                }
               ]
              },
              {
               "data": {
                "format": {
                 "type": "csv"
                },
                "url": "https://gist.githubusercontent.com/manzt/abbf9a798982d7da7150cc412a8ffe69/raw/73a63f1179a5abeeb70446911d1ac033ab9af5c9/refinery-usage.csv"
               },
               "encoding": {
                "text": {
                 "condition": {
                  "field": "users_created",
                  "selection": "selector026",
                  "type": "quantitative"
                 },
                 "value": " "
                },
                "x": {
                 "field": "run_date",
                 "title": null,
                 "type": "temporal"
                },
                "y": {
                 "field": "users_created",
                 "title": null,
                 "type": "quantitative"
                }
               },
               "mark": {
                "align": "left",
                "dx": 5,
                "dy": -5,
                "type": "text"
               },
               "transform": [
                {
                 "filter": {
                  "selection": "selector025"
                 }
                }
               ]
              }
             ],
             "title": "users created",
             "width": 420
            },
            {
             "height": 85,
             "layer": [
              {
               "data": {
                "format": {
                 "type": "csv"
                },
                "url": "https://gist.githubusercontent.com/manzt/abbf9a798982d7da7150cc412a8ffe69/raw/73a63f1179a5abeeb70446911d1ac033ab9af5c9/refinery-usage.csv"
               },
               "encoding": {
                "x": {
                 "field": "run_date",
                 "title": null,
                 "type": "temporal"
                },
                "y": {
                 "field": "unique_user_logins",
                 "title": null,
                 "type": "quantitative"
                }
               },
               "mark": {
                "interpolate": "step-before",
                "type": "line"
               },
               "transform": [
                {
                 "filter": {
                  "selection": "selector025"
                 }
                }
               ]
              },
              {
               "data": {
                "format": {
                 "type": "csv"
                },
                "url": "https://gist.githubusercontent.com/manzt/abbf9a798982d7da7150cc412a8ffe69/raw/73a63f1179a5abeeb70446911d1ac033ab9af5c9/refinery-usage.csv"
               },
               "encoding": {
                "opacity": {
                 "value": 0
                },
                "x": {
                 "field": "run_date",
                 "title": null,
                 "type": "temporal"
                }
               },
               "mark": "point",
               "selection": {
                "selector026": {
                 "empty": "none",
                 "encodings": [
                  "x"
                 ],
                 "nearest": true,
                 "on": "mouseover",
                 "resolve": "global",
                 "type": "single"
                }
               },
               "transform": [
                {
                 "filter": {
                  "selection": "selector025"
                 }
                }
               ]
              },
              {
               "data": {
                "format": {
                 "type": "csv"
                },
                "url": "https://gist.githubusercontent.com/manzt/abbf9a798982d7da7150cc412a8ffe69/raw/73a63f1179a5abeeb70446911d1ac033ab9af5c9/refinery-usage.csv"
               },
               "encoding": {
                "opacity": {
                 "condition": {
                  "selection": "selector026",
                  "value": 1
                 },
                 "value": 0
                },
                "x": {
                 "field": "run_date",
                 "title": null,
                 "type": "temporal"
                },
                "y": {
                 "field": "unique_user_logins",
                 "title": null,
                 "type": "quantitative"
                }
               },
               "mark": "point",
               "transform": [
                {
                 "filter": {
                  "selection": "selector025"
                 }
                }
               ]
              },
              {
               "data": {
                "format": {
                 "type": "csv"
                },
                "url": "https://gist.githubusercontent.com/manzt/abbf9a798982d7da7150cc412a8ffe69/raw/73a63f1179a5abeeb70446911d1ac033ab9af5c9/refinery-usage.csv"
               },
               "encoding": {
                "x": {
                 "field": "run_date",
                 "title": null,
                 "type": "temporal"
                }
               },
               "mark": {
                "color": "gray",
                "type": "rule"
               },
               "transform": [
                {
                 "filter": {
                  "selection": "selector026"
                 }
                },
                {
                 "filter": {
                  "selection": "selector025"
                 }
                }
               ]
              },
              {
               "data": {
                "format": {
                 "type": "csv"
                },
                "url": "https://gist.githubusercontent.com/manzt/abbf9a798982d7da7150cc412a8ffe69/raw/73a63f1179a5abeeb70446911d1ac033ab9af5c9/refinery-usage.csv"
               },
               "encoding": {
                "text": {
                 "condition": {
                  "field": "unique_user_logins",
                  "selection": "selector026",
                  "type": "quantitative"
                 },
                 "value": " "
                },
                "x": {
                 "field": "run_date",
                 "title": null,
                 "type": "temporal"
                },
                "y": {
                 "field": "unique_user_logins",
                 "title": null,
                 "type": "quantitative"
                }
               },
               "mark": {
                "align": "left",
                "dx": 5,
                "dy": -5,
                "type": "text"
               },
               "transform": [
                {
                 "filter": {
                  "selection": "selector025"
                 }
                }
               ]
              }
             ],
             "title": "unique user logins",
             "width": 420
            }
           ]
          }
         ]
        }
       ]
      },
      "image/png": "[encoded data removed]",
      "text/plain": [
       "<VegaLite 2 object>\n",
       "\n",
       "If you see this message, it means the renderer has not been properly enabled\n",
       "for the frontend that you are using. For more information, see\n",
       "https://altair-viz.github.io/user_guide/troubleshooting.html\n"
      ]
     },
     "execution_count": 78,
     "metadata": {},
     "output_type": "execute_result"
    }
   ],
   "source": [
    "# Create panel for each column name\n",
    "panels = [create_panel(colname, 420, 85) for colname in columns]\n",
    "\n",
    "# Create over\n",
    "timeline = base.mark_area(interpolate='step-after').encode(\n",
    "    alt.Y('users_created:Q', title=None)\n",
    ").properties(\n",
    "    width=900,\n",
    "    height=30,\n",
    "    selection=brush\n",
    ")\n",
    "\n",
    "chart = timeline & (alt.vconcat(*panels[:4]) | alt.vconcat(*panels[4:]))\n",
    "\n",
    "chart"
   ]
  },
  {
   "cell_type": "code",
   "execution_count": 79,
   "metadata": {},
   "outputs": [],
   "source": [
    "# save Vega-Lite schema\n",
    "chart.save('chart.json')"
   ]
  },
  {
   "cell_type": "code",
   "execution_count": null,
   "metadata": {},
   "outputs": [],
   "source": []
  }
 ],
 "metadata": {
  "kernelspec": {
   "display_name": "Python 3",
   "language": "python",
   "name": "python3"
  },
  "language_info": {
   "codemirror_mode": {
    "name": "ipython",
    "version": 3
   },
   "file_extension": ".py",
   "mimetype": "text/x-python",
   "name": "python",
   "nbconvert_exporter": "python",
   "pygments_lexer": "ipython3",
   "version": "3.6.4"
  }
 },
 "nbformat": 4,
 "nbformat_minor": 2
}
