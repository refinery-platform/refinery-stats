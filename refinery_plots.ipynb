{
 "cells": [
  {
   "cell_type": "code",
   "execution_count": 54,
   "metadata": {},
   "outputs": [],
   "source": [
    "import altair as alt\n",
    "import pandas as pd\n",
    "import numpy as np"
   ]
  },
  {
   "cell_type": "code",
   "execution_count": 167,
   "metadata": {},
   "outputs": [
    {
     "data": {
      "text/html": [
       "<div>\n",
       "<style scoped>\n",
       "    .dataframe tbody tr th:only-of-type {\n",
       "        vertical-align: middle;\n",
       "    }\n",
       "\n",
       "    .dataframe tbody tr th {\n",
       "        vertical-align: top;\n",
       "    }\n",
       "\n",
       "    .dataframe thead th {\n",
       "        text-align: right;\n",
       "    }\n",
       "</style>\n",
       "<table border=\"1\" class=\"dataframe\">\n",
       "  <thead>\n",
       "    <tr style=\"text-align: right;\">\n",
       "      <th></th>\n",
       "      <th>datasets_shared</th>\n",
       "      <th>datasets_uploaded</th>\n",
       "      <th>groups_created</th>\n",
       "      <th>run_date</th>\n",
       "      <th>total_user_logins</th>\n",
       "      <th>tot_viz_launches</th>\n",
       "      <th>tot_wrkflow_launches</th>\n",
       "      <th>users_created</th>\n",
       "      <th>unique_user_logins</th>\n",
       "    </tr>\n",
       "  </thead>\n",
       "  <tbody>\n",
       "    <tr>\n",
       "      <th>0</th>\n",
       "      <td>151</td>\n",
       "      <td>222</td>\n",
       "      <td>22</td>\n",
       "      <td>2018-05-29 22:34:52.287900</td>\n",
       "      <td>765</td>\n",
       "      <td>17</td>\n",
       "      <td>6</td>\n",
       "      <td>91</td>\n",
       "      <td>84</td>\n",
       "    </tr>\n",
       "    <tr>\n",
       "      <th>1</th>\n",
       "      <td>151</td>\n",
       "      <td>224</td>\n",
       "      <td>23</td>\n",
       "      <td>2018-05-30 22:35:13.946629</td>\n",
       "      <td>776</td>\n",
       "      <td>19</td>\n",
       "      <td>6</td>\n",
       "      <td>115</td>\n",
       "      <td>90</td>\n",
       "    </tr>\n",
       "    <tr>\n",
       "      <th>2</th>\n",
       "      <td>151</td>\n",
       "      <td>224</td>\n",
       "      <td>24</td>\n",
       "      <td>2018-05-31 22:35:14.001731</td>\n",
       "      <td>782</td>\n",
       "      <td>20</td>\n",
       "      <td>8</td>\n",
       "      <td>128</td>\n",
       "      <td>95</td>\n",
       "    </tr>\n",
       "    <tr>\n",
       "      <th>3</th>\n",
       "      <td>151</td>\n",
       "      <td>224</td>\n",
       "      <td>24</td>\n",
       "      <td>2018-06-01 22:35:13.946843</td>\n",
       "      <td>783</td>\n",
       "      <td>23</td>\n",
       "      <td>8</td>\n",
       "      <td>146</td>\n",
       "      <td>96</td>\n",
       "    </tr>\n",
       "    <tr>\n",
       "      <th>4</th>\n",
       "      <td>151</td>\n",
       "      <td>224</td>\n",
       "      <td>24</td>\n",
       "      <td>2018-06-02 22:35:13.943548</td>\n",
       "      <td>783</td>\n",
       "      <td>23</td>\n",
       "      <td>8</td>\n",
       "      <td>163</td>\n",
       "      <td>96</td>\n",
       "    </tr>\n",
       "  </tbody>\n",
       "</table>\n",
       "</div>"
      ],
      "text/plain": [
       "   datasets_shared  datasets_uploaded  groups_created  \\\n",
       "0              151                222              22   \n",
       "1              151                224              23   \n",
       "2              151                224              24   \n",
       "3              151                224              24   \n",
       "4              151                224              24   \n",
       "\n",
       "                    run_date  total_user_logins  tot_viz_launches  \\\n",
       "0 2018-05-29 22:34:52.287900                765                17   \n",
       "1 2018-05-30 22:35:13.946629                776                19   \n",
       "2 2018-05-31 22:35:14.001731                782                20   \n",
       "3 2018-06-01 22:35:13.946843                783                23   \n",
       "4 2018-06-02 22:35:13.943548                783                23   \n",
       "\n",
       "   tot_wrkflow_launches  users_created  unique_user_logins  \n",
       "0                     6             91                  84  \n",
       "1                     6            115                  90  \n",
       "2                     8            128                  95  \n",
       "3                     8            146                  96  \n",
       "4                     8            163                  96  "
      ]
     },
     "execution_count": 167,
     "metadata": {},
     "output_type": "execute_result"
    }
   ],
   "source": [
    "data = pd.read_csv('Refinery_Site_Stats.csv').drop('ID', axis=1)\n",
    "data.columns = data.columns.str.replace(' ', '_')\n",
    "data['run_date'] = pd.to_datetime(data['run_date'])\n",
    "data = data.rename(index=str, columns={\"total_visualization_launches\": \"tot_viz_launches\", \"total_workflow_launches\": \"tot_wrkflow_launches\"})\n",
    "\n",
    "total = pd.DataFrame()\n",
    "for column in data.columns:\n",
    "    total[column] = data[column].cumsum() if column != \"run_date\" else data[column]\n",
    "total.head()"
   ]
  },
  {
   "cell_type": "code",
   "execution_count": 170,
   "metadata": {},
   "outputs": [
    {
     "data": {
      "application/vnd.vegalite.v2+json": {
       "$schema": "https://vega.github.io/schema/vega-lite/v2.6.0.json",
       "config": {
        "view": {
         "height": 300,
         "width": 400
        }
       },
       "datasets": {
        "data-bf05aafd51f1956fc71fca24d0d2bc57": [
         {
          "datasets_shared": 151,
          "datasets_uploaded": 222,
          "groups_created": 22,
          "run_date": "2018-05-29T22:34:52.287900",
          "tot_viz_launches": 17,
          "tot_wrkflow_launches": 6,
          "total_user_logins": 765,
          "unique_user_logins": 84,
          "users_created": 91
         },
         {
          "datasets_shared": 151,
          "datasets_uploaded": 224,
          "groups_created": 23,
          "run_date": "2018-05-30T22:35:13.946629",
          "tot_viz_launches": 19,
          "tot_wrkflow_launches": 6,
          "total_user_logins": 776,
          "unique_user_logins": 90,
          "users_created": 115
         },
         {
          "datasets_shared": 151,
          "datasets_uploaded": 224,
          "groups_created": 24,
          "run_date": "2018-05-31T22:35:14.001731",
          "tot_viz_launches": 20,
          "tot_wrkflow_launches": 8,
          "total_user_logins": 782,
          "unique_user_logins": 95,
          "users_created": 128
         },
         {
          "datasets_shared": 151,
          "datasets_uploaded": 224,
          "groups_created": 24,
          "run_date": "2018-06-01T22:35:13.946843",
          "tot_viz_launches": 23,
          "tot_wrkflow_launches": 8,
          "total_user_logins": 783,
          "unique_user_logins": 96,
          "users_created": 146
         },
         {
          "datasets_shared": 151,
          "datasets_uploaded": 224,
          "groups_created": 24,
          "run_date": "2018-06-02T22:35:13.943548",
          "tot_viz_launches": 23,
          "tot_wrkflow_launches": 8,
          "total_user_logins": 783,
          "unique_user_logins": 96,
          "users_created": 163
         },
         {
          "datasets_shared": 151,
          "datasets_uploaded": 224,
          "groups_created": 24,
          "run_date": "2018-06-03T22:35:13.945929",
          "tot_viz_launches": 23,
          "tot_wrkflow_launches": 8,
          "total_user_logins": 783,
          "unique_user_logins": 96,
          "users_created": 170
         },
         {
          "datasets_shared": 151,
          "datasets_uploaded": 224,
          "groups_created": 24,
          "run_date": "2018-06-04T22:35:13.944559",
          "tot_viz_launches": 23,
          "tot_wrkflow_launches": 8,
          "total_user_logins": 785,
          "unique_user_logins": 97,
          "users_created": 174
         },
         {
          "datasets_shared": 151,
          "datasets_uploaded": 224,
          "groups_created": 24,
          "run_date": "2018-06-05T22:35:13.974626",
          "tot_viz_launches": 23,
          "tot_wrkflow_launches": 8,
          "total_user_logins": 786,
          "unique_user_logins": 98,
          "users_created": 181
         },
         {
          "datasets_shared": 151,
          "datasets_uploaded": 224,
          "groups_created": 24,
          "run_date": "2018-06-06T22:35:13.945356",
          "tot_viz_launches": 23,
          "tot_wrkflow_launches": 8,
          "total_user_logins": 786,
          "unique_user_logins": 98,
          "users_created": 188
         },
         {
          "datasets_shared": 151,
          "datasets_uploaded": 224,
          "groups_created": 24,
          "run_date": "2018-06-07T22:35:13.979953",
          "tot_viz_launches": 23,
          "tot_wrkflow_launches": 8,
          "total_user_logins": 787,
          "unique_user_logins": 99,
          "users_created": 201
         },
         {
          "datasets_shared": 151,
          "datasets_uploaded": 224,
          "groups_created": 24,
          "run_date": "2018-06-08T22:35:13.995964",
          "tot_viz_launches": 23,
          "tot_wrkflow_launches": 8,
          "total_user_logins": 790,
          "unique_user_logins": 101,
          "users_created": 208
         },
         {
          "datasets_shared": 151,
          "datasets_uploaded": 224,
          "groups_created": 24,
          "run_date": "2018-06-09T22:35:13.974909",
          "tot_viz_launches": 23,
          "tot_wrkflow_launches": 8,
          "total_user_logins": 790,
          "unique_user_logins": 101,
          "users_created": 225
         },
         {
          "datasets_shared": 151,
          "datasets_uploaded": 224,
          "groups_created": 24,
          "run_date": "2018-06-10T22:35:13.979218",
          "tot_viz_launches": 23,
          "tot_wrkflow_launches": 8,
          "total_user_logins": 791,
          "unique_user_logins": 102,
          "users_created": 240
         },
         {
          "datasets_shared": 151,
          "datasets_uploaded": 224,
          "groups_created": 24,
          "run_date": "2018-06-11T22:35:14.031114",
          "tot_viz_launches": 23,
          "tot_wrkflow_launches": 8,
          "total_user_logins": 796,
          "unique_user_logins": 105,
          "users_created": 245
         },
         {
          "datasets_shared": 151,
          "datasets_uploaded": 224,
          "groups_created": 24,
          "run_date": "2018-06-12T22:35:13.989674",
          "tot_viz_launches": 27,
          "tot_wrkflow_launches": 8,
          "total_user_logins": 799,
          "unique_user_logins": 108,
          "users_created": 251
         },
         {
          "datasets_shared": 152,
          "datasets_uploaded": 226,
          "groups_created": 24,
          "run_date": "2018-06-13T22:35:14.016005",
          "tot_viz_launches": 28,
          "tot_wrkflow_launches": 8,
          "total_user_logins": 804,
          "unique_user_logins": 113,
          "users_created": 257
         },
         {
          "datasets_shared": 152,
          "datasets_uploaded": 226,
          "groups_created": 24,
          "run_date": "2018-06-14T22:35:14.001427",
          "tot_viz_launches": 28,
          "tot_wrkflow_launches": 8,
          "total_user_logins": 807,
          "unique_user_logins": 116,
          "users_created": 265
         },
         {
          "datasets_shared": 152,
          "datasets_uploaded": 227,
          "groups_created": 24,
          "run_date": "2018-06-15T22:35:14.053448",
          "tot_viz_launches": 28,
          "tot_wrkflow_launches": 8,
          "total_user_logins": 809,
          "unique_user_logins": 118,
          "users_created": 281
         },
         {
          "datasets_shared": 152,
          "datasets_uploaded": 227,
          "groups_created": 24,
          "run_date": "2018-06-16T22:35:14.031713",
          "tot_viz_launches": 28,
          "tot_wrkflow_launches": 8,
          "total_user_logins": 811,
          "unique_user_logins": 119,
          "users_created": 288
         },
         {
          "datasets_shared": 152,
          "datasets_uploaded": 227,
          "groups_created": 24,
          "run_date": "2018-06-17T22:35:14.021052",
          "tot_viz_launches": 28,
          "tot_wrkflow_launches": 8,
          "total_user_logins": 812,
          "unique_user_logins": 120,
          "users_created": 294
         },
         {
          "datasets_shared": 153,
          "datasets_uploaded": 229,
          "groups_created": 25,
          "run_date": "2018-06-18T22:35:14.098188",
          "tot_viz_launches": 28,
          "tot_wrkflow_launches": 8,
          "total_user_logins": 814,
          "unique_user_logins": 122,
          "users_created": 300
         },
         {
          "datasets_shared": 153,
          "datasets_uploaded": 229,
          "groups_created": 25,
          "run_date": "2018-06-19T22:35:14.022721",
          "tot_viz_launches": 28,
          "tot_wrkflow_launches": 8,
          "total_user_logins": 816,
          "unique_user_logins": 123,
          "users_created": 307
         },
         {
          "datasets_shared": 153,
          "datasets_uploaded": 229,
          "groups_created": 25,
          "run_date": "2018-06-20T22:35:14.036922",
          "tot_viz_launches": 28,
          "tot_wrkflow_launches": 8,
          "total_user_logins": 819,
          "unique_user_logins": 126,
          "users_created": 315
         },
         {
          "datasets_shared": 153,
          "datasets_uploaded": 229,
          "groups_created": 25,
          "run_date": "2018-06-21T22:35:14.031121",
          "tot_viz_launches": 28,
          "tot_wrkflow_launches": 8,
          "total_user_logins": 820,
          "unique_user_logins": 127,
          "users_created": 324
         },
         {
          "datasets_shared": 153,
          "datasets_uploaded": 229,
          "groups_created": 25,
          "run_date": "2018-06-22T22:35:14.039178",
          "tot_viz_launches": 28,
          "tot_wrkflow_launches": 8,
          "total_user_logins": 821,
          "unique_user_logins": 128,
          "users_created": 334
         },
         {
          "datasets_shared": 153,
          "datasets_uploaded": 229,
          "groups_created": 25,
          "run_date": "2018-06-23T22:35:14.068832",
          "tot_viz_launches": 28,
          "tot_wrkflow_launches": 8,
          "total_user_logins": 822,
          "unique_user_logins": 129,
          "users_created": 341
         },
         {
          "datasets_shared": 153,
          "datasets_uploaded": 229,
          "groups_created": 25,
          "run_date": "2018-06-24T22:35:14.055277",
          "tot_viz_launches": 28,
          "tot_wrkflow_launches": 8,
          "total_user_logins": 822,
          "unique_user_logins": 129,
          "users_created": 352
         },
         {
          "datasets_shared": 153,
          "datasets_uploaded": 229,
          "groups_created": 25,
          "run_date": "2018-06-25T22:35:14.049490",
          "tot_viz_launches": 28,
          "tot_wrkflow_launches": 8,
          "total_user_logins": 824,
          "unique_user_logins": 131,
          "users_created": 362
         },
         {
          "datasets_shared": 153,
          "datasets_uploaded": 229,
          "groups_created": 25,
          "run_date": "2018-06-26T22:35:14.068846",
          "tot_viz_launches": 29,
          "tot_wrkflow_launches": 8,
          "total_user_logins": 826,
          "unique_user_logins": 133,
          "users_created": 371
         },
         {
          "datasets_shared": 153,
          "datasets_uploaded": 229,
          "groups_created": 25,
          "run_date": "2018-06-27T22:35:14.123890",
          "tot_viz_launches": 29,
          "tot_wrkflow_launches": 8,
          "total_user_logins": 830,
          "unique_user_logins": 136,
          "users_created": 382
         },
         {
          "datasets_shared": 153,
          "datasets_uploaded": 229,
          "groups_created": 25,
          "run_date": "2018-06-28T22:35:14.117049",
          "tot_viz_launches": 29,
          "tot_wrkflow_launches": 8,
          "total_user_logins": 834,
          "unique_user_logins": 139,
          "users_created": 392
         },
         {
          "datasets_shared": 153,
          "datasets_uploaded": 229,
          "groups_created": 25,
          "run_date": "2018-06-29T22:35:14.084264",
          "tot_viz_launches": 29,
          "tot_wrkflow_launches": 8,
          "total_user_logins": 841,
          "unique_user_logins": 141,
          "users_created": 401
         },
         {
          "datasets_shared": 153,
          "datasets_uploaded": 229,
          "groups_created": 25,
          "run_date": "2018-06-30T22:35:14.075795",
          "tot_viz_launches": 29,
          "tot_wrkflow_launches": 8,
          "total_user_logins": 841,
          "unique_user_logins": 141,
          "users_created": 429
         },
         {
          "datasets_shared": 153,
          "datasets_uploaded": 229,
          "groups_created": 25,
          "run_date": "2018-07-01T22:35:14.075132",
          "tot_viz_launches": 30,
          "tot_wrkflow_launches": 8,
          "total_user_logins": 843,
          "unique_user_logins": 143,
          "users_created": 437
         },
         {
          "datasets_shared": 153,
          "datasets_uploaded": 229,
          "groups_created": 25,
          "run_date": "2018-07-02T22:35:14.114229",
          "tot_viz_launches": 30,
          "tot_wrkflow_launches": 8,
          "total_user_logins": 845,
          "unique_user_logins": 145,
          "users_created": 443
         },
         {
          "datasets_shared": 154,
          "datasets_uploaded": 230,
          "groups_created": 25,
          "run_date": "2018-07-03T22:35:14.153178",
          "tot_viz_launches": 33,
          "tot_wrkflow_launches": 8,
          "total_user_logins": 847,
          "unique_user_logins": 147,
          "users_created": 458
         },
         {
          "datasets_shared": 154,
          "datasets_uploaded": 230,
          "groups_created": 25,
          "run_date": "2018-07-04T22:35:14.079133",
          "tot_viz_launches": 33,
          "tot_wrkflow_launches": 8,
          "total_user_logins": 847,
          "unique_user_logins": 147,
          "users_created": 475
         },
         {
          "datasets_shared": 154,
          "datasets_uploaded": 230,
          "groups_created": 25,
          "run_date": "2018-07-05T22:35:14.085075",
          "tot_viz_launches": 33,
          "tot_wrkflow_launches": 8,
          "total_user_logins": 851,
          "unique_user_logins": 150,
          "users_created": 483
         },
         {
          "datasets_shared": 154,
          "datasets_uploaded": 231,
          "groups_created": 25,
          "run_date": "2018-07-06T22:35:14.094948",
          "tot_viz_launches": 36,
          "tot_wrkflow_launches": 8,
          "total_user_logins": 854,
          "unique_user_logins": 152,
          "users_created": 491
         },
         {
          "datasets_shared": 154,
          "datasets_uploaded": 231,
          "groups_created": 25,
          "run_date": "2018-07-07T22:35:14.120425",
          "tot_viz_launches": 36,
          "tot_wrkflow_launches": 8,
          "total_user_logins": 855,
          "unique_user_logins": 153,
          "users_created": 500
         },
         {
          "datasets_shared": 154,
          "datasets_uploaded": 231,
          "groups_created": 25,
          "run_date": "2018-07-08T22:35:14.218283",
          "tot_viz_launches": 36,
          "tot_wrkflow_launches": 8,
          "total_user_logins": 855,
          "unique_user_logins": 153,
          "users_created": 514
         },
         {
          "datasets_shared": 154,
          "datasets_uploaded": 231,
          "groups_created": 25,
          "run_date": "2018-07-09T22:35:14.108641",
          "tot_viz_launches": 36,
          "tot_wrkflow_launches": 8,
          "total_user_logins": 855,
          "unique_user_logins": 153,
          "users_created": 524
         },
         {
          "datasets_shared": 154,
          "datasets_uploaded": 231,
          "groups_created": 25,
          "run_date": "2018-07-10T22:35:14.139354",
          "tot_viz_launches": 36,
          "tot_wrkflow_launches": 8,
          "total_user_logins": 857,
          "unique_user_logins": 154,
          "users_created": 534
         },
         {
          "datasets_shared": 154,
          "datasets_uploaded": 231,
          "groups_created": 25,
          "run_date": "2018-07-11T22:35:14.148843",
          "tot_viz_launches": 36,
          "tot_wrkflow_launches": 8,
          "total_user_logins": 857,
          "unique_user_logins": 154,
          "users_created": 550
         },
         {
          "datasets_shared": 154,
          "datasets_uploaded": 231,
          "groups_created": 25,
          "run_date": "2018-07-12T22:35:14.145347",
          "tot_viz_launches": 36,
          "tot_wrkflow_launches": 8,
          "total_user_logins": 861,
          "unique_user_logins": 157,
          "users_created": 567
         },
         {
          "datasets_shared": 154,
          "datasets_uploaded": 232,
          "groups_created": 25,
          "run_date": "2018-07-13T22:35:14.195488",
          "tot_viz_launches": 36,
          "tot_wrkflow_launches": 8,
          "total_user_logins": 864,
          "unique_user_logins": 160,
          "users_created": 584
         },
         {
          "datasets_shared": 154,
          "datasets_uploaded": 232,
          "groups_created": 25,
          "run_date": "2018-07-14T22:35:14.223107",
          "tot_viz_launches": 36,
          "tot_wrkflow_launches": 8,
          "total_user_logins": 864,
          "unique_user_logins": 161,
          "users_created": 589
         },
         {
          "datasets_shared": 154,
          "datasets_uploaded": 232,
          "groups_created": 25,
          "run_date": "2018-07-15T22:35:14.214865",
          "tot_viz_launches": 36,
          "tot_wrkflow_launches": 8,
          "total_user_logins": 864,
          "unique_user_logins": 161,
          "users_created": 615
         },
         {
          "datasets_shared": 154,
          "datasets_uploaded": 232,
          "groups_created": 25,
          "run_date": "2018-07-16T22:35:14.200266",
          "tot_viz_launches": 36,
          "tot_wrkflow_launches": 8,
          "total_user_logins": 865,
          "unique_user_logins": 162,
          "users_created": 628
         },
         {
          "datasets_shared": 154,
          "datasets_uploaded": 232,
          "groups_created": 25,
          "run_date": "2018-07-17T22:35:14.194515",
          "tot_viz_launches": 36,
          "tot_wrkflow_launches": 8,
          "total_user_logins": 878,
          "unique_user_logins": 167,
          "users_created": 639
         },
         {
          "datasets_shared": 154,
          "datasets_uploaded": 232,
          "groups_created": 25,
          "run_date": "2018-07-18T22:35:14.258073",
          "tot_viz_launches": 36,
          "tot_wrkflow_launches": 8,
          "total_user_logins": 878,
          "unique_user_logins": 167,
          "users_created": 662
         },
         {
          "datasets_shared": 154,
          "datasets_uploaded": 232,
          "groups_created": 25,
          "run_date": "2018-07-19T22:35:14.224850",
          "tot_viz_launches": 36,
          "tot_wrkflow_launches": 8,
          "total_user_logins": 894,
          "unique_user_logins": 176,
          "users_created": 680
         },
         {
          "datasets_shared": 156,
          "datasets_uploaded": 235,
          "groups_created": 25,
          "run_date": "2018-07-20T22:35:14.347804",
          "tot_viz_launches": 36,
          "tot_wrkflow_launches": 8,
          "total_user_logins": 900,
          "unique_user_logins": 182,
          "users_created": 686
         },
         {
          "datasets_shared": 157,
          "datasets_uploaded": 237,
          "groups_created": 25,
          "run_date": "2018-07-22T03:55:09.597014",
          "tot_viz_launches": 41,
          "tot_wrkflow_launches": 9,
          "total_user_logins": 908,
          "unique_user_logins": 186,
          "users_created": 711
         },
         {
          "datasets_shared": 157,
          "datasets_uploaded": 237,
          "groups_created": 25,
          "run_date": "2018-07-23T03:55:09.583798",
          "tot_viz_launches": 41,
          "tot_wrkflow_launches": 9,
          "total_user_logins": 906,
          "unique_user_logins": 187,
          "users_created": 714
         },
         {
          "datasets_shared": 163,
          "datasets_uploaded": 244,
          "groups_created": 26,
          "run_date": "2018-07-24T03:55:09.713238",
          "tot_viz_launches": 45,
          "tot_wrkflow_launches": 10,
          "total_user_logins": 917,
          "unique_user_logins": 194,
          "users_created": 725
         },
         {
          "datasets_shared": 165,
          "datasets_uploaded": 244,
          "groups_created": 26,
          "run_date": "2018-07-25T03:55:09.607549",
          "tot_viz_launches": 50,
          "tot_wrkflow_launches": 11,
          "total_user_logins": 922,
          "unique_user_logins": 198,
          "users_created": 741
         },
         {
          "datasets_shared": 168,
          "datasets_uploaded": 246,
          "groups_created": 26,
          "run_date": "2018-07-26T03:55:09.618187",
          "tot_viz_launches": 56,
          "tot_wrkflow_launches": 14,
          "total_user_logins": 927,
          "unique_user_logins": 201,
          "users_created": 747
         },
         {
          "datasets_shared": 169,
          "datasets_uploaded": 246,
          "groups_created": 26,
          "run_date": "2018-07-27T03:55:09.603079",
          "tot_viz_launches": 56,
          "tot_wrkflow_launches": 15,
          "total_user_logins": 935,
          "unique_user_logins": 205,
          "users_created": 770
         },
         {
          "datasets_shared": 170,
          "datasets_uploaded": 246,
          "groups_created": 26,
          "run_date": "2018-07-28T03:55:09.623633",
          "tot_viz_launches": 61,
          "tot_wrkflow_launches": 16,
          "total_user_logins": 944,
          "unique_user_logins": 208,
          "users_created": 789
         },
         {
          "datasets_shared": 170,
          "datasets_uploaded": 246,
          "groups_created": 26,
          "run_date": "2018-07-29T03:55:09.606254",
          "tot_viz_launches": 61,
          "tot_wrkflow_launches": 16,
          "total_user_logins": 944,
          "unique_user_logins": 208,
          "users_created": 806
         },
         {
          "datasets_shared": 170,
          "datasets_uploaded": 246,
          "groups_created": 26,
          "run_date": "2018-07-30T03:55:09.595494",
          "tot_viz_launches": 61,
          "tot_wrkflow_launches": 16,
          "total_user_logins": 946,
          "unique_user_logins": 210,
          "users_created": 831
         },
         {
          "datasets_shared": 170,
          "datasets_uploaded": 246,
          "groups_created": 26,
          "run_date": "2018-07-31T03:55:09.596426",
          "tot_viz_launches": 62,
          "tot_wrkflow_launches": 16,
          "total_user_logins": 952,
          "unique_user_logins": 214,
          "users_created": 855
         },
         {
          "datasets_shared": 170,
          "datasets_uploaded": 246,
          "groups_created": 26,
          "run_date": "2018-08-01T03:55:09.633448",
          "tot_viz_launches": 62,
          "tot_wrkflow_launches": 16,
          "total_user_logins": 961,
          "unique_user_logins": 220,
          "users_created": 886
         },
         {
          "datasets_shared": 170,
          "datasets_uploaded": 246,
          "groups_created": 26,
          "run_date": "2018-08-02T03:55:09.619514",
          "tot_viz_launches": 62,
          "tot_wrkflow_launches": 16,
          "total_user_logins": 962,
          "unique_user_logins": 221,
          "users_created": 900
         },
         {
          "datasets_shared": 170,
          "datasets_uploaded": 246,
          "groups_created": 27,
          "run_date": "2018-08-03T03:55:09.631581",
          "tot_viz_launches": 67,
          "tot_wrkflow_launches": 16,
          "total_user_logins": 966,
          "unique_user_logins": 224,
          "users_created": 918
         },
         {
          "datasets_shared": 171,
          "datasets_uploaded": 247,
          "groups_created": 27,
          "run_date": "2018-08-04T03:55:09.633702",
          "tot_viz_launches": 68,
          "tot_wrkflow_launches": 16,
          "total_user_logins": 971,
          "unique_user_logins": 228,
          "users_created": 939
         },
         {
          "datasets_shared": 171,
          "datasets_uploaded": 247,
          "groups_created": 27,
          "run_date": "2018-08-05T03:55:09.652670",
          "tot_viz_launches": 68,
          "tot_wrkflow_launches": 16,
          "total_user_logins": 971,
          "unique_user_logins": 228,
          "users_created": 964
         },
         {
          "datasets_shared": 171,
          "datasets_uploaded": 247,
          "groups_created": 27,
          "run_date": "2018-08-06T03:55:09.677822",
          "tot_viz_launches": 68,
          "tot_wrkflow_launches": 16,
          "total_user_logins": 971,
          "unique_user_logins": 228,
          "users_created": 981
         },
         {
          "datasets_shared": 171,
          "datasets_uploaded": 247,
          "groups_created": 27,
          "run_date": "2018-08-07T03:55:09.959042",
          "tot_viz_launches": 68,
          "tot_wrkflow_launches": 16,
          "total_user_logins": 973,
          "unique_user_logins": 230,
          "users_created": 997
         },
         {
          "datasets_shared": 171,
          "datasets_uploaded": 247,
          "groups_created": 27,
          "run_date": "2018-08-08T03:55:09.756369",
          "tot_viz_launches": 68,
          "tot_wrkflow_launches": 16,
          "total_user_logins": 977,
          "unique_user_logins": 232,
          "users_created": 1037
         },
         {
          "datasets_shared": 171,
          "datasets_uploaded": 247,
          "groups_created": 27,
          "run_date": "2018-08-09T03:55:09.655616",
          "tot_viz_launches": 68,
          "tot_wrkflow_launches": 16,
          "total_user_logins": 977,
          "unique_user_logins": 232,
          "users_created": 1065
         },
         {
          "datasets_shared": 171,
          "datasets_uploaded": 247,
          "groups_created": 27,
          "run_date": "2018-08-10T03:55:09.801685",
          "tot_viz_launches": 68,
          "tot_wrkflow_launches": 16,
          "total_user_logins": 978,
          "unique_user_logins": 233,
          "users_created": 1086
         },
         {
          "datasets_shared": 171,
          "datasets_uploaded": 247,
          "groups_created": 27,
          "run_date": "2018-08-11T03:55:09.710949",
          "tot_viz_launches": 68,
          "tot_wrkflow_launches": 16,
          "total_user_logins": 978,
          "unique_user_logins": 233,
          "users_created": 1104
         },
         {
          "datasets_shared": 171,
          "datasets_uploaded": 247,
          "groups_created": 27,
          "run_date": "2018-08-12T03:55:09.988262",
          "tot_viz_launches": 68,
          "tot_wrkflow_launches": 16,
          "total_user_logins": 978,
          "unique_user_logins": 233,
          "users_created": 1128
         },
         {
          "datasets_shared": 171,
          "datasets_uploaded": 247,
          "groups_created": 27,
          "run_date": "2018-08-13T03:55:09.698076",
          "tot_viz_launches": 68,
          "tot_wrkflow_launches": 16,
          "total_user_logins": 978,
          "unique_user_logins": 233,
          "users_created": 1143
         },
         {
          "datasets_shared": 171,
          "datasets_uploaded": 247,
          "groups_created": 27,
          "run_date": "2018-08-14T03:55:09.725535",
          "tot_viz_launches": 68,
          "tot_wrkflow_launches": 16,
          "total_user_logins": 979,
          "unique_user_logins": 234,
          "users_created": 1161
         },
         {
          "datasets_shared": 171,
          "datasets_uploaded": 247,
          "groups_created": 27,
          "run_date": "2018-08-15T03:55:09.696229",
          "tot_viz_launches": 69,
          "tot_wrkflow_launches": 16,
          "total_user_logins": 982,
          "unique_user_logins": 237,
          "users_created": 1195
         },
         {
          "datasets_shared": 172,
          "datasets_uploaded": 248,
          "groups_created": 27,
          "run_date": "2018-08-16T03:55:09.756102",
          "tot_viz_launches": 71,
          "tot_wrkflow_launches": 16,
          "total_user_logins": 987,
          "unique_user_logins": 241,
          "users_created": 1213
         },
         {
          "datasets_shared": 174,
          "datasets_uploaded": 251,
          "groups_created": 27,
          "run_date": "2018-08-17T03:55:09.828101",
          "tot_viz_launches": 80,
          "tot_wrkflow_launches": 16,
          "total_user_logins": 994,
          "unique_user_logins": 247,
          "users_created": 1234
         }
        ]
       },
       "vconcat": [
        {
         "data": {
          "name": "data-bf05aafd51f1956fc71fca24d0d2bc57"
         },
         "encoding": {
          "x": {
           "field": "run_date",
           "title": null,
           "type": "temporal"
          }
         },
         "height": 30,
         "mark": "rule",
         "selection": {
          "selector156": {
           "encodings": [
            "x"
           ],
           "mark": {
            "fill": "#333",
            "fillOpacity": 0.125,
            "stroke": "white"
           },
           "on": "[mousedown, window:mouseup] > window:mousemove!",
           "resolve": "global",
           "translate": "[mousedown, window:mouseup] > window:mousemove!",
           "type": "interval",
           "zoom": "wheel!"
          }
         },
         "width": 900
        },
        {
         "hconcat": [
          {
           "vconcat": [
            {
             "height": 85,
             "layer": [
              {
               "data": {
                "name": "data-bf05aafd51f1956fc71fca24d0d2bc57"
               },
               "encoding": {
                "x": {
                 "field": "run_date",
                 "title": null,
                 "type": "temporal"
                },
                "y": {
                 "field": "datasets_shared",
                 "scale": {
                  "domain": [
                   151,
                   174
                  ]
                 },
                 "type": "quantitative"
                }
               },
               "mark": {
                "interpolate": "step-after",
                "type": "line"
               },
               "transform": [
                {
                 "filter": {
                  "selection": "selector156"
                 }
                }
               ]
              },
              {
               "data": {
                "name": "data-bf05aafd51f1956fc71fca24d0d2bc57"
               },
               "encoding": {
                "opacity": {
                 "value": 0
                },
                "x": {
                 "field": "run_date",
                 "title": null,
                 "type": "temporal"
                }
               },
               "mark": "point",
               "selection": {
                "selector157": {
                 "empty": "none",
                 "encodings": [
                  "x"
                 ],
                 "nearest": true,
                 "on": "mouseover",
                 "resolve": "global",
                 "type": "single"
                }
               },
               "transform": [
                {
                 "filter": {
                  "selection": "selector156"
                 }
                }
               ]
              },
              {
               "data": {
                "name": "data-bf05aafd51f1956fc71fca24d0d2bc57"
               },
               "encoding": {
                "opacity": {
                 "condition": {
                  "selection": "selector157",
                  "value": 1
                 },
                 "value": 0
                },
                "x": {
                 "field": "run_date",
                 "title": null,
                 "type": "temporal"
                },
                "y": {
                 "field": "datasets_shared",
                 "scale": {
                  "domain": [
                   151,
                   174
                  ]
                 },
                 "type": "quantitative"
                }
               },
               "mark": "point",
               "transform": [
                {
                 "filter": {
                  "selection": "selector156"
                 }
                }
               ]
              },
              {
               "data": {
                "name": "data-bf05aafd51f1956fc71fca24d0d2bc57"
               },
               "encoding": {
                "x": {
                 "field": "run_date",
                 "title": null,
                 "type": "temporal"
                }
               },
               "mark": {
                "color": "gray",
                "type": "rule"
               },
               "transform": [
                {
                 "filter": {
                  "selection": "selector157"
                 }
                },
                {
                 "filter": {
                  "selection": "selector156"
                 }
                }
               ]
              },
              {
               "data": {
                "name": "data-bf05aafd51f1956fc71fca24d0d2bc57"
               },
               "encoding": {
                "text": {
                 "condition": {
                  "field": "datasets_shared",
                  "selection": "selector157",
                  "type": "quantitative"
                 },
                 "value": " "
                },
                "x": {
                 "field": "run_date",
                 "title": null,
                 "type": "temporal"
                },
                "y": {
                 "field": "datasets_shared",
                 "scale": {
                  "domain": [
                   151,
                   174
                  ]
                 },
                 "type": "quantitative"
                }
               },
               "mark": {
                "align": "left",
                "dx": 5,
                "dy": -5,
                "type": "text"
               },
               "transform": [
                {
                 "filter": {
                  "selection": "selector156"
                 }
                }
               ]
              }
             ],
             "width": 420
            },
            {
             "height": 85,
             "layer": [
              {
               "data": {
                "name": "data-bf05aafd51f1956fc71fca24d0d2bc57"
               },
               "encoding": {
                "x": {
                 "field": "run_date",
                 "title": null,
                 "type": "temporal"
                },
                "y": {
                 "field": "datasets_uploaded",
                 "scale": {
                  "domain": [
                   222,
                   251
                  ]
                 },
                 "type": "quantitative"
                }
               },
               "mark": {
                "interpolate": "step-after",
                "type": "line"
               },
               "transform": [
                {
                 "filter": {
                  "selection": "selector156"
                 }
                }
               ]
              },
              {
               "data": {
                "name": "data-bf05aafd51f1956fc71fca24d0d2bc57"
               },
               "encoding": {
                "opacity": {
                 "value": 0
                },
                "x": {
                 "field": "run_date",
                 "title": null,
                 "type": "temporal"
                }
               },
               "mark": "point",
               "selection": {
                "selector157": {
                 "empty": "none",
                 "encodings": [
                  "x"
                 ],
                 "nearest": true,
                 "on": "mouseover",
                 "resolve": "global",
                 "type": "single"
                }
               },
               "transform": [
                {
                 "filter": {
                  "selection": "selector156"
                 }
                }
               ]
              },
              {
               "data": {
                "name": "data-bf05aafd51f1956fc71fca24d0d2bc57"
               },
               "encoding": {
                "opacity": {
                 "condition": {
                  "selection": "selector157",
                  "value": 1
                 },
                 "value": 0
                },
                "x": {
                 "field": "run_date",
                 "title": null,
                 "type": "temporal"
                },
                "y": {
                 "field": "datasets_uploaded",
                 "scale": {
                  "domain": [
                   222,
                   251
                  ]
                 },
                 "type": "quantitative"
                }
               },
               "mark": "point",
               "transform": [
                {
                 "filter": {
                  "selection": "selector156"
                 }
                }
               ]
              },
              {
               "data": {
                "name": "data-bf05aafd51f1956fc71fca24d0d2bc57"
               },
               "encoding": {
                "x": {
                 "field": "run_date",
                 "title": null,
                 "type": "temporal"
                }
               },
               "mark": {
                "color": "gray",
                "type": "rule"
               },
               "transform": [
                {
                 "filter": {
                  "selection": "selector157"
                 }
                },
                {
                 "filter": {
                  "selection": "selector156"
                 }
                }
               ]
              },
              {
               "data": {
                "name": "data-bf05aafd51f1956fc71fca24d0d2bc57"
               },
               "encoding": {
                "text": {
                 "condition": {
                  "field": "datasets_uploaded",
                  "selection": "selector157",
                  "type": "quantitative"
                 },
                 "value": " "
                },
                "x": {
                 "field": "run_date",
                 "title": null,
                 "type": "temporal"
                },
                "y": {
                 "field": "datasets_uploaded",
                 "scale": {
                  "domain": [
                   222,
                   251
                  ]
                 },
                 "type": "quantitative"
                }
               },
               "mark": {
                "align": "left",
                "dx": 5,
                "dy": -5,
                "type": "text"
               },
               "transform": [
                {
                 "filter": {
                  "selection": "selector156"
                 }
                }
               ]
              }
             ],
             "width": 420
            },
            {
             "height": 85,
             "layer": [
              {
               "data": {
                "name": "data-bf05aafd51f1956fc71fca24d0d2bc57"
               },
               "encoding": {
                "x": {
                 "field": "run_date",
                 "title": null,
                 "type": "temporal"
                },
                "y": {
                 "field": "groups_created",
                 "scale": {
                  "domain": [
                   22,
                   27
                  ]
                 },
                 "type": "quantitative"
                }
               },
               "mark": {
                "interpolate": "step-after",
                "type": "line"
               },
               "transform": [
                {
                 "filter": {
                  "selection": "selector156"
                 }
                }
               ]
              },
              {
               "data": {
                "name": "data-bf05aafd51f1956fc71fca24d0d2bc57"
               },
               "encoding": {
                "opacity": {
                 "value": 0
                },
                "x": {
                 "field": "run_date",
                 "title": null,
                 "type": "temporal"
                }
               },
               "mark": "point",
               "selection": {
                "selector157": {
                 "empty": "none",
                 "encodings": [
                  "x"
                 ],
                 "nearest": true,
                 "on": "mouseover",
                 "resolve": "global",
                 "type": "single"
                }
               },
               "transform": [
                {
                 "filter": {
                  "selection": "selector156"
                 }
                }
               ]
              },
              {
               "data": {
                "name": "data-bf05aafd51f1956fc71fca24d0d2bc57"
               },
               "encoding": {
                "opacity": {
                 "condition": {
                  "selection": "selector157",
                  "value": 1
                 },
                 "value": 0
                },
                "x": {
                 "field": "run_date",
                 "title": null,
                 "type": "temporal"
                },
                "y": {
                 "field": "groups_created",
                 "scale": {
                  "domain": [
                   22,
                   27
                  ]
                 },
                 "type": "quantitative"
                }
               },
               "mark": "point",
               "transform": [
                {
                 "filter": {
                  "selection": "selector156"
                 }
                }
               ]
              },
              {
               "data": {
                "name": "data-bf05aafd51f1956fc71fca24d0d2bc57"
               },
               "encoding": {
                "x": {
                 "field": "run_date",
                 "title": null,
                 "type": "temporal"
                }
               },
               "mark": {
                "color": "gray",
                "type": "rule"
               },
               "transform": [
                {
                 "filter": {
                  "selection": "selector157"
                 }
                },
                {
                 "filter": {
                  "selection": "selector156"
                 }
                }
               ]
              },
              {
               "data": {
                "name": "data-bf05aafd51f1956fc71fca24d0d2bc57"
               },
               "encoding": {
                "text": {
                 "condition": {
                  "field": "groups_created",
                  "selection": "selector157",
                  "type": "quantitative"
                 },
                 "value": " "
                },
                "x": {
                 "field": "run_date",
                 "title": null,
                 "type": "temporal"
                },
                "y": {
                 "field": "groups_created",
                 "scale": {
                  "domain": [
                   22,
                   27
                  ]
                 },
                 "type": "quantitative"
                }
               },
               "mark": {
                "align": "left",
                "dx": 5,
                "dy": -5,
                "type": "text"
               },
               "transform": [
                {
                 "filter": {
                  "selection": "selector156"
                 }
                }
               ]
              }
             ],
             "width": 420
            },
            {
             "height": 85,
             "layer": [
              {
               "data": {
                "name": "data-bf05aafd51f1956fc71fca24d0d2bc57"
               },
               "encoding": {
                "x": {
                 "field": "run_date",
                 "title": null,
                 "type": "temporal"
                },
                "y": {
                 "field": "total_user_logins",
                 "scale": {
                  "domain": [
                   765,
                   994
                  ]
                 },
                 "type": "quantitative"
                }
               },
               "mark": {
                "interpolate": "step-after",
                "type": "line"
               },
               "transform": [
                {
                 "filter": {
                  "selection": "selector156"
                 }
                }
               ]
              },
              {
               "data": {
                "name": "data-bf05aafd51f1956fc71fca24d0d2bc57"
               },
               "encoding": {
                "opacity": {
                 "value": 0
                },
                "x": {
                 "field": "run_date",
                 "title": null,
                 "type": "temporal"
                }
               },
               "mark": "point",
               "selection": {
                "selector157": {
                 "empty": "none",
                 "encodings": [
                  "x"
                 ],
                 "nearest": true,
                 "on": "mouseover",
                 "resolve": "global",
                 "type": "single"
                }
               },
               "transform": [
                {
                 "filter": {
                  "selection": "selector156"
                 }
                }
               ]
              },
              {
               "data": {
                "name": "data-bf05aafd51f1956fc71fca24d0d2bc57"
               },
               "encoding": {
                "opacity": {
                 "condition": {
                  "selection": "selector157",
                  "value": 1
                 },
                 "value": 0
                },
                "x": {
                 "field": "run_date",
                 "title": null,
                 "type": "temporal"
                },
                "y": {
                 "field": "total_user_logins",
                 "scale": {
                  "domain": [
                   765,
                   994
                  ]
                 },
                 "type": "quantitative"
                }
               },
               "mark": "point",
               "transform": [
                {
                 "filter": {
                  "selection": "selector156"
                 }
                }
               ]
              },
              {
               "data": {
                "name": "data-bf05aafd51f1956fc71fca24d0d2bc57"
               },
               "encoding": {
                "x": {
                 "field": "run_date",
                 "title": null,
                 "type": "temporal"
                }
               },
               "mark": {
                "color": "gray",
                "type": "rule"
               },
               "transform": [
                {
                 "filter": {
                  "selection": "selector157"
                 }
                },
                {
                 "filter": {
                  "selection": "selector156"
                 }
                }
               ]
              },
              {
               "data": {
                "name": "data-bf05aafd51f1956fc71fca24d0d2bc57"
               },
               "encoding": {
                "text": {
                 "condition": {
                  "field": "total_user_logins",
                  "selection": "selector157",
                  "type": "quantitative"
                 },
                 "value": " "
                },
                "x": {
                 "field": "run_date",
                 "title": null,
                 "type": "temporal"
                },
                "y": {
                 "field": "total_user_logins",
                 "scale": {
                  "domain": [
                   765,
                   994
                  ]
                 },
                 "type": "quantitative"
                }
               },
               "mark": {
                "align": "left",
                "dx": 5,
                "dy": -5,
                "type": "text"
               },
               "transform": [
                {
                 "filter": {
                  "selection": "selector156"
                 }
                }
               ]
              }
             ],
             "width": 420
            }
           ]
          },
          {
           "vconcat": [
            {
             "height": 85,
             "layer": [
              {
               "data": {
                "name": "data-bf05aafd51f1956fc71fca24d0d2bc57"
               },
               "encoding": {
                "x": {
                 "field": "run_date",
                 "title": null,
                 "type": "temporal"
                },
                "y": {
                 "field": "tot_viz_launches",
                 "scale": {
                  "domain": [
                   17,
                   80
                  ]
                 },
                 "type": "quantitative"
                }
               },
               "mark": {
                "interpolate": "step-after",
                "type": "line"
               },
               "transform": [
                {
                 "filter": {
                  "selection": "selector156"
                 }
                }
               ]
              },
              {
               "data": {
                "name": "data-bf05aafd51f1956fc71fca24d0d2bc57"
               },
               "encoding": {
                "opacity": {
                 "value": 0
                },
                "x": {
                 "field": "run_date",
                 "title": null,
                 "type": "temporal"
                }
               },
               "mark": "point",
               "selection": {
                "selector157": {
                 "empty": "none",
                 "encodings": [
                  "x"
                 ],
                 "nearest": true,
                 "on": "mouseover",
                 "resolve": "global",
                 "type": "single"
                }
               },
               "transform": [
                {
                 "filter": {
                  "selection": "selector156"
                 }
                }
               ]
              },
              {
               "data": {
                "name": "data-bf05aafd51f1956fc71fca24d0d2bc57"
               },
               "encoding": {
                "opacity": {
                 "condition": {
                  "selection": "selector157",
                  "value": 1
                 },
                 "value": 0
                },
                "x": {
                 "field": "run_date",
                 "title": null,
                 "type": "temporal"
                },
                "y": {
                 "field": "tot_viz_launches",
                 "scale": {
                  "domain": [
                   17,
                   80
                  ]
                 },
                 "type": "quantitative"
                }
               },
               "mark": "point",
               "transform": [
                {
                 "filter": {
                  "selection": "selector156"
                 }
                }
               ]
              },
              {
               "data": {
                "name": "data-bf05aafd51f1956fc71fca24d0d2bc57"
               },
               "encoding": {
                "x": {
                 "field": "run_date",
                 "title": null,
                 "type": "temporal"
                }
               },
               "mark": {
                "color": "gray",
                "type": "rule"
               },
               "transform": [
                {
                 "filter": {
                  "selection": "selector157"
                 }
                },
                {
                 "filter": {
                  "selection": "selector156"
                 }
                }
               ]
              },
              {
               "data": {
                "name": "data-bf05aafd51f1956fc71fca24d0d2bc57"
               },
               "encoding": {
                "text": {
                 "condition": {
                  "field": "tot_viz_launches",
                  "selection": "selector157",
                  "type": "quantitative"
                 },
                 "value": " "
                },
                "x": {
                 "field": "run_date",
                 "title": null,
                 "type": "temporal"
                },
                "y": {
                 "field": "tot_viz_launches",
                 "scale": {
                  "domain": [
                   17,
                   80
                  ]
                 },
                 "type": "quantitative"
                }
               },
               "mark": {
                "align": "left",
                "dx": 5,
                "dy": -5,
                "type": "text"
               },
               "transform": [
                {
                 "filter": {
                  "selection": "selector156"
                 }
                }
               ]
              }
             ],
             "width": 420
            },
            {
             "height": 85,
             "layer": [
              {
               "data": {
                "name": "data-bf05aafd51f1956fc71fca24d0d2bc57"
               },
               "encoding": {
                "x": {
                 "field": "run_date",
                 "title": null,
                 "type": "temporal"
                },
                "y": {
                 "field": "tot_wrkflow_launches",
                 "scale": {
                  "domain": [
                   6,
                   16
                  ]
                 },
                 "type": "quantitative"
                }
               },
               "mark": {
                "interpolate": "step-after",
                "type": "line"
               },
               "transform": [
                {
                 "filter": {
                  "selection": "selector156"
                 }
                }
               ]
              },
              {
               "data": {
                "name": "data-bf05aafd51f1956fc71fca24d0d2bc57"
               },
               "encoding": {
                "opacity": {
                 "value": 0
                },
                "x": {
                 "field": "run_date",
                 "title": null,
                 "type": "temporal"
                }
               },
               "mark": "point",
               "selection": {
                "selector157": {
                 "empty": "none",
                 "encodings": [
                  "x"
                 ],
                 "nearest": true,
                 "on": "mouseover",
                 "resolve": "global",
                 "type": "single"
                }
               },
               "transform": [
                {
                 "filter": {
                  "selection": "selector156"
                 }
                }
               ]
              },
              {
               "data": {
                "name": "data-bf05aafd51f1956fc71fca24d0d2bc57"
               },
               "encoding": {
                "opacity": {
                 "condition": {
                  "selection": "selector157",
                  "value": 1
                 },
                 "value": 0
                },
                "x": {
                 "field": "run_date",
                 "title": null,
                 "type": "temporal"
                },
                "y": {
                 "field": "tot_wrkflow_launches",
                 "scale": {
                  "domain": [
                   6,
                   16
                  ]
                 },
                 "type": "quantitative"
                }
               },
               "mark": "point",
               "transform": [
                {
                 "filter": {
                  "selection": "selector156"
                 }
                }
               ]
              },
              {
               "data": {
                "name": "data-bf05aafd51f1956fc71fca24d0d2bc57"
               },
               "encoding": {
                "x": {
                 "field": "run_date",
                 "title": null,
                 "type": "temporal"
                }
               },
               "mark": {
                "color": "gray",
                "type": "rule"
               },
               "transform": [
                {
                 "filter": {
                  "selection": "selector157"
                 }
                },
                {
                 "filter": {
                  "selection": "selector156"
                 }
                }
               ]
              },
              {
               "data": {
                "name": "data-bf05aafd51f1956fc71fca24d0d2bc57"
               },
               "encoding": {
                "text": {
                 "condition": {
                  "field": "tot_wrkflow_launches",
                  "selection": "selector157",
                  "type": "quantitative"
                 },
                 "value": " "
                },
                "x": {
                 "field": "run_date",
                 "title": null,
                 "type": "temporal"
                },
                "y": {
                 "field": "tot_wrkflow_launches",
                 "scale": {
                  "domain": [
                   6,
                   16
                  ]
                 },
                 "type": "quantitative"
                }
               },
               "mark": {
                "align": "left",
                "dx": 5,
                "dy": -5,
                "type": "text"
               },
               "transform": [
                {
                 "filter": {
                  "selection": "selector156"
                 }
                }
               ]
              }
             ],
             "width": 420
            },
            {
             "height": 85,
             "layer": [
              {
               "data": {
                "name": "data-bf05aafd51f1956fc71fca24d0d2bc57"
               },
               "encoding": {
                "x": {
                 "field": "run_date",
                 "title": null,
                 "type": "temporal"
                },
                "y": {
                 "field": "users_created",
                 "scale": {
                  "domain": [
                   91,
                   1234
                  ]
                 },
                 "type": "quantitative"
                }
               },
               "mark": {
                "interpolate": "step-after",
                "type": "line"
               },
               "transform": [
                {
                 "filter": {
                  "selection": "selector156"
                 }
                }
               ]
              },
              {
               "data": {
                "name": "data-bf05aafd51f1956fc71fca24d0d2bc57"
               },
               "encoding": {
                "opacity": {
                 "value": 0
                },
                "x": {
                 "field": "run_date",
                 "title": null,
                 "type": "temporal"
                }
               },
               "mark": "point",
               "selection": {
                "selector157": {
                 "empty": "none",
                 "encodings": [
                  "x"
                 ],
                 "nearest": true,
                 "on": "mouseover",
                 "resolve": "global",
                 "type": "single"
                }
               },
               "transform": [
                {
                 "filter": {
                  "selection": "selector156"
                 }
                }
               ]
              },
              {
               "data": {
                "name": "data-bf05aafd51f1956fc71fca24d0d2bc57"
               },
               "encoding": {
                "opacity": {
                 "condition": {
                  "selection": "selector157",
                  "value": 1
                 },
                 "value": 0
                },
                "x": {
                 "field": "run_date",
                 "title": null,
                 "type": "temporal"
                },
                "y": {
                 "field": "users_created",
                 "scale": {
                  "domain": [
                   91,
                   1234
                  ]
                 },
                 "type": "quantitative"
                }
               },
               "mark": "point",
               "transform": [
                {
                 "filter": {
                  "selection": "selector156"
                 }
                }
               ]
              },
              {
               "data": {
                "name": "data-bf05aafd51f1956fc71fca24d0d2bc57"
               },
               "encoding": {
                "x": {
                 "field": "run_date",
                 "title": null,
                 "type": "temporal"
                }
               },
               "mark": {
                "color": "gray",
                "type": "rule"
               },
               "transform": [
                {
                 "filter": {
                  "selection": "selector157"
                 }
                },
                {
                 "filter": {
                  "selection": "selector156"
                 }
                }
               ]
              },
              {
               "data": {
                "name": "data-bf05aafd51f1956fc71fca24d0d2bc57"
               },
               "encoding": {
                "text": {
                 "condition": {
                  "field": "users_created",
                  "selection": "selector157",
                  "type": "quantitative"
                 },
                 "value": " "
                },
                "x": {
                 "field": "run_date",
                 "title": null,
                 "type": "temporal"
                },
                "y": {
                 "field": "users_created",
                 "scale": {
                  "domain": [
                   91,
                   1234
                  ]
                 },
                 "type": "quantitative"
                }
               },
               "mark": {
                "align": "left",
                "dx": 5,
                "dy": -5,
                "type": "text"
               },
               "transform": [
                {
                 "filter": {
                  "selection": "selector156"
                 }
                }
               ]
              }
             ],
             "width": 420
            },
            {
             "height": 85,
             "layer": [
              {
               "data": {
                "name": "data-bf05aafd51f1956fc71fca24d0d2bc57"
               },
               "encoding": {
                "x": {
                 "field": "run_date",
                 "title": null,
                 "type": "temporal"
                },
                "y": {
                 "field": "unique_user_logins",
                 "scale": {
                  "domain": [
                   84,
                   247
                  ]
                 },
                 "type": "quantitative"
                }
               },
               "mark": {
                "interpolate": "step-after",
                "type": "line"
               },
               "transform": [
                {
                 "filter": {
                  "selection": "selector156"
                 }
                }
               ]
              },
              {
               "data": {
                "name": "data-bf05aafd51f1956fc71fca24d0d2bc57"
               },
               "encoding": {
                "opacity": {
                 "value": 0
                },
                "x": {
                 "field": "run_date",
                 "title": null,
                 "type": "temporal"
                }
               },
               "mark": "point",
               "selection": {
                "selector157": {
                 "empty": "none",
                 "encodings": [
                  "x"
                 ],
                 "nearest": true,
                 "on": "mouseover",
                 "resolve": "global",
                 "type": "single"
                }
               },
               "transform": [
                {
                 "filter": {
                  "selection": "selector156"
                 }
                }
               ]
              },
              {
               "data": {
                "name": "data-bf05aafd51f1956fc71fca24d0d2bc57"
               },
               "encoding": {
                "opacity": {
                 "condition": {
                  "selection": "selector157",
                  "value": 1
                 },
                 "value": 0
                },
                "x": {
                 "field": "run_date",
                 "title": null,
                 "type": "temporal"
                },
                "y": {
                 "field": "unique_user_logins",
                 "scale": {
                  "domain": [
                   84,
                   247
                  ]
                 },
                 "type": "quantitative"
                }
               },
               "mark": "point",
               "transform": [
                {
                 "filter": {
                  "selection": "selector156"
                 }
                }
               ]
              },
              {
               "data": {
                "name": "data-bf05aafd51f1956fc71fca24d0d2bc57"
               },
               "encoding": {
                "x": {
                 "field": "run_date",
                 "title": null,
                 "type": "temporal"
                }
               },
               "mark": {
                "color": "gray",
                "type": "rule"
               },
               "transform": [
                {
                 "filter": {
                  "selection": "selector157"
                 }
                },
                {
                 "filter": {
                  "selection": "selector156"
                 }
                }
               ]
              },
              {
               "data": {
                "name": "data-bf05aafd51f1956fc71fca24d0d2bc57"
               },
               "encoding": {
                "text": {
                 "condition": {
                  "field": "unique_user_logins",
                  "selection": "selector157",
                  "type": "quantitative"
                 },
                 "value": " "
                },
                "x": {
                 "field": "run_date",
                 "title": null,
                 "type": "temporal"
                },
                "y": {
                 "field": "unique_user_logins",
                 "scale": {
                  "domain": [
                   84,
                   247
                  ]
                 },
                 "type": "quantitative"
                }
               },
               "mark": {
                "align": "left",
                "dx": 5,
                "dy": -5,
                "type": "text"
               },
               "transform": [
                {
                 "filter": {
                  "selection": "selector156"
                 }
                }
               ]
              }
             ],
             "width": 420
            }
           ]
          }
         ]
        }
       ]
      },
      "image/png": "[encoded data removed]",
      "text/plain": [
       "<VegaLite 2 object>\n",
       "\n",
       "If you see this message, it means the renderer has not been properly enabled\n",
       "for the frontend that you are using. For more information, see\n",
       "https://altair-viz.github.io/user_guide/troubleshooting.html\n"
      ]
     },
     "execution_count": 170,
     "metadata": {},
     "output_type": "execute_result"
    }
   ],
   "source": [
    "# filter for desired columns\n",
    "columns = [col for col in total.columns.tolist() if col != 'run_date']\n",
    "\n",
    "brush = alt.selection_interval(encodings=['x'])\n",
    "nearest = alt.selection_single(nearest=True, on='mouseover', encodings=['x'], empty='none')\n",
    "\n",
    "base = alt.Chart(total).encode(\n",
    "    alt.X('run_date:T', title=None)\n",
    ")\n",
    "\n",
    "timeline = base.mark_rule().properties(\n",
    "    width=900,\n",
    "    height=30,\n",
    "    selection=brush\n",
    ")\n",
    "\n",
    "selectors = base.mark_point().encode(\n",
    "    opacity=alt.value(0),\n",
    ").properties(\n",
    "    selection=nearest\n",
    ").transform_filter(\n",
    "    brush\n",
    ")\n",
    "\n",
    "rules = base.mark_rule(color='gray').transform_filter(\n",
    "    nearest\n",
    ").transform_filter(\n",
    "    brush\n",
    ")\n",
    "\n",
    "charts = []\n",
    "for col in columns:\n",
    "    line = base.mark_line(interpolate='step-after').encode(\n",
    "        alt.Y(col + ':Q', scale=alt.Scale(domain=[total[col].min(), total[col].max()])),\n",
    "    ).transform_filter(\n",
    "        brush\n",
    "    )\n",
    "    \n",
    "    points = line.mark_point().encode(\n",
    "        opacity=alt.condition(nearest, alt.value(1), alt.value(0))\n",
    "    )\n",
    "    \n",
    "    text = line.mark_text(align='left', dx=5, dy=-5).encode(\n",
    "        text=alt.condition(nearest, col + ':Q', alt.value(' '))\n",
    "    ) \n",
    "    \n",
    "    chart = alt.layer(line, selectors, points, rules, text, width=420, height=85)\n",
    "    charts.append(chart)\n",
    "\n",
    "timeline & alt.hconcat(\n",
    "    alt.vconcat(*charts[:4]),\n",
    "    alt.vconcat(*charts[4:])\n",
    ")\n"
   ]
  },
  {
   "cell_type": "code",
   "execution_count": null,
   "metadata": {},
   "outputs": [],
   "source": []
  },
  {
   "cell_type": "code",
   "execution_count": null,
   "metadata": {},
   "outputs": [],
   "source": []
  }
 ],
 "metadata": {
  "kernelspec": {
   "display_name": "Python 3",
   "language": "python",
   "name": "python3"
  },
  "language_info": {
   "codemirror_mode": {
    "name": "ipython",
    "version": 3
   },
   "file_extension": ".py",
   "mimetype": "text/x-python",
   "name": "python",
   "nbconvert_exporter": "python",
   "pygments_lexer": "ipython3",
   "version": "3.6.4"
  }
 },
 "nbformat": 4,
 "nbformat_minor": 2
}
